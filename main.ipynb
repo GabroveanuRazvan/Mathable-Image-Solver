{
 "cells": [
  {
   "metadata": {
    "ExecuteTime": {
     "end_time": "2024-12-04T13:48:53.220199Z",
     "start_time": "2024-12-04T13:48:11.864565Z"
    }
   },
   "cell_type": "code",
   "source": [
    "\n",
    "from library import mathable_solver as s\n",
    "\n",
    "source_images_dir = \"./testare\"\n",
    "output_destination_dir = \"./343_Gabroveanu_Razvan\"\n",
    "\n",
    "# Create a solver for each data set and classify the images\n",
    "# A data set consists of a set of images that are named (data_set_index)_(image_index)\n",
    "for i in range(0,4):\n",
    "    solver = s.Solver(i+1,src_images_dir=source_images_dir,output_dest_dir=output_destination_dir)\n",
    "    solver.solve()"
   ],
   "id": "7f19211c31e0b945",
   "outputs": [
    {
     "name": "stderr",
     "output_type": "stream",
     "text": [
      "100%|██████████| 50/50 [00:09<00:00,  5.37it/s]\n",
      "100%|██████████| 50/50 [00:00<00:00, 96.48it/s] \n",
      "100%|██████████| 50/50 [00:00<00:00, 139.63it/s]\n",
      "100%|██████████| 50/50 [00:09<00:00,  5.33it/s]\n",
      "100%|██████████| 50/50 [00:00<00:00, 91.12it/s]\n",
      "100%|██████████| 50/50 [00:00<00:00, 161.33it/s]\n",
      "100%|██████████| 50/50 [00:09<00:00,  5.34it/s]\n",
      "100%|██████████| 50/50 [00:00<00:00, 100.89it/s]\n",
      "100%|██████████| 50/50 [00:00<00:00, 126.40it/s]\n",
      "100%|██████████| 50/50 [00:09<00:00,  5.34it/s]\n",
      "100%|██████████| 50/50 [00:00<00:00, 107.23it/s]\n",
      "100%|██████████| 50/50 [00:00<00:00, 157.30it/s]\n"
     ]
    }
   ],
   "execution_count": 2
  }
 ],
 "metadata": {
  "kernelspec": {
   "display_name": "Python 3",
   "language": "python",
   "name": "python3"
  },
  "language_info": {
   "codemirror_mode": {
    "name": "ipython",
    "version": 2
   },
   "file_extension": ".py",
   "mimetype": "text/x-python",
   "name": "python",
   "nbconvert_exporter": "python",
   "pygments_lexer": "ipython2",
   "version": "2.7.6"
  }
 },
 "nbformat": 4,
 "nbformat_minor": 5
}
