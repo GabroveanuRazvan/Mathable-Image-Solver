{
 "cells": [
  {
   "metadata": {},
   "cell_type": "markdown",
   "source": "## Imports",
   "id": "fc05180e12bcabc1"
  },
  {
   "cell_type": "code",
   "id": "initial_id",
   "metadata": {
    "collapsed": true,
    "ExecuteTime": {
     "end_time": "2024-11-20T20:58:13.460365Z",
     "start_time": "2024-11-20T20:58:13.112034Z"
    }
   },
   "source": [
    "import time\n",
    "\n",
    "import numpy as np\n",
    "import cv2 as cv\n",
    "import os\n",
    "import glob\n",
    "import matplotlib.pyplot as plt\n",
    "from cv2 import cvtColor\n",
    "from numpy.random import uniform\n",
    "import pdb\n",
    "from tqdm import tqdm\n",
    "\n",
    "import utils\n",
    "from utils import show_image_matplot,show_image_cv"
   ],
   "outputs": [],
   "execution_count": 1
  },
  {
   "metadata": {
    "ExecuteTime": {
     "end_time": "2024-11-20T20:58:26.815221Z",
     "start_time": "2024-11-20T20:58:13.465436Z"
    }
   },
   "cell_type": "code",
   "source": "game_tables = utils.extract_game(utils.get_image_paths(\"antrenare\",1))",
   "id": "46642db5e9549dc8",
   "outputs": [
    {
     "name": "stderr",
     "output_type": "stream",
     "text": [
      "100%|██████████| 50/50 [00:13<00:00,  3.75it/s]\n"
     ]
    }
   ],
   "execution_count": 2
  },
  {
   "metadata": {
    "ExecuteTime": {
     "end_time": "2024-11-20T20:58:27.330301Z",
     "start_time": "2024-11-20T20:58:26.850719Z"
    }
   },
   "cell_type": "code",
   "source": "relevant_game_tables = utils.extract_relevant_game(game_tables)",
   "id": "4ab7a68b6e45ce36",
   "outputs": [
    {
     "name": "stderr",
     "output_type": "stream",
     "text": [
      "100%|██████████| 50/50 [00:00<00:00, 134.27it/s]\n"
     ]
    }
   ],
   "execution_count": 3
  },
  {
   "metadata": {
    "ExecuteTime": {
     "end_time": "2024-11-20T20:58:27.480136Z",
     "start_time": "2024-11-20T20:58:27.336897Z"
    }
   },
   "cell_type": "code",
   "source": "delimited_tables = utils.draw_lines(relevant_game_tables)",
   "id": "c5db5fa377941776",
   "outputs": [
    {
     "name": "stderr",
     "output_type": "stream",
     "text": [
      "100%|██████████| 50/50 [00:00<00:00, 928.86it/s]\n"
     ]
    }
   ],
   "execution_count": 4
  },
  {
   "metadata": {
    "ExecuteTime": {
     "end_time": "2024-11-20T20:58:27.488592Z",
     "start_time": "2024-11-20T20:58:27.487181Z"
    }
   },
   "cell_type": "code",
   "source": [
    "# utils.store_template_numbers1(10)\n",
    "# utils.store_template_numbers2(8)"
   ],
   "id": "3fe077815b7425e9",
   "outputs": [],
   "execution_count": 5
  },
  {
   "metadata": {
    "ExecuteTime": {
     "end_time": "2024-11-20T20:58:27.534965Z",
     "start_time": "2024-11-20T20:58:27.532217Z"
    }
   },
   "cell_type": "code",
   "source": [
    "# utils.store_binary_templates(100,\"./templates/sample1\",\"./templates_binary/sample1\")\n",
    "# utils.store_binary_templates(100)"
   ],
   "id": "7a19d8cf4b09f384",
   "outputs": [],
   "execution_count": 6
  },
  {
   "metadata": {
    "ExecuteTime": {
     "end_time": "2024-11-20T20:58:27.583173Z",
     "start_time": "2024-11-20T20:58:27.580513Z"
    }
   },
   "cell_type": "code",
   "source": "# new_templates = crop_and_store_templates()",
   "id": "8e5f89cdfc3447ac",
   "outputs": [],
   "execution_count": 7
  },
  {
   "metadata": {
    "ExecuteTime": {
     "end_time": "2024-11-20T20:58:27.629689Z",
     "start_time": "2024-11-20T20:58:27.627452Z"
    }
   },
   "cell_type": "code",
   "source": "#utils.rewrite_all()",
   "id": "80240a495e9a035c",
   "outputs": [],
   "execution_count": 8
  },
  {
   "metadata": {
    "ExecuteTime": {
     "end_time": "2024-11-20T21:13:39.316801Z",
     "start_time": "2024-11-20T21:13:39.312653Z"
    }
   },
   "cell_type": "code",
   "source": [
    "from utils import get_mathable_pieces_numbers, get_lines_coords\n",
    "\n",
    "\n",
    "def classify_number(patch,templates_path = \"./templates_cropped\"):\n",
    "\n",
    "    maxi = -np.inf\n",
    "    chosen_number = -1\n",
    "    numbers = get_mathable_pieces_numbers()\n",
    "\n",
    "    num_whites_patch = np.sum(patch == 255)\n",
    "\n",
    "    for number in numbers:\n",
    "        template = cv.imread(templates_path+ \"/\" + str(number) + \".jpg\")\n",
    "        template = cv.cvtColor(template, cv.COLOR_BGR2GRAY)\n",
    "\n",
    "        num_whites_template = np.sum(template == 255)\n",
    "\n",
    "        if num_whites_template * 1.95 < num_whites_patch:\n",
    "            continue\n",
    "\n",
    "        corr = cv.matchTemplate(patch,template, cv.TM_CCOEFF_NORMED)\n",
    "        corr=np.max(corr)\n",
    "\n",
    "        if corr > maxi:\n",
    "            maxi = corr\n",
    "            chosen_number = number\n",
    "\n",
    "\n",
    "    return chosen_number\n",
    "\n",
    "def match_numbers(binary_image, offset):\n",
    "    lines_vertical,lines_horizontal = get_lines_coords()\n",
    "\n",
    "    coords={}\n",
    "\n",
    "    for i in range(len(lines_horizontal)-1):\n",
    "        for j in range(len(lines_vertical)-1):\n",
    "\n",
    "            y_min = lines_vertical[j][0][0] + offset\n",
    "            y_max = lines_vertical[j + 1][1][0] - offset\n",
    "            x_min = lines_horizontal[i][0][1] + offset\n",
    "            x_max = lines_horizontal[i + 1][1][1] - offset\n",
    "\n",
    "            patch = binary_image[x_min:x_max,y_min:y_max].copy()\n",
    "            # patches.append(patch)\n",
    "\n",
    "            if (i==6 or i==7) and (j==6 or j==7):\n",
    "                continue\n",
    "\n",
    "            mean = np.mean(binary_image[x_min+20:x_max-20,y_min+20:y_max-20].copy())\n",
    "\n",
    "\n",
    "            if mean > 0:\n",
    "                predicted_number = classify_number(patch)\n",
    "                coords[(i,j)] = predicted_number\n",
    "\n",
    "    return coords\n"
   ],
   "id": "eff34367e023cf3b",
   "outputs": [],
   "execution_count": 25
  },
  {
   "metadata": {
    "ExecuteTime": {
     "end_time": "2024-11-20T21:50:48.441648Z",
     "start_time": "2024-11-20T21:49:21.906204Z"
    }
   },
   "cell_type": "code",
   "source": [
    "def move_train_data(train_number,dest_path = \"./train\"):\n",
    "    img_prefix = str(train_number)+ \"_\"\n",
    "\n",
    "    for i in range(9):\n",
    "        img_name = img_prefix + \"0\" +str(i+1) + \".jpg\"\n",
    "        img_path = \"./antrenare/\" + img_name\n",
    "        img = cv.imread(img_path)\n",
    "        cv.imwrite(dest_path +\"/\" + img_name, img)\n",
    "\n",
    "    for i in range(9,50):\n",
    "        img_path = \"./antrenare/\" + img_prefix + str(i+1) + \".jpg\"\n",
    "        img_name = img_prefix +str(i+1) + \".jpg\"\n",
    "        img = cv.imread(img_path)\n",
    "        cv.imwrite(dest_path +\"/\" + img_name, img)\n",
    "\n",
    "# for i in range(4):\n",
    "#     move_train_data(i+1)\n",
    "\n"
   ],
   "id": "f287a474f5afe5a7",
   "outputs": [],
   "execution_count": 54
  },
  {
   "metadata": {
    "ExecuteTime": {
     "end_time": "2024-11-20T22:00:38.550558Z",
     "start_time": "2024-11-20T21:58:41.386438Z"
    }
   },
   "cell_type": "code",
   "source": [
    "\n",
    "def solve(train_number,src_path = \"./train\",output_dest_path = \"./343_Gabroveanu_Razvan\"):\n",
    "\n",
    "    game_tables = utils.extract_game(utils.get_image_paths(src_path,train_number))\n",
    "    relevant_game_tables = utils.extract_relevant_game(game_tables)\n",
    "\n",
    "    visited = np.zeros((14,14),dtype=np.uint8)\n",
    "    output_file_prefix = \"/\" + str(train_number) + \"_\"\n",
    "\n",
    "    for i in tqdm(range(len(relevant_game_tables))):\n",
    "\n",
    "        table = relevant_game_tables[i]\n",
    "        table = cv.cvtColor(table, cv.COLOR_BGR2GRAY)\n",
    "        _,table_binary = cv.threshold(table,70,255,cv.THRESH_BINARY_INV)\n",
    "\n",
    "        result_dict = match_numbers(table_binary,8)\n",
    "\n",
    "        for indexes,predicted_number in result_dict.items():\n",
    "            row,col = indexes\n",
    "\n",
    "            if visited[row,col] == 1:\n",
    "                continue\n",
    "\n",
    "            output = str(row+1) + chr(65 + col)+ \" \" + str(predicted_number)\n",
    "            output_file_path = output_dest_path + output_file_prefix\n",
    "\n",
    "            if i in range(0,9):\n",
    "                output_file_path = output_file_path + \"0\"\n",
    "\n",
    "            output_file_path = output_file_path + str(i+1) + \".txt\"\n",
    "\n",
    "            with open(output_file_path,\"w\") as file:\n",
    "                file.write(output)\n",
    "\n",
    "            visited[row,col] = 1\n",
    "\n",
    "    with open(output_dest_path + \"/\" + str(train_number) + \"_scores.txt\",\"w\") as file:\n",
    "        pass\n",
    "\n",
    "    with open(output_dest_path + \"/\" + str(train_number) + \"_turns.txt\",\"w\") as file:\n",
    "        pass\n",
    "\n",
    "\n",
    "for i in range(4):\n",
    "    solve(i+1)\n",
    "\n"
   ],
   "id": "4c6068416697eccb",
   "outputs": [
    {
     "name": "stderr",
     "output_type": "stream",
     "text": [
      "100%|██████████| 50/50 [00:11<00:00,  4.27it/s]\n",
      "100%|██████████| 50/50 [00:00<00:00, 123.48it/s]\n",
      "100%|██████████| 50/50 [00:16<00:00,  2.96it/s]\n",
      "100%|██████████| 50/50 [00:11<00:00,  4.27it/s]\n",
      "100%|██████████| 50/50 [00:00<00:00, 117.22it/s]\n",
      "100%|██████████| 50/50 [00:16<00:00,  3.02it/s]\n",
      "100%|██████████| 50/50 [00:11<00:00,  4.29it/s]\n",
      "100%|██████████| 50/50 [00:00<00:00, 124.36it/s]\n",
      "100%|██████████| 50/50 [00:17<00:00,  2.85it/s]\n",
      "100%|██████████| 50/50 [00:11<00:00,  4.30it/s]\n",
      "100%|██████████| 50/50 [00:00<00:00, 122.41it/s]\n",
      "100%|██████████| 50/50 [00:17<00:00,  2.90it/s]\n"
     ]
    }
   ],
   "execution_count": 58
  },
  {
   "metadata": {
    "ExecuteTime": {
     "end_time": "2024-11-20T21:17:44.327300Z",
     "start_time": "2024-11-20T21:17:44.002765Z"
    }
   },
   "cell_type": "code",
   "source": [
    "\n",
    "all_sample = utils.extract_game([\"./imagini_auxiliare/03.jpg\"])\n",
    "all_sample = utils.extract_relevant_game(all_sample)[0]\n",
    "\n",
    "all_sample = cv.cvtColor(all_sample, cv.COLOR_BGR2GRAY)\n",
    "_,all_sample = cv.threshold(all_sample,70,255,cv.THRESH_BINARY_INV)\n",
    "\n",
    "# show_image_cv(\"\",all_sample,fx=0.3,fy = 0.3)\n",
    "\n",
    "sample = relevant_game_tables[0]\n",
    "sample = cv.cvtColor(sample,cv.COLOR_BGR2GRAY)\n",
    "_,sample = cv.threshold(sample,70,255,cv.THRESH_BINARY_INV)\n",
    "\n",
    "coords = match_numbers(sample, offset = 8)"
   ],
   "id": "5b3b7d70dc21fc9c",
   "outputs": [
    {
     "name": "stderr",
     "output_type": "stream",
     "text": [
      "100%|██████████| 1/1 [00:00<00:00,  3.62it/s]\n",
      "100%|██████████| 1/1 [00:00<00:00, 103.06it/s]\n"
     ]
    }
   ],
   "execution_count": 41
  },
  {
   "metadata": {
    "ExecuteTime": {
     "end_time": "2024-11-20T21:17:46.093174Z",
     "start_time": "2024-11-20T21:17:46.090483Z"
    }
   },
   "cell_type": "code",
   "source": "print(coords)",
   "id": "c521dd03dd04895c",
   "outputs": [
    {
     "name": "stdout",
     "output_type": "stream",
     "text": [
      "{(8, 7): 8}\n"
     ]
    }
   ],
   "execution_count": 43
  },
  {
   "metadata": {
    "ExecuteTime": {
     "end_time": "2024-11-20T21:56:24.971420Z",
     "start_time": "2024-11-20T21:56:24.968791Z"
    }
   },
   "cell_type": "code",
   "source": "",
   "id": "56f6c59e23ec6b7",
   "outputs": [],
   "execution_count": 57
  },
  {
   "metadata": {
    "ExecuteTime": {
     "end_time": "2024-11-20T20:58:27.862057208Z",
     "start_time": "2024-11-20T19:27:11.403272Z"
    }
   },
   "cell_type": "code",
   "source": "\n",
   "id": "21677576f6a961f7",
   "outputs": [],
   "execution_count": 12
  }
 ],
 "metadata": {
  "kernelspec": {
   "display_name": "Python 3",
   "language": "python",
   "name": "python3"
  },
  "language_info": {
   "codemirror_mode": {
    "name": "ipython",
    "version": 2
   },
   "file_extension": ".py",
   "mimetype": "text/x-python",
   "name": "python",
   "nbconvert_exporter": "python",
   "pygments_lexer": "ipython2",
   "version": "2.7.6"
  }
 },
 "nbformat": 4,
 "nbformat_minor": 5
}
