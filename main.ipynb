{
 "cells": [
  {
   "metadata": {},
   "cell_type": "markdown",
   "source": "## Imports",
   "id": "fc05180e12bcabc1"
  },
  {
   "cell_type": "code",
   "id": "initial_id",
   "metadata": {
    "collapsed": true,
    "ExecuteTime": {
     "end_time": "2024-11-18T10:18:08.232521Z",
     "start_time": "2024-11-18T10:18:07.772639Z"
    }
   },
   "source": [
    "import time\n",
    "\n",
    "import numpy as np\n",
    "import cv2 as cv\n",
    "import os\n",
    "import glob\n",
    "import matplotlib.pyplot as plt\n",
    "from numpy.random import uniform\n",
    "import pdb\n",
    "from tqdm import tqdm\n",
    "\n"
   ],
   "outputs": [],
   "execution_count": 1
  },
  {
   "metadata": {},
   "cell_type": "markdown",
   "source": "",
   "id": "b837dbb8415c3dd8"
  },
  {
   "metadata": {},
   "cell_type": "markdown",
   "source": "## Show functions",
   "id": "348ac1e3c2b5afba"
  },
  {
   "metadata": {
    "ExecuteTime": {
     "end_time": "2024-11-18T10:26:15.158755Z",
     "start_time": "2024-11-18T10:26:15.154579Z"
    }
   },
   "cell_type": "code",
   "source": [
    "def show_image_cv(title,image,fx=0.2,fy=0.2,output = True):\n",
    "\n",
    "    if not output:\n",
    "        return\n",
    "\n",
    "    image = cv.resize(image,(0,0),fx=fx,fy=fy)\n",
    "    cv.imshow(title, image)\n",
    "    cv.waitKey(0)\n",
    "    cv.destroyAllWindows()\n",
    "\n",
    "def show_image_matplot(title, image,fx=0.3,fy=0.3,output = True):\n",
    "    if not output:\n",
    "        return\n",
    "\n",
    "    image_resized = cv.resize(image, (0, 0), fx=fx, fy=fy)\n",
    "\n",
    "    image = cv.cvtColor(image_resized, cv.COLOR_BGR2RGB)\n",
    "\n",
    "    plt.imshow(image)\n",
    "    plt.title(title)\n",
    "    plt.axis('off')  # Ascunde axele pentru a afișa doar imaginea\n",
    "    plt.show()"
   ],
   "id": "c5db5fa377941776",
   "outputs": [],
   "execution_count": 24
  },
  {
   "metadata": {},
   "cell_type": "markdown",
   "source": "## Directory and files functions",
   "id": "dfe342cc9c626820"
  },
  {
   "metadata": {
    "ExecuteTime": {
     "end_time": "2024-11-18T10:18:08.282925Z",
     "start_time": "2024-11-18T10:18:08.280794Z"
    }
   },
   "cell_type": "code",
   "source": [
    "def get_image_paths(dir,index):\n",
    "    image_paths = os.listdir(dir)\n",
    "    image_paths = [\"./\" + dir + \"/\" + file for file in image_paths if file[0:2] == str(index) + \"_\" and file[-4:] == \".jpg\"]\n",
    "    return sorted(image_paths)\n"
   ],
   "id": "f053a61260709236",
   "outputs": [],
   "execution_count": 3
  },
  {
   "metadata": {},
   "cell_type": "markdown",
   "source": "## HSV masking",
   "id": "a7dee6a17d02dbb6"
  },
  {
   "metadata": {
    "ExecuteTime": {
     "end_time": "2024-11-18T10:18:08.330342Z",
     "start_time": "2024-11-18T10:18:08.327093Z"
    }
   },
   "cell_type": "code",
   "source": [
    "# hsv mask\n",
    "\n",
    "def get_outer_masked_image(img,output = False):\n",
    "    lower_hsv_bound = np.array([20,0,0])\n",
    "    upper_hsv_bound = np.array([255,255,255])\n",
    "    hsv_image = cv.cvtColor(img, cv.COLOR_BGR2HSV)\n",
    "\n",
    "    mask = cv.inRange(hsv_image, lower_hsv_bound, upper_hsv_bound)\n",
    "    show_image_cv(\"mask\",mask,output = output)\n",
    "\n",
    "    new_image = cv.bitwise_and(img, img, mask=mask)\n",
    "    show_image_cv(\"ceva\",new_image,output = output)\n",
    "\n",
    "    return new_image\n",
    "\n"
   ],
   "id": "426c65a0784699b7",
   "outputs": [],
   "execution_count": 4
  },
  {
   "metadata": {},
   "cell_type": "markdown",
   "source": "## Get game contour function\n",
   "id": "704c264740ed0eac"
  },
  {
   "metadata": {
    "ExecuteTime": {
     "end_time": "2024-11-18T10:18:08.386607Z",
     "start_time": "2024-11-18T10:18:08.380135Z"
    }
   },
   "cell_type": "code",
   "source": [
    "def get_game_countour(image,output = False):\n",
    "\n",
    "    masked_image = get_outer_masked_image(image)\n",
    "    masked_image_grey = cv.cvtColor(masked_image, cv.COLOR_BGR2GRAY)\n",
    "\n",
    "    show_image_cv(\"masked_image_grey\",masked_image_grey,output = output)\n",
    "\n",
    "    masked_image_grey = cv.medianBlur(masked_image_grey,3)\n",
    "    show_image_cv('median_blur_image',masked_image_grey,output = output)\n",
    "\n",
    "    contours, _ = cv.findContours(masked_image_grey,  cv.RETR_EXTERNAL, cv.CHAIN_APPROX_SIMPLE)\n",
    "\n",
    "    max_area = 0\n",
    "    for i in range(len(contours)):\n",
    "            if(len(contours[i]) >3):\n",
    "                possible_top_left = None\n",
    "                possible_bottom_right = None\n",
    "                for point in contours[i].squeeze():\n",
    "                    if possible_top_left is None or point[0] + point[1] < possible_top_left[0] + possible_top_left[1]:\n",
    "                        possible_top_left = point\n",
    "\n",
    "                    if possible_bottom_right is None or point[0] + point[1] > possible_bottom_right[0] + possible_bottom_right[1] :\n",
    "                        possible_bottom_right = point\n",
    "\n",
    "                diff = np.diff(contours[i].squeeze(), axis = 1)\n",
    "                possible_top_right = contours[i].squeeze()[np.argmin(diff)]\n",
    "                possible_bottom_left = contours[i].squeeze()[np.argmax(diff)]\n",
    "                if cv.contourArea(np.array([[possible_top_left],[possible_top_right],[possible_bottom_right],[possible_bottom_left]])) > max_area:\n",
    "                    max_area = cv.contourArea(np.array([[possible_top_left],[possible_top_right],[possible_bottom_right],[possible_bottom_left]]))\n",
    "                    top_left = possible_top_left\n",
    "                    bottom_right = possible_bottom_right\n",
    "                    top_right = possible_top_right\n",
    "                    bottom_left = possible_bottom_left\n",
    "\n",
    "\n",
    "    image_copy = cv.cvtColor(masked_image_grey.copy(),cv.COLOR_GRAY2BGR)\n",
    "    cv.circle(image_copy,tuple(top_left),20,(0,0,255),-1)\n",
    "    cv.circle(image_copy,tuple(top_right),20,(0,0,255),-1)\n",
    "    cv.circle(image_copy,tuple(bottom_left),20,(0,0,255),-1)\n",
    "    cv.circle(image_copy,tuple(bottom_right),20,(0,0,255),-1)\n",
    "    show_image_cv(\"detected corners\",image_copy,output = output)\n",
    "\n",
    "\n",
    "    width = 810\n",
    "    height = 810\n",
    "\n",
    "    puzzle = np.array([top_left,top_right,bottom_left,bottom_right],dtype=np.float32)\n",
    "    destination = np.array([[0,0],[width,0],[0,height],[width,height]],dtype=np.float32)\n",
    "    M = cv.getPerspectiveTransform(puzzle,destination)\n",
    "    result = cv.warpPerspective(image,M,(width,height))\n",
    "\n",
    "    return result"
   ],
   "id": "11bac8635a3ec320",
   "outputs": [],
   "execution_count": 5
  },
  {
   "metadata": {},
   "cell_type": "markdown",
   "source": "## Game table extractor",
   "id": "84ebd167f6ea699a"
  },
  {
   "metadata": {
    "ExecuteTime": {
     "end_time": "2024-11-18T10:18:08.436772Z",
     "start_time": "2024-11-18T10:18:08.431098Z"
    }
   },
   "cell_type": "code",
   "source": [
    "def extract_game(image_paths,size = 1000):\n",
    "    images = []\n",
    "    size = size if size <= len(image_paths) else len(image_paths)\n",
    "    for i in tqdm(range(size)):\n",
    "        img = cv.imread(image_paths[i])\n",
    "        result = get_game_countour(img)\n",
    "        images.append(result)\n",
    "    return np.array(images)\n",
    "\n",
    "def strip_margins(img,output = False):\n",
    "\n",
    "    img = img.copy()\n",
    "    img_grey = cv.cvtColor(img, cv.COLOR_BGR2GRAY)\n",
    "    BLACK = 0\n",
    "\n",
    "    height,width,_ = img.shape\n",
    "\n",
    "    # somewhere between 13% and 14% of the height and width of the image\n",
    "    top_margin = 107\n",
    "    bottom_margin = height - 102\n",
    "    left_margin = 107\n",
    "    right_margin = width - 105\n",
    "\n",
    "    img_grey[:top_margin, :] = BLACK\n",
    "    img_grey[bottom_margin:, :] = BLACK\n",
    "\n",
    "    img_grey[:, :left_margin] = BLACK\n",
    "    img_grey[:, right_margin:] = BLACK\n",
    "\n",
    "    show_image_cv(\"ceva\",img_grey,fx=1,fy=1,output = output)\n",
    "\n",
    "    masked_image_grey = img_grey\n",
    "\n",
    "    contours, _ = cv.findContours(masked_image_grey,  cv.RETR_EXTERNAL, cv.CHAIN_APPROX_SIMPLE)\n",
    "\n",
    "    max_area = 0\n",
    "    for i in range(len(contours)):\n",
    "            if(len(contours[i]) >3):\n",
    "                possible_top_left = None\n",
    "                possible_bottom_right = None\n",
    "                for point in contours[i].squeeze():\n",
    "                    if possible_top_left is None or point[0] + point[1] < possible_top_left[0] + possible_top_left[1]:\n",
    "                        possible_top_left = point\n",
    "\n",
    "                    if possible_bottom_right is None or point[0] + point[1] > possible_bottom_right[0] + possible_bottom_right[1] :\n",
    "                        possible_bottom_right = point\n",
    "\n",
    "                diff = np.diff(contours[i].squeeze(), axis = 1)\n",
    "                possible_top_right = contours[i].squeeze()[np.argmin(diff)]\n",
    "                possible_bottom_left = contours[i].squeeze()[np.argmax(diff)]\n",
    "                if cv.contourArea(np.array([[possible_top_left],[possible_top_right],[possible_bottom_right],[possible_bottom_left]])) > max_area:\n",
    "                    max_area = cv.contourArea(np.array([[possible_top_left],[possible_top_right],[possible_bottom_right],[possible_bottom_left]]))\n",
    "                    top_left = possible_top_left\n",
    "                    bottom_right = possible_bottom_right\n",
    "                    top_right = possible_top_right\n",
    "                    bottom_left = possible_bottom_left\n",
    "\n",
    "\n",
    "    image_copy = cv.cvtColor(masked_image_grey.copy(),cv.COLOR_GRAY2BGR)\n",
    "    cv.circle(image_copy,tuple(top_left),2,(0,0,255),-1)\n",
    "    cv.circle(image_copy,tuple(top_right),2,(0,0,255),-1)\n",
    "    cv.circle(image_copy,tuple(bottom_left),2,(0,0,255),-1)\n",
    "    cv.circle(image_copy,tuple(bottom_right),2,(0,0,255),-1)\n",
    "    show_image_cv(\"detected corners\",image_copy,output = output,fx=1,fy=1)\n",
    "\n",
    "\n",
    "    width = 14 * 60\n",
    "    height = 14 * 60\n",
    "\n",
    "    puzzle = np.array([top_left,top_right,bottom_left,bottom_right],dtype=np.float32)\n",
    "    destination = np.array([[0,0],[width,0],[0,height],[width,height]],dtype=np.float32)\n",
    "    M = cv.getPerspectiveTransform(puzzle,destination)\n",
    "    result = cv.warpPerspective(img,M,(width,height))\n",
    "\n",
    "    return result\n",
    "\n",
    "def extract_relevant_game(images):\n",
    "    new_images = []\n",
    "\n",
    "    for image in tqdm(images):\n",
    "        new_images.append(strip_margins(image))\n",
    "\n",
    "    return np.array(new_images)\n"
   ],
   "id": "706ddf36e66ab4c0",
   "outputs": [],
   "execution_count": 6
  },
  {
   "metadata": {
    "ExecuteTime": {
     "end_time": "2024-11-18T10:18:23.162742Z",
     "start_time": "2024-11-18T10:18:08.480749Z"
    }
   },
   "cell_type": "code",
   "source": "game_tables = extract_game(get_image_paths(\"antrenare\",1))",
   "id": "a49506e401cab4a3",
   "outputs": [
    {
     "name": "stderr",
     "output_type": "stream",
     "text": [
      "100%|██████████| 50/50 [00:14<00:00,  3.41it/s]\n"
     ]
    }
   ],
   "execution_count": 7
  },
  {
   "metadata": {
    "ExecuteTime": {
     "end_time": "2024-11-18T10:18:23.356880Z",
     "start_time": "2024-11-18T10:18:23.170806Z"
    }
   },
   "cell_type": "code",
   "source": "relevant_game_tables = extract_relevant_game(game_tables)",
   "id": "1f1c8190f76e7230",
   "outputs": [
    {
     "name": "stderr",
     "output_type": "stream",
     "text": [
      "100%|██████████| 50/50 [00:00<00:00, 318.86it/s]\n"
     ]
    }
   ],
   "execution_count": 8
  },
  {
   "metadata": {},
   "cell_type": "markdown",
   "source": "## Cell delimiter function",
   "id": "d7bc1be15a17fccf"
  },
  {
   "metadata": {
    "ExecuteTime": {
     "end_time": "2024-11-18T10:18:23.366073Z",
     "start_time": "2024-11-18T10:18:23.363406Z"
    }
   },
   "cell_type": "code",
   "source": [
    "def draw_lines(images):\n",
    "\n",
    "    new_images = images.copy()\n",
    "\n",
    "    lines_horizontal = []\n",
    "    for i in range(0,14*60+1,60):\n",
    "        line = []\n",
    "        line.append((0,i))\n",
    "        line.append((14*60-1,i))\n",
    "        lines_horizontal.append(line)\n",
    "\n",
    "    lines_vertical = []\n",
    "    for i in range(0,14*60+1,60):\n",
    "        line = []\n",
    "        line.append((i,0))\n",
    "        line.append((i,14*60-1))\n",
    "        lines_vertical.append(line)\n",
    "\n",
    "    GREEN = (0,255,0)\n",
    "    RED = (0,0,255)\n",
    "\n",
    "    for image in tqdm(new_images):\n",
    "        for line in lines_vertical:\n",
    "            cv.line(image,line[0],line[1],GREEN,2)\n",
    "\n",
    "        for line in lines_horizontal:\n",
    "            cv.line(image,line[0],line[1],RED,2)\n",
    "\n",
    "    return new_images\n"
   ],
   "id": "f3b3d60cd9d84237",
   "outputs": [],
   "execution_count": 9
  },
  {
   "metadata": {
    "ExecuteTime": {
     "end_time": "2024-11-18T10:18:27.535589Z",
     "start_time": "2024-11-18T10:18:23.410193Z"
    }
   },
   "cell_type": "code",
   "source": [
    "delimited_tables = draw_lines(relevant_game_tables)\n",
    "\n",
    "for image in delimited_tables:\n",
    "    show_image_cv(\"cevas\",image,fx=1,fy=1)\n",
    "    break"
   ],
   "id": "7d5b78bbeb276851",
   "outputs": [
    {
     "name": "stderr",
     "output_type": "stream",
     "text": [
      "100%|██████████| 50/50 [00:00<00:00, 2413.68it/s]\n",
      "Warning: Ignoring XDG_SESSION_TYPE=wayland on Gnome. Use QT_QPA_PLATFORM=wayland to run on Wayland anyway.\n"
     ]
    }
   ],
   "execution_count": 10
  },
  {
   "metadata": {
    "ExecuteTime": {
     "end_time": "2024-11-18T10:19:08.078187Z",
     "start_time": "2024-11-18T10:19:06.949713Z"
    }
   },
   "cell_type": "code",
   "source": [
    "paths = [\"./imagini_auxiliare/\" + file for file in os.listdir(\"./imagini_auxiliare\")]\n",
    "test_tables = extract_game(paths)\n",
    "game_tables = extract_relevant_game(test_tables)\n",
    "\n",
    "lines = draw_lines(game_tables)"
   ],
   "id": "7a19d8cf4b09f384",
   "outputs": [
    {
     "name": "stderr",
     "output_type": "stream",
     "text": [
      "100%|██████████| 4/4 [00:01<00:00,  3.63it/s]\n",
      "100%|██████████| 4/4 [00:00<00:00, 323.68it/s]\n",
      "100%|██████████| 4/4 [00:00<00:00, 1975.42it/s]\n"
     ]
    }
   ],
   "execution_count": 13
  },
  {
   "metadata": {
    "ExecuteTime": {
     "end_time": "2024-11-18T10:29:13.520251Z",
     "start_time": "2024-11-18T10:29:09.819100Z"
    }
   },
   "cell_type": "code",
   "source": "show_image_cv(\"\",lines[2],fx=1,fy=1)",
   "id": "e27551a1463a19e6",
   "outputs": [],
   "execution_count": 31
  },
  {
   "metadata": {
    "ExecuteTime": {
     "end_time": "2024-11-18T10:47:11.777917Z",
     "start_time": "2024-11-18T10:47:11.498564Z"
    }
   },
   "cell_type": "code",
   "source": [
    "\n",
    "def store_template_numbers():\n",
    "\n",
    "    img = [\"./imagini_auxiliare/03.jpg\"]\n",
    "    table = extract_game(img)\n",
    "    game_table = extract_relevant_game(table)[0]\n",
    "\n",
    "    piece_values = [0, 1, 2, 3, 4, 5, 6, 7, 8, 9, 10, 11, 12, 13, 14, 15, 16, 17, 18, 19, 20, 21, 24, 25, 27, 28, 30, 32, 35, 36, 40, 42, 45, 48, 49, 50, 54, 56, 60, 63, 64, 70, 72, 80, 81, 90]\n",
    "\n",
    "    index = 0\n",
    "\n",
    "    for i in range(5 * 60, 9 * 60 +1 ,60):\n",
    "        for j in range(4 * 60 , 12 * 60, 60):\n",
    "            frame = game_table[i:i+60,j:j+60,:]\n",
    "            # show_image_matplot(\"\",frame)\n",
    "            cv.imwrite(\"./templates/\" + str(piece_values[index])+ \".jpg\", frame)\n",
    "            index += 1\n",
    "\n",
    "    i = 10 * 60\n",
    "\n",
    "    for j in range(4 * 60 , 10 * 60, 60):\n",
    "            frame = game_table[i:i+60,j:j+60,:]\n",
    "            # show_image_matplot(\"\",frame)\n",
    "            cv.imwrite(\"./templates/\" + str(piece_values[index])+ \".jpg\", frame)\n",
    "            index +=1\n",
    "\n",
    "store_template_numbers()"
   ],
   "id": "d4d62b08fdf21c5",
   "outputs": [
    {
     "name": "stderr",
     "output_type": "stream",
     "text": [
      "100%|██████████| 1/1 [00:00<00:00,  3.80it/s]\n",
      "100%|██████████| 1/1 [00:00<00:00, 526.92it/s]\n"
     ]
    }
   ],
   "execution_count": 46
  }
 ],
 "metadata": {
  "kernelspec": {
   "display_name": "Python 3",
   "language": "python",
   "name": "python3"
  },
  "language_info": {
   "codemirror_mode": {
    "name": "ipython",
    "version": 2
   },
   "file_extension": ".py",
   "mimetype": "text/x-python",
   "name": "python",
   "nbconvert_exporter": "python",
   "pygments_lexer": "ipython2",
   "version": "2.7.6"
  }
 },
 "nbformat": 4,
 "nbformat_minor": 5
}
