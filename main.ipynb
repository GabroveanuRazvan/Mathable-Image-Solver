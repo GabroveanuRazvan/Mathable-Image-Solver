{
 "cells": [
  {
   "metadata": {},
   "cell_type": "markdown",
   "source": "## Imports",
   "id": "fc05180e12bcabc1"
  },
  {
   "cell_type": "code",
   "id": "initial_id",
   "metadata": {
    "collapsed": true,
    "ExecuteTime": {
     "end_time": "2024-11-21T15:12:29.367724Z",
     "start_time": "2024-11-21T15:12:28.790126Z"
    }
   },
   "source": [
    "import time\n",
    "\n",
    "import numpy as np\n",
    "import cv2 as cv\n",
    "import os\n",
    "import glob\n",
    "import matplotlib.pyplot as plt\n",
    "from cv2 import cvtColor\n",
    "from numpy.random import uniform\n",
    "import pdb\n",
    "from tqdm import tqdm\n",
    "\n",
    "import utils\n",
    "from utils import show_image_matplot,show_image_cv"
   ],
   "outputs": [],
   "execution_count": 2
  },
  {
   "metadata": {
    "ExecuteTime": {
     "end_time": "2024-11-21T15:12:43.848462Z",
     "start_time": "2024-11-21T15:12:29.373441Z"
    }
   },
   "cell_type": "code",
   "source": "game_tables = utils.extract_game(utils.get_image_paths(\"antrenare\",1))",
   "id": "46642db5e9549dc8",
   "outputs": [
    {
     "name": "stderr",
     "output_type": "stream",
     "text": [
      "100%|██████████| 50/50 [00:14<00:00,  3.46it/s]\n"
     ]
    }
   ],
   "execution_count": 3
  },
  {
   "metadata": {
    "ExecuteTime": {
     "end_time": "2024-11-21T15:12:44.485833Z",
     "start_time": "2024-11-21T15:12:43.856704Z"
    }
   },
   "cell_type": "code",
   "source": "relevant_game_tables = utils.extract_relevant_game(game_tables)",
   "id": "4ab7a68b6e45ce36",
   "outputs": [
    {
     "name": "stderr",
     "output_type": "stream",
     "text": [
      "100%|██████████| 50/50 [00:00<00:00, 96.10it/s]\n"
     ]
    }
   ],
   "execution_count": 4
  },
  {
   "metadata": {
    "ExecuteTime": {
     "end_time": "2024-11-21T15:12:44.636538Z",
     "start_time": "2024-11-21T15:12:44.493011Z"
    }
   },
   "cell_type": "code",
   "source": "delimited_tables = utils.draw_lines(relevant_game_tables)",
   "id": "c5db5fa377941776",
   "outputs": [
    {
     "name": "stderr",
     "output_type": "stream",
     "text": [
      "100%|██████████| 50/50 [00:00<00:00, 921.42it/s]\n"
     ]
    }
   ],
   "execution_count": 5
  },
  {
   "metadata": {
    "ExecuteTime": {
     "end_time": "2024-11-21T15:12:44.651926Z",
     "start_time": "2024-11-21T15:12:44.650479Z"
    }
   },
   "cell_type": "code",
   "source": [
    "# utils.store_template_numbers1(10)\n",
    "# utils.store_template_numbers2(8)"
   ],
   "id": "3fe077815b7425e9",
   "outputs": [],
   "execution_count": 6
  },
  {
   "metadata": {
    "ExecuteTime": {
     "end_time": "2024-11-21T15:12:44.694866Z",
     "start_time": "2024-11-21T15:12:44.693051Z"
    }
   },
   "cell_type": "code",
   "source": [
    "# utils.store_binary_templates(100,\"./templates/sample1\",\"./templates_binary/sample1\")\n",
    "# utils.store_binary_templates(100)"
   ],
   "id": "7a19d8cf4b09f384",
   "outputs": [],
   "execution_count": 7
  },
  {
   "metadata": {
    "ExecuteTime": {
     "end_time": "2024-11-21T15:12:44.740707Z",
     "start_time": "2024-11-21T15:12:44.738712Z"
    }
   },
   "cell_type": "code",
   "source": "# new_templates = crop_and_store_templates()",
   "id": "8e5f89cdfc3447ac",
   "outputs": [],
   "execution_count": 8
  },
  {
   "metadata": {
    "ExecuteTime": {
     "end_time": "2024-11-21T15:12:44.787643Z",
     "start_time": "2024-11-21T15:12:44.785428Z"
    }
   },
   "cell_type": "code",
   "source": "#utils.rewrite_all()",
   "id": "80240a495e9a035c",
   "outputs": [],
   "execution_count": 9
  },
  {
   "metadata": {
    "ExecuteTime": {
     "end_time": "2024-11-21T15:16:06.355483Z",
     "start_time": "2024-11-21T15:16:06.350063Z"
    }
   },
   "cell_type": "code",
   "source": [
    "from utils import get_mathable_pieces_numbers, get_lines_coords\n",
    "\n",
    "# def classify_number(patch,templates_path = \"./templates_cropped\"):\n",
    "#     max_corr = -np.inf\n",
    "#     chosen_number = -1\n",
    "#     numbers = get_mathable_pieces_numbers()\n",
    "#\n",
    "#\n",
    "#     for i in range(10,len(numbers)):\n",
    "#\n",
    "#         number = numbers[i]\n",
    "#         template = cv.imread(templates_path+ \"/\" + str(number) + \".jpg\")\n",
    "#         template = cv.cvtColor(template, cv.COLOR_BGR2GRAY)\n",
    "#\n",
    "#         corr = cv.matchTemplate(patch,template, cv.TM_CCOEFF_NORMED)\n",
    "#         corr=np.max(corr)\n",
    "#\n",
    "#         if corr > max_corr:\n",
    "#             max_corr = corr\n",
    "#             chosen_number = number\n",
    "#\n",
    "#     if max_corr >= 0.8:\n",
    "#         return chosen_number\n",
    "#\n",
    "#     max_corr = -np.inf\n",
    "#     chosen_number = -1\n",
    "#\n",
    "#     for i in range(0,10):\n",
    "#\n",
    "#         number = numbers[i]\n",
    "#         template = cv.imread(templates_path+ \"/\" + str(number) + \".jpg\")\n",
    "#         template = cv.cvtColor(template, cv.COLOR_BGR2GRAY)\n",
    "#\n",
    "#         corr = cv.matchTemplate(patch,template, cv.TM_CCOEFF_NORMED)\n",
    "#         corr=np.max(corr)\n",
    "#\n",
    "#         if corr > max_corr:\n",
    "#             max_corr = corr\n",
    "#             chosen_number = number\n",
    "#\n",
    "#\n",
    "#     return chosen_number\n",
    "\n",
    "def classify_number(patch,templates_path = \"./templates_cropped\"):\n",
    "\n",
    "    maxi = -np.inf\n",
    "    chosen_number = -1\n",
    "    numbers = get_mathable_pieces_numbers()\n",
    "\n",
    "    num_whites_patch = np.sum(patch == 255)\n",
    "\n",
    "    for number in numbers:\n",
    "        template = cv.imread(templates_path+ \"/\" + str(number) + \".jpg\")\n",
    "        template = cv.cvtColor(template, cv.COLOR_BGR2GRAY)\n",
    "\n",
    "        num_whites_template = np.sum(template == 255)\n",
    "\n",
    "        if num_whites_template * 1.95 < num_whites_patch:\n",
    "            continue\n",
    "\n",
    "        corr = cv.matchTemplate(patch,template, cv.TM_CCOEFF_NORMED)\n",
    "        corr=np.max(corr)\n",
    "\n",
    "        if corr > maxi:\n",
    "            maxi = corr\n",
    "            chosen_number = number\n",
    "\n",
    "\n",
    "    return chosen_number\n",
    "\n",
    "def match_numbers(binary_image, offset):\n",
    "    lines_vertical,lines_horizontal = get_lines_coords()\n",
    "\n",
    "    coords={}\n",
    "\n",
    "    for i in range(len(lines_horizontal)-1):\n",
    "        for j in range(len(lines_vertical)-1):\n",
    "\n",
    "            y_min = lines_vertical[j][0][0] + offset\n",
    "            y_max = lines_vertical[j + 1][1][0] - offset\n",
    "            x_min = lines_horizontal[i][0][1] + offset\n",
    "            x_max = lines_horizontal[i + 1][1][1] - offset\n",
    "\n",
    "            patch = binary_image[x_min:x_max,y_min:y_max].copy()\n",
    "\n",
    "            if (i==6 or i==7) and (j==6 or j==7):\n",
    "                continue\n",
    "\n",
    "            num_white_pixels = np.sum(binary_image[x_min+30:x_max-30,y_min+30:y_max-30].copy() == 255)\n",
    "\n",
    "            if num_white_pixels > 0:\n",
    "                predicted_number = classify_number(patch)\n",
    "                coords[(i,j)] = predicted_number\n",
    "\n",
    "    return coords\n",
    "\n",
    "def get_patches(binary_image,offset):\n",
    "    lines_vertical,lines_horizontal = get_lines_coords()\n",
    "\n",
    "    patches = []\n",
    "\n",
    "    for i in range(len(lines_horizontal)-1):\n",
    "        for j in range(len(lines_vertical)-1):\n",
    "\n",
    "            y_min = lines_vertical[j][0][0] + offset\n",
    "            y_max = lines_vertical[j + 1][1][0] - offset\n",
    "            x_min = lines_horizontal[i][0][1] + offset\n",
    "            x_max = lines_horizontal[i + 1][1][1] - offset\n",
    "\n",
    "            patch = binary_image[x_min:x_max,y_min:y_max].copy()\n",
    "\n",
    "            patches.append(patch)\n",
    "\n",
    "    return patches"
   ],
   "id": "eff34367e023cf3b",
   "outputs": [],
   "execution_count": 17
  },
  {
   "metadata": {
    "ExecuteTime": {
     "end_time": "2024-11-21T15:12:44.889338Z",
     "start_time": "2024-11-21T15:12:44.885858Z"
    }
   },
   "cell_type": "code",
   "source": [
    "def move_train_data(train_number,dest_path = \"./train\"):\n",
    "    img_prefix = str(train_number)+ \"_\"\n",
    "\n",
    "    for i in range(9):\n",
    "        img_name = img_prefix + \"0\" +str(i+1) + \".jpg\"\n",
    "        img_path = \"./antrenare/\" + img_name\n",
    "        img = cv.imread(img_path)\n",
    "        cv.imwrite(dest_path +\"/\" + img_name, img)\n",
    "\n",
    "    for i in range(9,50):\n",
    "        img_path = \"./antrenare/\" + img_prefix + str(i+1) + \".jpg\"\n",
    "        img_name = img_prefix +str(i+1) + \".jpg\"\n",
    "        img = cv.imread(img_path)\n",
    "        cv.imwrite(dest_path +\"/\" + img_name, img)\n",
    "\n",
    "# for i in range(4):\n",
    "#     move_train_data(i+1)\n",
    "\n"
   ],
   "id": "f287a474f5afe5a7",
   "outputs": [],
   "execution_count": 11
  },
  {
   "metadata": {
    "ExecuteTime": {
     "end_time": "2024-11-21T15:32:02.937910Z",
     "start_time": "2024-11-21T15:29:55.887409Z"
    }
   },
   "cell_type": "code",
   "source": [
    "\n",
    "def solve(train_number,src_path = \"./antrenare\",output_dest_path = \"./343_Gabroveanu_Razvan\"):\n",
    "\n",
    "    game_tables = utils.extract_game(utils.get_image_paths(src_path,train_number))\n",
    "    relevant_game_tables = utils.extract_relevant_game(game_tables)\n",
    "\n",
    "    visited = np.full((14,14),-1)\n",
    "\n",
    "    visited[6,6] = 1\n",
    "    visited[6,7] = 2\n",
    "    visited[7,6] = 3\n",
    "    visited[7,7] = 4\n",
    "\n",
    "    output_file_prefix = \"/\" + str(train_number) + \"_\"\n",
    "\n",
    "    for i in tqdm(range(len(relevant_game_tables))):\n",
    "\n",
    "        table = relevant_game_tables[i]\n",
    "        table = cv.cvtColor(table, cv.COLOR_BGR2GRAY)\n",
    "        _,table_binary = cv.threshold(table,65,255,cv.THRESH_BINARY_INV)\n",
    "\n",
    "        result_dict = match_numbers(table_binary,8)\n",
    "\n",
    "        for indexes,predicted_number in result_dict.items():\n",
    "            row,col = indexes\n",
    "\n",
    "            if visited[row,col] == -1:\n",
    "                continue\n",
    "\n",
    "            output = str(row+1) + chr(65 + col)+ \" \" + str(predicted_number)\n",
    "            output_file_path = output_dest_path + output_file_prefix\n",
    "\n",
    "            if i in range(0,9):\n",
    "                output_file_path = output_file_path + \"0\"\n",
    "\n",
    "            output_file_path = output_file_path + str(i+1) + \".txt\"\n",
    "\n",
    "            with open(output_file_path,\"w\") as file:\n",
    "                file.write(output)\n",
    "\n",
    "            visited[row,col] = predicted_number\n",
    "\n",
    "    with open(output_dest_path + \"/\" + str(train_number) + \"_scores.txt\",\"w\") as file:\n",
    "        pass\n",
    "\n",
    "    with open(output_dest_path + \"/\" + str(train_number) + \"_turns.txt\",\"w\") as file:\n",
    "        pass\n",
    "\n",
    "for i in range(4):\n",
    "    solve(i+1)\n",
    "\n"
   ],
   "id": "4c6068416697eccb",
   "outputs": [
    {
     "name": "stderr",
     "output_type": "stream",
     "text": [
      "100%|██████████| 50/50 [00:13<00:00,  3.60it/s]\n",
      "100%|██████████| 50/50 [00:00<00:00, 62.17it/s]\n",
      "100%|██████████| 50/50 [00:17<00:00,  2.92it/s]\n",
      "100%|██████████| 50/50 [00:13<00:00,  3.70it/s]\n",
      "100%|██████████| 50/50 [00:00<00:00, 54.42it/s]\n",
      "100%|██████████| 50/50 [00:17<00:00,  2.89it/s]\n",
      "100%|██████████| 50/50 [00:13<00:00,  3.72it/s]\n",
      "100%|██████████| 50/50 [00:00<00:00, 107.44it/s]\n",
      "100%|██████████| 50/50 [00:18<00:00,  2.73it/s]\n",
      "100%|██████████| 50/50 [00:13<00:00,  3.79it/s]\n",
      "100%|██████████| 50/50 [00:00<00:00, 136.10it/s]\n",
      "100%|██████████| 50/50 [00:17<00:00,  2.90it/s]\n"
     ]
    }
   ],
   "execution_count": 24
  },
  {
   "metadata": {
    "ExecuteTime": {
     "end_time": "2024-11-21T15:15:07.252707Z",
     "start_time": "2024-11-21T15:14:53.250043Z"
    }
   },
   "cell_type": "code",
   "source": [
    "\n",
    "game_tables2 = utils.extract_game(utils.get_image_paths(\"antrenare\",2))\n",
    "relevant_game_tables2 = utils.extract_relevant_game(game_tables2)"
   ],
   "id": "2a79d8e312b98555",
   "outputs": [
    {
     "name": "stderr",
     "output_type": "stream",
     "text": [
      "100%|██████████| 50/50 [00:13<00:00,  3.73it/s]\n",
      "100%|██████████| 50/50 [00:00<00:00, 117.10it/s]\n"
     ]
    }
   ],
   "execution_count": 13
  },
  {
   "metadata": {
    "ExecuteTime": {
     "end_time": "2024-11-21T15:15:08.941563Z",
     "start_time": "2024-11-21T15:15:07.258494Z"
    }
   },
   "cell_type": "code",
   "source": [
    "\n",
    "sample = relevant_game_tables2[0]\n",
    "sample = cv.cvtColor(sample,cv.COLOR_BGR2GRAY)\n",
    "_,sample = cv.threshold(sample,65,255,cv.THRESH_BINARY_INV)\n",
    "\n",
    "show_image_cv(\"\",sample,fx = 0.4,fy = 0.4)\n",
    "\n",
    "coords = match_numbers(sample, offset = 8)\n",
    "patches = get_patches(sample, offset = 8)"
   ],
   "id": "5b3b7d70dc21fc9c",
   "outputs": [
    {
     "name": "stderr",
     "output_type": "stream",
     "text": [
      "Warning: Ignoring XDG_SESSION_TYPE=wayland on Gnome. Use QT_QPA_PLATFORM=wayland to run on Wayland anyway.\n"
     ]
    }
   ],
   "execution_count": 14
  },
  {
   "metadata": {
    "ExecuteTime": {
     "end_time": "2024-11-21T15:15:08.955226Z",
     "start_time": "2024-11-21T15:15:08.952805Z"
    }
   },
   "cell_type": "code",
   "source": "print(coords)",
   "id": "c521dd03dd04895c",
   "outputs": [
    {
     "name": "stdout",
     "output_type": "stream",
     "text": [
      "{(6, 8): 8}\n"
     ]
    }
   ],
   "execution_count": 15
  },
  {
   "metadata": {
    "ExecuteTime": {
     "end_time": "2024-11-21T15:15:09.022122Z",
     "start_time": "2024-11-21T15:15:09.001049Z"
    }
   },
   "cell_type": "code",
   "source": [
    "for key,value in coords.items():\n",
    "    index = key[0] * 14 + key[1]\n",
    "    title = str(key[0]) + \",\" + str(key[1]) + \" \" + str(value)\n",
    "    # show_image_cv(title,patches[index],fx = 1,fy = 1)\n",
    "\n",
    "    three = cv.imread(\"templates_cropped/3.jpg\")\n",
    "    eight = cv.imread(\"templates_cropped/8.jpg\")\n",
    "\n",
    "\n",
    "    three = cv.cvtColor(three,cv.COLOR_BGR2GRAY)\n",
    "    eight= cv.cvtColor(eight,cv.COLOR_BGR2GRAY)\n",
    "\n",
    "    # _, three = cv.threshold(three, 128, 255, cv.THRESH_BINARY)\n",
    "    # _, eight = cv.threshold(eight, 128, 255, cv.THRESH_BINARY)\n",
    "\n",
    "    w3 = np.sum(three == 255)\n",
    "    wp = np.sum(patches[index] == 255)\n",
    "\n",
    "    corr1 = np.max(cv.matchTemplate(patches[index],three,cv.TM_CCOEFF_NORMED))\n",
    "    corr2 = np.max(cv.matchTemplate(patches[index],eight,cv.TM_CCOEFF_NORMED))\n",
    "    cv.imwrite(\"temp.jpg\",patches[index])\n",
    "    print(corr1,corr2)\n",
    "    print(three.shape)\n",
    "    print(eight.shape)\n",
    "    print(patches[index].shape)\n",
    "    print(w3,wp)\n",
    "    print(classify_number(patches[index]))"
   ],
   "id": "56f6c59e23ec6b7",
   "outputs": [
    {
     "name": "stdout",
     "output_type": "stream",
     "text": [
      "0.8862497 0.7159185\n",
      "(72, 45)\n",
      "(71, 45)\n",
      "(134, 134)\n",
      "805 1660\n",
      "8\n"
     ]
    }
   ],
   "execution_count": 16
  },
  {
   "metadata": {
    "ExecuteTime": {
     "end_time": "2024-11-21T16:06:26.164119Z",
     "start_time": "2024-11-21T16:04:22.618888Z"
    }
   },
   "cell_type": "code",
   "source": [
    "class Solver():\n",
    "\n",
    "    def __init__(self,data_set_id):\n",
    "\n",
    "        self.data_set_id = data_set_id\n",
    "\n",
    "        self.table_configuration = np.full((14,14),-1)\n",
    "        self.table_configuration[6,6] = 1\n",
    "        self.table_configuration[6,7] = 2\n",
    "        self.table_configuration[7,6] = 3\n",
    "        self.table_configuration[7,7] = 4\n",
    "\n",
    "        self.ADD = 1\n",
    "        self.SUB = 2\n",
    "        self.MUL = 3\n",
    "        self.DIV = 4\n",
    "        self.TIMES_2 = 5\n",
    "        self.TIMES_3 = 6\n",
    "\n",
    "        self.table_constraints = np.array([\n",
    "            [self.TIMES_3,0,0,0,0,0,self.TIMES_3,self.TIMES_3,0,0,0,0,0,self.TIMES_3],\n",
    "            [0,self.TIMES_2,0,0,self.DIV,0,0,0,0,self.DIV,0,0,self.TIMES_2,0],\n",
    "            [0,0,self.TIMES_2,0,0,self.SUB,0,0,self.SUB,0,0,self.TIMES_2,0,0],\n",
    "            [0,0,0,self.TIMES_2,0,0,self.ADD,self.MUL,0,0,self.TIMES_2,0,0,0],\n",
    "            [0,self.DIV,0,0,self.TIMES_2,0,self.MUL,self.ADD,0,self.TIMES_2,0,0,self.DIV,0],\n",
    "            [0,0,self.SUB,0,0,0,0,0,0,0,0,self.SUB,0,0],\n",
    "            [self.TIMES_3,0,0,self.MUL,self.ADD,0,0,0,0,self.MUL,self.ADD,0,0,self.TIMES_3],\n",
    "\n",
    "            [self.TIMES_3,0,0,self.ADD,self.MUL,0,0,0,0,self.ADD,self.MUL,0,0,self.TIMES_3],\n",
    "            [0,0,self.SUB,0,0,0,0,0,0,0,0,self.SUB,0,0],\n",
    "            [0,self.DIV,0,0,self.TIMES_2,0,self.ADD,self.MUL,0,self.TIMES_2,0,0,self.DIV,0],\n",
    "            [0,0,0,self.TIMES_2,0,0,self.MUL,self.ADD,0,0,self.TIMES_2,0,0,0],\n",
    "            [0,0,self.TIMES_2,0,0,self.SUB,0,0,self.SUB,0,0,self.TIMES_2,0,0],\n",
    "            [0,self.TIMES_2,0,0,self.DIV,0,0,0,0,self.DIV,0,0,self.TIMES_2,0],\n",
    "            [self.TIMES_3,0,0,0,0,0,self.TIMES_3,self.TIMES_3,0,0,0,0,0,self.TIMES_3],\n",
    "\n",
    "        ])\n",
    "\n",
    "    def reset(self):\n",
    "        self.table_configuration = np.full((14,14),-1)\n",
    "        self.table_configuration[6,6] = 1\n",
    "        self.table_configuration[6,7] = 2\n",
    "        self.table_configuration[7,6] = 3\n",
    "        self.table_configuration[7,7] = 4\n",
    "\n",
    "    def solve(self,src_path = \"./antrenare\",output_dest_path = \"./343_Gabroveanu_Razvan\"):\n",
    "\n",
    "        self.reset()\n",
    "\n",
    "        game_tables = utils.extract_game(utils.get_image_paths(src_path,self.data_set_id))\n",
    "        relevant_game_tables = utils.extract_relevant_game(game_tables)\n",
    "\n",
    "        output_file_prefix = \"/\" + str(self.data_set_id) + \"_\"\n",
    "\n",
    "        for i in tqdm(range(len(relevant_game_tables))):\n",
    "\n",
    "            table = relevant_game_tables[i]\n",
    "            table = cv.cvtColor(table, cv.COLOR_BGR2GRAY)\n",
    "            _,table_binary = cv.threshold(table,65,255,cv.THRESH_BINARY_INV)\n",
    "\n",
    "            result_dict = match_numbers(table_binary,8)\n",
    "\n",
    "            for indexes,predicted_number in result_dict.items():\n",
    "                row,col = indexes\n",
    "\n",
    "                if self.table_configuration[row,col] != -1:\n",
    "                    continue\n",
    "\n",
    "                output = str(row+1) + chr(65 + col)+ \" \" + str(predicted_number)\n",
    "                output_file_path = output_dest_path + output_file_prefix\n",
    "\n",
    "                if i in range(0,9):\n",
    "                    output_file_path = output_file_path + \"0\"\n",
    "\n",
    "                output_file_path = output_file_path + str(i+1) + \".txt\"\n",
    "\n",
    "                with open(output_file_path,\"w\") as file:\n",
    "                    file.write(output)\n",
    "\n",
    "                self.table_configuration[row,col] = predicted_number\n",
    "\n",
    "        with open(output_dest_path + \"/\" + str(self.data_set_id) + \"_scores.txt\",\"w\") as file:\n",
    "            pass\n",
    "\n",
    "        with open(output_dest_path + \"/\" + str(self.data_set_id) + \"_turns.txt\",\"w\") as file:\n",
    "            pass\n",
    "\n",
    "for i in range(4):\n",
    "    solver = Solver(i+1)\n",
    "    solver.solve()\n"
   ],
   "id": "21677576f6a961f7",
   "outputs": [
    {
     "name": "stderr",
     "output_type": "stream",
     "text": [
      "100%|██████████| 50/50 [00:13<00:00,  3.76it/s]\n",
      "100%|██████████| 50/50 [00:00<00:00, 109.88it/s]\n",
      "100%|██████████| 50/50 [00:16<00:00,  3.02it/s]\n"
     ]
    },
    {
     "name": "stdout",
     "output_type": "stream",
     "text": [
      "[[-1 -1 -1 -1 -1 -1 -1  8 -1  5 -1 -1 -1 -1]\n",
      " [-1 -1 -1 -1 -1 -1 -1 10 -1  2 -1 -1 -1 -1]\n",
      " [-1 -1 -1 -1 -1 -1 -1  8 -1  3 -1 -1 -1 -1]\n",
      " [-1 -1 -1 -1 -1 -1 -1 80 -1  6 -1 48 -1 -1]\n",
      " [-1 -1 -1 -1 -1 -1 -1 10 -1  9 -1 36 -1 -1]\n",
      " [-1 -1 -1  3 14 11  3  8  5  3 15 12 27 -1]\n",
      " [-1 -1 -1 -1 -1 -1  1  2  3  6  9  3 -1 -1]\n",
      " [-1 -1 -1 -1 -1  7  3  4  7  9 63 -1 -1 -1]\n",
      " [-1 -1 -1 -1  8 10  2  8 10 -1 54 -1 -1 -1]\n",
      " [-1 -1 -1  5  8  3  5 32 17 49 -1 -1 -1 -1]\n",
      " [-1 -1 -1 -1  0 -1 -1 40  7 -1 -1 -1 -1 -1]\n",
      " [-1 -1 -1 -1 -1 -1 -1 72 10 -1 -1 -1 -1 -1]\n",
      " [-1 -1 -1 -1 -1 -1 -1 -1 70 -1 -1 -1 -1 -1]\n",
      " [-1 -1 -1 -1 -1 -1 -1 -1 60 -1 -1 -1 -1 -1]]\n"
     ]
    },
    {
     "name": "stderr",
     "output_type": "stream",
     "text": [
      "100%|██████████| 50/50 [00:13<00:00,  3.75it/s]\n",
      "100%|██████████| 50/50 [00:00<00:00, 125.24it/s]\n",
      "100%|██████████| 50/50 [00:16<00:00,  2.99it/s]\n"
     ]
    },
    {
     "name": "stdout",
     "output_type": "stream",
     "text": [
      "[[-1 -1 -1 -1 -1 -1 -1 32 -1 -1 -1 -1 -1 -1]\n",
      " [-1 -1 -1 -1 -1 -1 18  8 10 -1 -1 -1 -1 -1]\n",
      " [-1 -1 -1 -1 -1 -1  4 40 36  4 -1 -1 -1 -1]\n",
      " [-1 -1 -1 -1 -1 -1 14 48 -1 -1 -1 -1 -1 -1]\n",
      " [-1 -1 -1 -1  2  5 10  8  2 10  8 -1 -1 -1]\n",
      " [-1 -1 -1 -1  6  2  4  6 10  4 -1 -1 -1 -1]\n",
      " [-1 36 16 12  4  3  1  2  8  6  9 15  6 90]\n",
      " [-1 -1 -1 -1 -1  5  3  4  7 10 70 -1 -1 -1]\n",
      " [-1 -1 -1 -1 35  8  2  6 21 -1 -1 -1 -1 -1]\n",
      " [-1 -1 -1 -1 -1  6 30 24 54 -1 -1 -1 -1 -1]\n",
      " [-1 -1 -1 -1 -1  2 -1 -1 -1 -1 -1 -1 -1 -1]\n",
      " [-1 -1 -1 -1 -1  4 -1 -1 -1 -1 -1 -1 -1 -1]\n",
      " [-1 -1 -1 -1 -1  2 -1 -1 -1 -1 -1 -1 -1 -1]\n",
      " [-1 -1 -1 -1 -1 -1 -1 -1 -1 -1 -1 -1 -1 -1]]\n"
     ]
    },
    {
     "name": "stderr",
     "output_type": "stream",
     "text": [
      "100%|██████████| 50/50 [00:13<00:00,  3.74it/s]\n",
      "100%|██████████| 50/50 [00:00<00:00, 131.84it/s]\n",
      "100%|██████████| 50/50 [00:17<00:00,  2.86it/s]\n"
     ]
    },
    {
     "name": "stdout",
     "output_type": "stream",
     "text": [
      "[[-1 -1 -1 -1 -1 -1 -1 -1 -1 -1 -1 -1 -1 -1]\n",
      " [-1 -1 -1 -1 -1 -1 -1 -1 -1 -1 -1 -1 -1 -1]\n",
      " [-1 -1 -1 -1 -1 -1 -1 -1 -1 10 -1 -1 -1 -1]\n",
      " [-1 -1 -1 -1 -1  1 49 48  1 80 81 -1 -1 -1]\n",
      " [-1 -1  6 -1 -1 -1 -1  8  1  8 -1 -1 -1 -1]\n",
      " [-1 -1 10 35 25 10  4  6  0 10  8 -1 -1 -1]\n",
      " [20  4 16 12  4  3  1  2  1  2  3 -1 -1 -1]\n",
      " [-1 -1 -1 -1 21  7  3  4  1  5  5 -1 -1 -1]\n",
      " [-1 -1 -1 -1 -1 10 -1  2  2 -1 -1 -1 -1 -1]\n",
      " [-1 -1 -1 45 28 17 11  8  3 -1 -1 -1 -1 -1]\n",
      " [-1 -1 -1 -1 -1  7 -1 10  5 50 -1 -1 -1 -1]\n",
      " [-1 -1 -1 -1 -1 10 -1  2 -1 -1 -1 -1 -1 -1]\n",
      " [-1 -1 -1 -1 -1  3 -1 -1 -1 -1 -1 -1 -1 -1]\n",
      " [-1 -1 -1 -1 -1 -1 -1 -1 -1 -1 -1 -1 -1 -1]]\n"
     ]
    },
    {
     "name": "stderr",
     "output_type": "stream",
     "text": [
      "100%|██████████| 50/50 [00:13<00:00,  3.76it/s]\n",
      "100%|██████████| 50/50 [00:00<00:00, 129.79it/s]\n",
      "100%|██████████| 50/50 [00:17<00:00,  2.88it/s]"
     ]
    },
    {
     "name": "stdout",
     "output_type": "stream",
     "text": [
      "[[-1 -1 -1 -1 -1 -1 -1 32 -1 -1 -1 -1 -1 -1]\n",
      " [-1 -1 -1 -1 -1 -1 -1  8 -1 -1 -1 -1 -1 -1]\n",
      " [-1 -1 -1 -1 -1 10 -1 40 -1 -1 -1 -1 -1 -1]\n",
      " [-1 -1 -1 -1 -1  3 -1 48 -1  6 -1 -1 -1 -1]\n",
      " [-1 -1 -1 -1 -1 13 -1  8 -1  5 -1 -1 -1 -1]\n",
      " [-1 -1 -1 -1 -1 10 -1  6 -1 11 -1 -1 -1 -1]\n",
      " [-1 -1 -1 -1  4  3  1  2  3  6  9  3 12 15]\n",
      " [-1 -1 -1 -1 60  7  3  4  1  5  5 25  5  5]\n",
      " [-1 -1 -1 -1  6 10  4  6 -1  1 45 -1 -1 -1]\n",
      " [-1 -1 -1  7 10 17  7 24 -1  6 -1 -1 -1 -1]\n",
      " [-1 -1 -1 -1  4 -1 28 30 -1  7 -1 -1 -1 -1]\n",
      " [-1 -1 -1 -1 14 -1 21 54 -1 -1 -1 -1 -1 -1]\n",
      " [-1 -1 -1 -1 -1 -1  7 -1 -1 -1 -1 -1 -1 -1]\n",
      " [-1 -1 -1 -1 -1 -1  3 -1 -1 -1 -1 -1 -1 -1]]\n"
     ]
    },
    {
     "name": "stderr",
     "output_type": "stream",
     "text": [
      "\n"
     ]
    }
   ],
   "execution_count": 37
  }
 ],
 "metadata": {
  "kernelspec": {
   "display_name": "Python 3",
   "language": "python",
   "name": "python3"
  },
  "language_info": {
   "codemirror_mode": {
    "name": "ipython",
    "version": 2
   },
   "file_extension": ".py",
   "mimetype": "text/x-python",
   "name": "python",
   "nbconvert_exporter": "python",
   "pygments_lexer": "ipython2",
   "version": "2.7.6"
  }
 },
 "nbformat": 4,
 "nbformat_minor": 5
}
