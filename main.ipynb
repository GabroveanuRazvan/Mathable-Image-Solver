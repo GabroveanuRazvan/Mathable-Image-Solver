{
 "cells": [
  {
   "metadata": {},
   "cell_type": "markdown",
   "source": "## Imports",
   "id": "fc05180e12bcabc1"
  },
  {
   "cell_type": "code",
   "id": "initial_id",
   "metadata": {
    "collapsed": true,
    "ExecuteTime": {
     "end_time": "2024-11-19T15:23:51.298048Z",
     "start_time": "2024-11-19T15:23:51.295725Z"
    }
   },
   "source": [
    "import time\n",
    "\n",
    "import numpy as np\n",
    "import cv2 as cv\n",
    "import os\n",
    "import glob\n",
    "import matplotlib.pyplot as plt\n",
    "from cv2 import cvtColor\n",
    "from numpy.random import uniform\n",
    "import pdb\n",
    "from tqdm import tqdm\n",
    "\n"
   ],
   "outputs": [],
   "execution_count": 68
  },
  {
   "metadata": {},
   "cell_type": "markdown",
   "source": "",
   "id": "b837dbb8415c3dd8"
  },
  {
   "metadata": {},
   "cell_type": "markdown",
   "source": "## Show functions",
   "id": "348ac1e3c2b5afba"
  },
  {
   "metadata": {
    "ExecuteTime": {
     "end_time": "2024-11-19T15:23:51.320614Z",
     "start_time": "2024-11-19T15:23:51.317981Z"
    }
   },
   "cell_type": "code",
   "source": [
    "def show_image_cv(title,image,fx=1,fy=1,output = True):\n",
    "\n",
    "    if not output:\n",
    "        return\n",
    "\n",
    "    image = cv.resize(image,(0,0),fx=fx,fy=fy)\n",
    "    cv.imshow(title, image)\n",
    "    cv.waitKey(0)\n",
    "    cv.destroyAllWindows()\n",
    "\n",
    "def show_image_matplot(title, image,fx=1,fy=1,output = True):\n",
    "    if not output:\n",
    "        return\n",
    "\n",
    "    image_resized = cv.resize(image, (0, 0), fx=fx, fy=fy)\n",
    "\n",
    "    image = cv.cvtColor(image_resized, cv.COLOR_BGR2RGB)\n",
    "\n",
    "    plt.imshow(image)\n",
    "    plt.title(title)\n",
    "    plt.axis('off')  # Ascunde axele pentru a afișa doar imaginea\n",
    "    plt.show()"
   ],
   "id": "c5db5fa377941776",
   "outputs": [],
   "execution_count": 69
  },
  {
   "metadata": {},
   "cell_type": "markdown",
   "source": "## Directory and files functions",
   "id": "dfe342cc9c626820"
  },
  {
   "metadata": {
    "ExecuteTime": {
     "end_time": "2024-11-19T15:23:51.363866Z",
     "start_time": "2024-11-19T15:23:51.360915Z"
    }
   },
   "cell_type": "code",
   "source": [
    "def get_image_paths(dir,index):\n",
    "    image_paths = os.listdir(dir)\n",
    "    image_paths = [\"./\" + dir + \"/\" + file for file in image_paths if file[0:2] == str(index) + \"_\" and file[-4:] == \".jpg\"]\n",
    "    return sorted(image_paths)\n"
   ],
   "id": "f053a61260709236",
   "outputs": [],
   "execution_count": 70
  },
  {
   "metadata": {},
   "cell_type": "markdown",
   "source": "## HSV masking",
   "id": "a7dee6a17d02dbb6"
  },
  {
   "metadata": {
    "ExecuteTime": {
     "end_time": "2024-11-19T15:23:51.410543Z",
     "start_time": "2024-11-19T15:23:51.407287Z"
    }
   },
   "cell_type": "code",
   "source": [
    "# hsv mask\n",
    "\n",
    "def get_outer_masked_image(img,output = False):\n",
    "    lower_hsv_bound = np.array([20,0,0])\n",
    "    upper_hsv_bound = np.array([255,255,255])\n",
    "    hsv_image = cv.cvtColor(img, cv.COLOR_BGR2HSV)\n",
    "\n",
    "    mask = cv.inRange(hsv_image, lower_hsv_bound, upper_hsv_bound)\n",
    "    show_image_cv(\"mask\",mask,output = output)\n",
    "\n",
    "    new_image = cv.bitwise_and(img, img, mask=mask)\n",
    "    show_image_cv(\"ceva\",new_image,output = output)\n",
    "\n",
    "    return new_image\n",
    "\n"
   ],
   "id": "426c65a0784699b7",
   "outputs": [],
   "execution_count": 71
  },
  {
   "metadata": {},
   "cell_type": "markdown",
   "source": "## Get game contour function\n",
   "id": "704c264740ed0eac"
  },
  {
   "metadata": {
    "ExecuteTime": {
     "end_time": "2024-11-19T15:23:51.461052Z",
     "start_time": "2024-11-19T15:23:51.453602Z"
    }
   },
   "cell_type": "code",
   "source": [
    "def get_game_countour(image,output = False):\n",
    "\n",
    "    masked_image = get_outer_masked_image(image)\n",
    "    masked_image_grey = cv.cvtColor(masked_image, cv.COLOR_BGR2GRAY)\n",
    "\n",
    "    show_image_cv(\"masked_image_grey\",masked_image_grey,output = output)\n",
    "\n",
    "    masked_image_grey = cv.medianBlur(masked_image_grey,3)\n",
    "    show_image_cv('median_blur_image',masked_image_grey,output = output)\n",
    "\n",
    "    contours, _ = cv.findContours(masked_image_grey,  cv.RETR_EXTERNAL, cv.CHAIN_APPROX_SIMPLE)\n",
    "\n",
    "    max_area = 0\n",
    "    for i in range(len(contours)):\n",
    "            if(len(contours[i]) >3):\n",
    "                possible_top_left = None\n",
    "                possible_bottom_right = None\n",
    "                for point in contours[i].squeeze():\n",
    "                    if possible_top_left is None or point[0] + point[1] < possible_top_left[0] + possible_top_left[1]:\n",
    "                        possible_top_left = point\n",
    "\n",
    "                    if possible_bottom_right is None or point[0] + point[1] > possible_bottom_right[0] + possible_bottom_right[1] :\n",
    "                        possible_bottom_right = point\n",
    "\n",
    "                diff = np.diff(contours[i].squeeze(), axis = 1)\n",
    "                possible_top_right = contours[i].squeeze()[np.argmin(diff)]\n",
    "                possible_bottom_left = contours[i].squeeze()[np.argmax(diff)]\n",
    "                if cv.contourArea(np.array([[possible_top_left],[possible_top_right],[possible_bottom_right],[possible_bottom_left]])) > max_area:\n",
    "                    max_area = cv.contourArea(np.array([[possible_top_left],[possible_top_right],[possible_bottom_right],[possible_bottom_left]]))\n",
    "                    top_left = possible_top_left\n",
    "                    bottom_right = possible_bottom_right\n",
    "                    top_right = possible_top_right\n",
    "                    bottom_left = possible_bottom_left\n",
    "\n",
    "\n",
    "    image_copy = cv.cvtColor(masked_image_grey.copy(),cv.COLOR_GRAY2BGR)\n",
    "    cv.circle(image_copy,tuple(top_left),20,(0,0,255),-1)\n",
    "    cv.circle(image_copy,tuple(top_right),20,(0,0,255),-1)\n",
    "    cv.circle(image_copy,tuple(bottom_left),20,(0,0,255),-1)\n",
    "    cv.circle(image_copy,tuple(bottom_right),20,(0,0,255),-1)\n",
    "    show_image_cv(\"detected corners\",image_copy,output = output)\n",
    "\n",
    "\n",
    "    width = 810\n",
    "    height = 810\n",
    "\n",
    "    puzzle = np.array([top_left,top_right,bottom_left,bottom_right],dtype=np.float32)\n",
    "    destination = np.array([[0,0],[width,0],[0,height],[width,height]],dtype=np.float32)\n",
    "    M = cv.getPerspectiveTransform(puzzle,destination)\n",
    "    result = cv.warpPerspective(image,M,(width,height))\n",
    "\n",
    "    return result"
   ],
   "id": "11bac8635a3ec320",
   "outputs": [],
   "execution_count": 72
  },
  {
   "metadata": {},
   "cell_type": "markdown",
   "source": "## Game table extractor",
   "id": "84ebd167f6ea699a"
  },
  {
   "metadata": {
    "ExecuteTime": {
     "end_time": "2024-11-19T15:23:51.513450Z",
     "start_time": "2024-11-19T15:23:51.504879Z"
    }
   },
   "cell_type": "code",
   "source": [
    "def extract_game(image_paths,size = 1000):\n",
    "    images = []\n",
    "    size = size if size <= len(image_paths) else len(image_paths)\n",
    "    for i in tqdm(range(size)):\n",
    "        img = cv.imread(image_paths[i])\n",
    "        result = get_game_countour(img)\n",
    "        images.append(result)\n",
    "    return np.array(images)\n",
    "\n",
    "def strip_margins(img,cell_size = 150,output = False):\n",
    "\n",
    "    img = img.copy()\n",
    "    img_grey = cv.cvtColor(img, cv.COLOR_BGR2GRAY)\n",
    "    BLACK = 0\n",
    "\n",
    "    height,width,_ = img.shape\n",
    "\n",
    "    # somewhere between 13% and 14% of the height and width of the image\n",
    "    top_margin = 107\n",
    "    bottom_margin = height - 102\n",
    "    left_margin = 107\n",
    "    right_margin = width - 105\n",
    "\n",
    "    img_grey[:top_margin, :] = BLACK\n",
    "    img_grey[bottom_margin:, :] = BLACK\n",
    "\n",
    "    img_grey[:, :left_margin] = BLACK\n",
    "    img_grey[:, right_margin:] = BLACK\n",
    "\n",
    "    show_image_cv(\"ceva\",img_grey,fx=1,fy=1,output = output)\n",
    "\n",
    "    masked_image_grey = img_grey\n",
    "\n",
    "    contours, _ = cv.findContours(masked_image_grey,  cv.RETR_EXTERNAL, cv.CHAIN_APPROX_SIMPLE)\n",
    "\n",
    "    max_area = 0\n",
    "    for i in range(len(contours)):\n",
    "            if(len(contours[i]) >3):\n",
    "                possible_top_left = None\n",
    "                possible_bottom_right = None\n",
    "                for point in contours[i].squeeze():\n",
    "                    if possible_top_left is None or point[0] + point[1] < possible_top_left[0] + possible_top_left[1]:\n",
    "                        possible_top_left = point\n",
    "\n",
    "                    if possible_bottom_right is None or point[0] + point[1] > possible_bottom_right[0] + possible_bottom_right[1] :\n",
    "                        possible_bottom_right = point\n",
    "\n",
    "                diff = np.diff(contours[i].squeeze(), axis = 1)\n",
    "                possible_top_right = contours[i].squeeze()[np.argmin(diff)]\n",
    "                possible_bottom_left = contours[i].squeeze()[np.argmax(diff)]\n",
    "                if cv.contourArea(np.array([[possible_top_left],[possible_top_right],[possible_bottom_right],[possible_bottom_left]])) > max_area:\n",
    "                    max_area = cv.contourArea(np.array([[possible_top_left],[possible_top_right],[possible_bottom_right],[possible_bottom_left]]))\n",
    "                    top_left = possible_top_left\n",
    "                    bottom_right = possible_bottom_right\n",
    "                    top_right = possible_top_right\n",
    "                    bottom_left = possible_bottom_left\n",
    "\n",
    "\n",
    "    image_copy = cv.cvtColor(masked_image_grey.copy(),cv.COLOR_GRAY2BGR)\n",
    "    cv.circle(image_copy,tuple(top_left),2,(0,0,255),-1)\n",
    "    cv.circle(image_copy,tuple(top_right),2,(0,0,255),-1)\n",
    "    cv.circle(image_copy,tuple(bottom_left),2,(0,0,255),-1)\n",
    "    cv.circle(image_copy,tuple(bottom_right),2,(0,0,255),-1)\n",
    "    show_image_cv(\"detected corners\",image_copy,output = output,fx=1,fy=1)\n",
    "\n",
    "\n",
    "    width = 14 * cell_size\n",
    "    height = 14 * cell_size\n",
    "\n",
    "    puzzle = np.array([top_left,top_right,bottom_left,bottom_right],dtype=np.float32)\n",
    "    destination = np.array([[0,0],[width,0],[0,height],[width,height]],dtype=np.float32)\n",
    "    M = cv.getPerspectiveTransform(puzzle,destination)\n",
    "    result = cv.warpPerspective(img,M,(width,height))\n",
    "\n",
    "    return result\n",
    "\n",
    "def extract_relevant_game(images):\n",
    "    new_images = []\n",
    "\n",
    "    for image in tqdm(images):\n",
    "        new_images.append(strip_margins(image))\n",
    "\n",
    "    return np.array(new_images)\n"
   ],
   "id": "706ddf36e66ab4c0",
   "outputs": [],
   "execution_count": 73
  },
  {
   "metadata": {
    "ExecuteTime": {
     "end_time": "2024-11-19T15:24:05.090628Z",
     "start_time": "2024-11-19T15:23:51.558671Z"
    }
   },
   "cell_type": "code",
   "source": "game_tables = extract_game(get_image_paths(\"antrenare\",1))\n",
   "id": "a49506e401cab4a3",
   "outputs": [
    {
     "name": "stderr",
     "output_type": "stream",
     "text": [
      "100%|██████████| 50/50 [00:13<00:00,  3.70it/s]\n"
     ]
    }
   ],
   "execution_count": 74
  },
  {
   "metadata": {
    "ExecuteTime": {
     "end_time": "2024-11-19T15:24:05.681441Z",
     "start_time": "2024-11-19T15:24:05.122072Z"
    }
   },
   "cell_type": "code",
   "source": "relevant_game_tables = extract_relevant_game(game_tables)",
   "id": "1f1c8190f76e7230",
   "outputs": [
    {
     "name": "stderr",
     "output_type": "stream",
     "text": [
      "100%|██████████| 50/50 [00:00<00:00, 108.82it/s]\n"
     ]
    }
   ],
   "execution_count": 75
  },
  {
   "metadata": {},
   "cell_type": "markdown",
   "source": "## Cell delimiter function",
   "id": "d7bc1be15a17fccf"
  },
  {
   "metadata": {
    "ExecuteTime": {
     "end_time": "2024-11-19T15:24:05.694773Z",
     "start_time": "2024-11-19T15:24:05.691672Z"
    }
   },
   "cell_type": "code",
   "source": [
    "\n",
    "def get_lines_coords(cell_size = 150):\n",
    "    lines_horizontal = []\n",
    "    for i in range(0,14*cell_size+1,cell_size):\n",
    "        line = []\n",
    "        line.append((0,i))\n",
    "        line.append((14*60-1,i))\n",
    "        lines_horizontal.append(line)\n",
    "\n",
    "    lines_vertical = []\n",
    "    for i in range(0,14*cell_size+1,cell_size):\n",
    "        line = []\n",
    "        line.append((i,0))\n",
    "        line.append((i,14*cell_size-1))\n",
    "        lines_vertical.append(line)\n",
    "\n",
    "    return lines_vertical,lines_horizontal\n",
    "\n",
    "def draw_lines(images):\n",
    "\n",
    "    new_images = images.copy()\n",
    "\n",
    "    lines_vertical,lines_horizontal = get_lines_coords()\n",
    "\n",
    "    GREEN = (0,255,0)\n",
    "    RED = (0,0,255)\n",
    "\n",
    "    for image in tqdm(new_images):\n",
    "        for line in lines_vertical:\n",
    "            cv.line(image,line[0],line[1],GREEN,2)\n",
    "\n",
    "        for line in lines_horizontal:\n",
    "            cv.line(image,line[0],line[1],RED,2)\n",
    "\n",
    "    return new_images\n"
   ],
   "id": "f3b3d60cd9d84237",
   "outputs": [],
   "execution_count": 76
  },
  {
   "metadata": {
    "ExecuteTime": {
     "end_time": "2024-11-19T15:24:05.845095Z",
     "start_time": "2024-11-19T15:24:05.707207Z"
    }
   },
   "cell_type": "code",
   "source": "delimited_tables = draw_lines(relevant_game_tables)\n",
   "id": "7d5b78bbeb276851",
   "outputs": [
    {
     "name": "stderr",
     "output_type": "stream",
     "text": [
      "100%|██████████| 50/50 [00:00<00:00, 1124.52it/s]\n"
     ]
    }
   ],
   "execution_count": 77
  },
  {
   "metadata": {
    "ExecuteTime": {
     "end_time": "2024-11-19T15:24:06.981840Z",
     "start_time": "2024-11-19T15:24:05.855933Z"
    }
   },
   "cell_type": "code",
   "source": [
    "paths = [\"./imagini_auxiliare/\" + file for file in os.listdir(\"./imagini_auxiliare\")]\n",
    "test_tables = extract_game(paths)\n",
    "game_tables = extract_relevant_game(test_tables)\n",
    "\n",
    "lines = draw_lines(game_tables)"
   ],
   "id": "7a19d8cf4b09f384",
   "outputs": [
    {
     "name": "stderr",
     "output_type": "stream",
     "text": [
      "100%|██████████| 4/4 [00:01<00:00,  3.80it/s]\n",
      "100%|██████████| 4/4 [00:00<00:00, 105.45it/s]\n",
      "100%|██████████| 4/4 [00:00<00:00, 930.47it/s]\n"
     ]
    }
   ],
   "execution_count": 78
  },
  {
   "metadata": {
    "ExecuteTime": {
     "end_time": "2024-11-19T15:24:06.994510Z",
     "start_time": "2024-11-19T15:24:06.992316Z"
    }
   },
   "cell_type": "code",
   "source": [
    "\n",
    "def get_pieces_numbers():\n",
    "    return [0, 1, 2, 3, 4, 5, 6, 7, 8, 9, 10, 11, 12, 13, 14, 15, 16, 17, 18, 19, 20, 21, 24, 25, 27, 28, 30, 32, 35, 36, 40, 42, 45, 48, 49, 50, 54, 56, 60, 63, 64, 70, 72, 80, 81, 90]"
   ],
   "id": "d7f2fef8cc93e0f",
   "outputs": [],
   "execution_count": 79
  },
  {
   "metadata": {},
   "cell_type": "markdown",
   "source": "## Template extractor from sample images",
   "id": "e0fe896d92f010c0"
  },
  {
   "metadata": {
    "ExecuteTime": {
     "end_time": "2024-11-19T15:24:07.055011Z",
     "start_time": "2024-11-19T15:24:07.048232Z"
    }
   },
   "cell_type": "code",
   "source": [
    "def store_template_numbers1(offset = 0):\n",
    "\n",
    "    img = [\"./imagini_auxiliare/03.jpg\"]\n",
    "    table = extract_game(img)\n",
    "    game_table = extract_relevant_game(table)[0]\n",
    "\n",
    "    lines_vertical,lines_horizontal = get_lines_coords()\n",
    "\n",
    "    piece_values = [0, 1, 2, 3, 4, 5, 6, 7, 8, 9, 10, 11, 12, 13, 14, 15, 16, 17, 18, 19, 20, 21, 24, 25, 27, 28, 30, 32, 35, 36, 40, 42, 45, 48, 49, 50, 54, 56, 60, 63, 64, 70, 72, 80, 81, 90]\n",
    "\n",
    "    index = 0\n",
    "\n",
    "    for i in range(5,11):\n",
    "        for j in range(4,12):\n",
    "\n",
    "            if index == len(piece_values):\n",
    "                return\n",
    "\n",
    "            y_min = lines_vertical[j][0][0] + offset\n",
    "            y_max = lines_vertical[j + 1][1][0] - offset\n",
    "            x_min = lines_horizontal[i][0][1] + offset\n",
    "            x_max = lines_horizontal[i + 1][1][1] - offset\n",
    "\n",
    "            patch = game_table[x_min:x_max,y_min:y_max:].copy()\n",
    "            cv.imwrite(\"./templates/sample3/\" + str(piece_values[index])+ \".jpg\", patch)\n",
    "            index += 1\n",
    "\n",
    "\n",
    "\n",
    "def store_template_numbers2(offset = 5):\n",
    "\n",
    "    img = [\"./imagini_auxiliare/04.jpg\"]\n",
    "    table = extract_game(img)\n",
    "    game_table = extract_relevant_game(table)[0]\n",
    "\n",
    "    lines_vertical,lines_horizontal = get_lines_coords()\n",
    "\n",
    "    piece_values = [0, 1, 2, 3, 4, 5, 6, 7, 8, 9, 10, 11, 12, 13, 14, 15, 16, 17, 18, 19, 20, 21, 24, 25, 27, 28, 30, 32, 35, 36, 40, 42, 45, 48, 49, 50, 54, 56, 60, 63, 64, 70, 72, 80, 81, 90]\n",
    "\n",
    "    index = 0\n",
    "\n",
    "    for i in range(0,len(lines_horizontal)-1,2):\n",
    "        for j in range(0,len(lines_vertical)-1,2):\n",
    "\n",
    "            if index == len(piece_values):\n",
    "                return\n",
    "\n",
    "            y_min = lines_vertical[j][0][0] + offset\n",
    "            y_max = lines_vertical[j + 1][1][0] - offset\n",
    "            x_min = lines_horizontal[i][0][1] + offset\n",
    "            x_max = lines_horizontal[i + 1][1][1] - offset\n",
    "\n",
    "            patch = game_table[x_min:x_max,y_min:y_max:].copy()\n",
    "            cv.imwrite(\"./templates/sample4/\" + str(piece_values[index])+ \".jpg\", patch)\n",
    "            index += 1\n",
    "\n",
    "\n",
    "def store_thresholded_templates(source_path = \"./templates/sample4\",destination_path = \"./thresholded_templates/sample4\"):\n",
    "    paths = sorted(os.listdir(source_path))\n",
    "\n",
    "    for path in paths:\n",
    "        img = cv.imread(os.path.join(source_path,path))\n",
    "        img = cv.cvtColor(img, cv.COLOR_BGR2GRAY)\n",
    "\n",
    "        _, img = cv.threshold(img,80,255,cv.THRESH_BINARY_INV)\n",
    "        cv.imwrite(os.path.join(destination_path,path), img)\n",
    "\n"
   ],
   "id": "f635a653fcd6d561",
   "outputs": [],
   "execution_count": 80
  },
  {
   "metadata": {
    "ExecuteTime": {
     "end_time": "2024-11-19T15:25:37.564988Z",
     "start_time": "2024-11-19T15:25:37.245002Z"
    }
   },
   "cell_type": "code",
   "source": [
    "store_template_numbers2(20)\n",
    "store_thresholded_templates(source_path = \"./templates/sample4\",destination_path = \"./thresholded_templates/sample4\")"
   ],
   "id": "c0685adfc88e3f0a",
   "outputs": [
    {
     "name": "stderr",
     "output_type": "stream",
     "text": [
      "100%|██████████| 1/1 [00:00<00:00,  3.73it/s]\n",
      "100%|██████████| 1/1 [00:00<00:00, 122.38it/s]\n"
     ]
    }
   ],
   "execution_count": 84
  },
  {
   "metadata": {
    "ExecuteTime": {
     "end_time": "2024-11-19T15:25:38.661548Z",
     "start_time": "2024-11-19T15:25:38.656181Z"
    }
   },
   "cell_type": "code",
   "source": [
    "def classify_number(patch):\n",
    "\n",
    "    maxi = -np.inf\n",
    "    chosen_number = -1\n",
    "    numbers = get_pieces_numbers()\n",
    "\n",
    "    for number in numbers:\n",
    "        template = cv.imread(\"./thresholded_templates/sample4/\" + str(number) + \".jpg\")\n",
    "        template = cv.cvtColor(template, cv.COLOR_BGR2GRAY)\n",
    "        corr = cv.matchTemplate(patch,template, cv.TM_CCOEFF_NORMED)\n",
    "        corr=np.max(corr)\n",
    "\n",
    "        if corr > maxi:\n",
    "            maxi = corr\n",
    "            chosen_number = number\n",
    "\n",
    "\n",
    "    return chosen_number\n",
    "\n",
    "def get_number_pos(thresholded_image,offset):\n",
    "    lines_vertical,lines_horizontal = get_lines_coords()\n",
    "\n",
    "    coords=[]\n",
    "    patches = []\n",
    "\n",
    "    for i in range(len(lines_horizontal)-1):\n",
    "        for j in range(len(lines_vertical)-1):\n",
    "\n",
    "            y_min = lines_vertical[j][0][0] + offset\n",
    "            y_max = lines_vertical[j + 1][1][0] - offset\n",
    "            x_min = lines_horizontal[i][0][1] + offset\n",
    "            x_max = lines_horizontal[i + 1][1][1] - offset\n",
    "\n",
    "            patch = thresholded_image[x_min:x_max,y_min:y_max].copy()\n",
    "            patches.append(patch)\n",
    "\n",
    "            mean = np.mean(patch)\n",
    "            h,w = patch.shape\n",
    "\n",
    "            if mean > (255 * 15) / (h * w) :\n",
    "                predicted_number = classify_number(patch)\n",
    "                coords.append((i,j,predicted_number))\n",
    "            #     show_image_matplot(\"patch \" + str(i)+ \" \" + str(j) + \" \"+ str(predicted_number), patch)\n",
    "            # else:\n",
    "            #     show_image_matplot(\"patch \" + str(i)+ \" \" + str(j), patch)\n",
    "    return coords,patches\n",
    "\n"
   ],
   "id": "5b3b7d70dc21fc9c",
   "outputs": [],
   "execution_count": 85
  },
  {
   "metadata": {
    "ExecuteTime": {
     "end_time": "2024-11-19T15:26:22.229596Z",
     "start_time": "2024-11-19T15:25:40.467028Z"
    }
   },
   "cell_type": "code",
   "source": [
    "img = relevant_game_tables[49]\n",
    "img = cv.cvtColor(img, cv.COLOR_BGR2GRAY)\n",
    "_, img = cv.threshold(img,80,255,cv.THRESH_BINARY_INV)\n",
    "show_image_cv(\"ceva\",img)\n",
    "\n",
    "coords,patches = get_number_pos(img,20)\n",
    "\n",
    "for coord in coords:\n",
    "    index = coord[0] * 14 + coord[1]\n",
    "    show_image_cv(str(coord[2]),patches[index])"
   ],
   "id": "56f6c59e23ec6b7",
   "outputs": [
    {
     "ename": "KeyboardInterrupt",
     "evalue": "",
     "output_type": "error",
     "traceback": [
      "\u001B[0;31m---------------------------------------------------------------------------\u001B[0m",
      "\u001B[0;31mKeyboardInterrupt\u001B[0m                         Traceback (most recent call last)",
      "Cell \u001B[0;32mIn[86], line 10\u001B[0m\n\u001B[1;32m      8\u001B[0m \u001B[38;5;28;01mfor\u001B[39;00m coord \u001B[38;5;129;01min\u001B[39;00m coords:\n\u001B[1;32m      9\u001B[0m     index \u001B[38;5;241m=\u001B[39m coord[\u001B[38;5;241m0\u001B[39m] \u001B[38;5;241m*\u001B[39m \u001B[38;5;241m14\u001B[39m \u001B[38;5;241m+\u001B[39m coord[\u001B[38;5;241m1\u001B[39m]\n\u001B[0;32m---> 10\u001B[0m     \u001B[43mshow_image_cv\u001B[49m\u001B[43m(\u001B[49m\u001B[38;5;28;43mstr\u001B[39;49m\u001B[43m(\u001B[49m\u001B[43mcoord\u001B[49m\u001B[43m[\u001B[49m\u001B[38;5;241;43m2\u001B[39;49m\u001B[43m]\u001B[49m\u001B[43m)\u001B[49m\u001B[43m,\u001B[49m\u001B[43mpatches\u001B[49m\u001B[43m[\u001B[49m\u001B[43mindex\u001B[49m\u001B[43m]\u001B[49m\u001B[43m)\u001B[49m\n",
      "Cell \u001B[0;32mIn[69], line 8\u001B[0m, in \u001B[0;36mshow_image_cv\u001B[0;34m(title, image, fx, fy, output)\u001B[0m\n\u001B[1;32m      6\u001B[0m image \u001B[38;5;241m=\u001B[39m cv\u001B[38;5;241m.\u001B[39mresize(image,(\u001B[38;5;241m0\u001B[39m,\u001B[38;5;241m0\u001B[39m),fx\u001B[38;5;241m=\u001B[39mfx,fy\u001B[38;5;241m=\u001B[39mfy)\n\u001B[1;32m      7\u001B[0m cv\u001B[38;5;241m.\u001B[39mimshow(title, image)\n\u001B[0;32m----> 8\u001B[0m \u001B[43mcv\u001B[49m\u001B[38;5;241;43m.\u001B[39;49m\u001B[43mwaitKey\u001B[49m\u001B[43m(\u001B[49m\u001B[38;5;241;43m0\u001B[39;49m\u001B[43m)\u001B[49m\n\u001B[1;32m      9\u001B[0m cv\u001B[38;5;241m.\u001B[39mdestroyAllWindows()\n",
      "\u001B[0;31mKeyboardInterrupt\u001B[0m: "
     ]
    }
   ],
   "execution_count": 86
  },
  {
   "metadata": {
    "ExecuteTime": {
     "end_time": "2024-11-19T15:24:55.249058770Z",
     "start_time": "2024-11-19T15:08:33.914501Z"
    }
   },
   "cell_type": "code",
   "source": [
    "print(coords)\n",
    "sample = patches[7]\n",
    "cv.imwrite(\"test.jpg\", sample)\n",
    "show_image_matplot(\"patch\",sample)\n",
    "eight = cv.cvtColor(cv.imread(\"./thresholded_templates/sample4/18.jpg\"), cv.COLOR_BGR2GRAY)\n",
    "show_image_matplot(\"template\",eight)\n",
    "ten = cv.cvtColor(cv.imread(\"./thresholded_templates/sample4/13.jpg\"),cv.COLOR_BGR2GRAY)\n",
    "show_image_matplot(\"template\",ten)\n",
    "\n",
    "corr1 = cv.matchTemplate(sample,ten,cv.TM_CCOEFF_NORMED)\n",
    "corr2 = cv.matchTemplate(sample,eight,cv.TM_CCOEFF_NORMED)\n",
    "\n",
    "print(corr1,corr2)"
   ],
   "id": "41ba07183737080d",
   "outputs": [
    {
     "name": "stdout",
     "output_type": "stream",
     "text": [
      "[(0, 7, 13), (0, 9, 81), (1, 7, 15), (1, 9, 6), (2, 7, 16), (2, 8, 64), (2, 9, 9), (3, 7, 63), (3, 9, 6), (3, 11, 45), (4, 7, 19), (4, 9, 9), (4, 11, 35), (4, 12, 64), (5, 3, 9), (5, 4, 14), (5, 5, 11), (5, 6, 3), (5, 7, 9), (5, 8, 9), (5, 9, 8), (5, 10, 10), (5, 11, 14), (5, 12, 21), (6, 6, 1), (6, 7, 4), (6, 8, 9), (6, 9, 6), (6, 10, 8), (6, 11, 3), (6, 12, 1), (7, 5, 7), (7, 6, 11), (7, 7, 9), (7, 8, 7), (7, 9, 8), (7, 10, 72), (7, 12, 1), (8, 4, 6), (8, 5, 13), (8, 6, 3), (8, 7, 9), (8, 8, 13), (8, 10, 45), (8, 11, 64), (9, 3, 9), (9, 4, 21), (9, 5, 6), (9, 6, 5), (9, 7, 56), (9, 8, 17), (9, 9, 80), (10, 4, 8), (10, 7, 80), (10, 8, 3), (10, 9, 1), (11, 7, 72), (11, 8, 10), (12, 8, 10), (12, 9, 20), (13, 8, 20)]\n"
     ]
    },
    {
     "data": {
      "text/plain": [
       "<Figure size 640x480 with 1 Axes>"
      ],
      "image/png": "[encoded data removed]"
     },
     "metadata": {},
     "output_type": "display_data"
    },
    {
     "data": {
      "text/plain": [
       "<Figure size 640x480 with 1 Axes>"
      ],
      "image/png": "[encoded data removed]"
     },
     "metadata": {},
     "output_type": "display_data"
    },
    {
     "data": {
      "text/plain": [
       "<Figure size 640x480 with 1 Axes>"
      ],
      "image/png": "[encoded data removed]"
     },
     "metadata": {},
     "output_type": "display_data"
    },
    {
     "name": "stdout",
     "output_type": "stream",
     "text": [
      "[[0.62531865]] [[0.42250505]]\n"
     ]
    }
   ],
   "execution_count": 41
  }
 ],
 "metadata": {
  "kernelspec": {
   "display_name": "Python 3",
   "language": "python",
   "name": "python3"
  },
  "language_info": {
   "codemirror_mode": {
    "name": "ipython",
    "version": 2
   },
   "file_extension": ".py",
   "mimetype": "text/x-python",
   "name": "python",
   "nbconvert_exporter": "python",
   "pygments_lexer": "ipython2",
   "version": "2.7.6"
  }
 },
 "nbformat": 4,
 "nbformat_minor": 5
}
