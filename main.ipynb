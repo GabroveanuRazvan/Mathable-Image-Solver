{
 "cells": [
  {
   "metadata": {},
   "cell_type": "markdown",
   "source": "## Imports",
   "id": "fc05180e12bcabc1"
  },
  {
   "cell_type": "code",
   "id": "initial_id",
   "metadata": {
    "collapsed": true,
    "ExecuteTime": {
     "end_time": "2024-11-20T13:55:57.393422Z",
     "start_time": "2024-11-20T13:55:57.042629Z"
    }
   },
   "source": [
    "import time\n",
    "\n",
    "import numpy as np\n",
    "import cv2 as cv\n",
    "import os\n",
    "import glob\n",
    "import matplotlib.pyplot as plt\n",
    "from cv2 import cvtColor\n",
    "from numpy.random import uniform\n",
    "import pdb\n",
    "from tqdm import tqdm\n",
    "\n",
    "import utils"
   ],
   "outputs": [],
   "execution_count": 1
  },
  {
   "metadata": {
    "ExecuteTime": {
     "end_time": "2024-11-20T13:49:51.536085Z",
     "start_time": "2024-11-20T13:49:38.601941Z"
    }
   },
   "cell_type": "code",
   "source": "game_tables = utils.extract_game(utils.get_image_paths(\"antrenare\",1))",
   "id": "46642db5e9549dc8",
   "outputs": [
    {
     "name": "stderr",
     "output_type": "stream",
     "text": [
      "100%|██████████| 50/50 [00:12<00:00,  3.87it/s]\n"
     ]
    }
   ],
   "execution_count": 2
  },
  {
   "metadata": {
    "ExecuteTime": {
     "end_time": "2024-11-20T13:49:52.115091Z",
     "start_time": "2024-11-20T13:49:51.570344Z"
    }
   },
   "cell_type": "code",
   "source": "relevant_game_tables = utils.extract_relevant_game(game_tables)",
   "id": "4ab7a68b6e45ce36",
   "outputs": [
    {
     "name": "stderr",
     "output_type": "stream",
     "text": [
      "100%|██████████| 50/50 [00:00<00:00, 114.33it/s]\n"
     ]
    }
   ],
   "execution_count": 3
  },
  {
   "metadata": {
    "ExecuteTime": {
     "end_time": "2024-11-20T13:49:55.178926Z",
     "start_time": "2024-11-20T13:49:52.121771Z"
    }
   },
   "cell_type": "code",
   "source": "utils.show_images_cv(relevant_game_tables,fx=0.3,fy=0.3)",
   "id": "d20b7eb8ac3498d6",
   "outputs": [
    {
     "name": "stderr",
     "output_type": "stream",
     "text": [
      "Warning: Ignoring XDG_SESSION_TYPE=wayland on Gnome. Use QT_QPA_PLATFORM=wayland to run on Wayland anyway.\n"
     ]
    }
   ],
   "execution_count": 4
  },
  {
   "metadata": {
    "ExecuteTime": {
     "end_time": "2024-11-20T13:49:59.155922Z",
     "start_time": "2024-11-20T13:49:55.190463Z"
    }
   },
   "cell_type": "code",
   "source": [
    "delimited_tables = utils.draw_lines(relevant_game_tables)\n",
    "utils.show_images_cv(delimited_tables,fx=0.3,fy=0.3)"
   ],
   "id": "c5db5fa377941776",
   "outputs": [
    {
     "name": "stderr",
     "output_type": "stream",
     "text": [
      "100%|██████████| 50/50 [00:00<00:00, 931.68it/s]\n"
     ]
    }
   ],
   "execution_count": 5
  },
  {
   "metadata": {
    "ExecuteTime": {
     "end_time": "2024-11-20T13:57:20.014052Z",
     "start_time": "2024-11-20T13:57:19.357432Z"
    }
   },
   "cell_type": "code",
   "source": [
    "utils.store_template_numbers1(10)\n",
    "utils.store_template_numbers2(8)"
   ],
   "id": "7a19d8cf4b09f384",
   "outputs": [
    {
     "name": "stderr",
     "output_type": "stream",
     "text": [
      "100%|██████████| 1/1 [00:00<00:00,  3.37it/s]\n",
      "100%|██████████| 1/1 [00:00<00:00, 88.79it/s]\n",
      "100%|██████████| 1/1 [00:00<00:00,  3.69it/s]\n",
      "100%|██████████| 1/1 [00:00<00:00, 87.28it/s]\n"
     ]
    }
   ],
   "execution_count": 5
  },
  {
   "metadata": {
    "ExecuteTime": {
     "end_time": "2024-11-20T08:17:21.079781Z",
     "start_time": "2024-11-20T08:17:21.076545Z"
    }
   },
   "cell_type": "code",
   "source": "",
   "id": "5b3b7d70dc21fc9c",
   "outputs": [],
   "execution_count": 15
  },
  {
   "metadata": {
    "ExecuteTime": {
     "end_time": "2024-11-20T08:19:29.186537Z",
     "start_time": "2024-11-20T08:19:22.000080Z"
    }
   },
   "cell_type": "code",
   "source": "",
   "id": "56f6c59e23ec6b7",
   "outputs": [],
   "execution_count": 17
  }
 ],
 "metadata": {
  "kernelspec": {
   "display_name": "Python 3",
   "language": "python",
   "name": "python3"
  },
  "language_info": {
   "codemirror_mode": {
    "name": "ipython",
    "version": 2
   },
   "file_extension": ".py",
   "mimetype": "text/x-python",
   "name": "python",
   "nbconvert_exporter": "python",
   "pygments_lexer": "ipython2",
   "version": "2.7.6"
  }
 },
 "nbformat": 4,
 "nbformat_minor": 5
}
