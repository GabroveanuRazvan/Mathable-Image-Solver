{
 "cells": [
  {
   "metadata": {},
   "cell_type": "markdown",
   "source": "## Imports",
   "id": "fc05180e12bcabc1"
  },
  {
   "cell_type": "code",
   "id": "initial_id",
   "metadata": {
    "collapsed": true,
    "ExecuteTime": {
     "end_time": "2024-11-23T08:06:18.680247Z",
     "start_time": "2024-11-23T08:06:18.677114Z"
    }
   },
   "source": [
    "import time\n",
    "\n",
    "import numpy as np\n",
    "import cv2 as cv\n",
    "import os\n",
    "import glob\n",
    "import matplotlib.pyplot as plt\n",
    "from cv2 import cvtColor\n",
    "from numpy.random import uniform\n",
    "import pdb\n",
    "from tqdm import tqdm\n",
    "\n",
    "import utils\n",
    "from utils import show_image_matplot,show_image_cv"
   ],
   "outputs": [],
   "execution_count": 3
  },
  {
   "metadata": {
    "ExecuteTime": {
     "end_time": "2024-11-21T15:12:44.651926Z",
     "start_time": "2024-11-21T15:12:44.650479Z"
    }
   },
   "cell_type": "code",
   "source": [
    "# utils.store_template_numbers1(10)\n",
    "# utils.store_template_numbers2(8)"
   ],
   "id": "3fe077815b7425e9",
   "outputs": [],
   "execution_count": 6
  },
  {
   "metadata": {
    "ExecuteTime": {
     "end_time": "2024-11-21T15:12:44.694866Z",
     "start_time": "2024-11-21T15:12:44.693051Z"
    }
   },
   "cell_type": "code",
   "source": [
    "# utils.store_binary_templates(100,\"./templates/sample1\",\"./templates_binary/sample1\")\n",
    "# utils.store_binary_templates(100)"
   ],
   "id": "7a19d8cf4b09f384",
   "outputs": [],
   "execution_count": 7
  },
  {
   "metadata": {
    "ExecuteTime": {
     "end_time": "2024-11-21T15:12:44.740707Z",
     "start_time": "2024-11-21T15:12:44.738712Z"
    }
   },
   "cell_type": "code",
   "source": "# new_templates = crop_and_store_templates()",
   "id": "8e5f89cdfc3447ac",
   "outputs": [],
   "execution_count": 8
  },
  {
   "metadata": {
    "ExecuteTime": {
     "end_time": "2024-11-21T15:12:44.787643Z",
     "start_time": "2024-11-21T15:12:44.785428Z"
    }
   },
   "cell_type": "code",
   "source": "#utils.rewrite_all()",
   "id": "80240a495e9a035c",
   "outputs": [],
   "execution_count": 9
  },
  {
   "metadata": {
    "ExecuteTime": {
     "end_time": "2024-11-22T10:48:41.232627Z",
     "start_time": "2024-11-22T10:48:41.229874Z"
    }
   },
   "cell_type": "code",
   "source": [
    "\n",
    "# for i in range(4):\n",
    "#     utils.move_train_data(i+1)\n"
   ],
   "id": "f287a474f5afe5a7",
   "outputs": [],
   "execution_count": 3
  },
  {
   "metadata": {
    "ExecuteTime": {
     "end_time": "2024-11-23T08:06:21.740053Z",
     "start_time": "2024-11-23T08:06:20.148246Z"
    }
   },
   "cell_type": "code",
   "source": [
    "import mathable_solver as s\n",
    "\n",
    "for i in range(0,4):\n",
    "    solver = s.Solver(i+1)\n",
    "    solver.solve()"
   ],
   "id": "7f19211c31e0b945",
   "outputs": [
    {
     "name": "stderr",
     "output_type": "stream",
     "text": [
      " 10%|█         | 5/50 [00:01<00:13,  3.28it/s]\n"
     ]
    },
    {
     "ename": "KeyboardInterrupt",
     "evalue": "",
     "output_type": "error",
     "traceback": [
      "\u001B[0;31m---------------------------------------------------------------------------\u001B[0m",
      "\u001B[0;31mKeyboardInterrupt\u001B[0m                         Traceback (most recent call last)",
      "Cell \u001B[0;32mIn[4], line 5\u001B[0m\n\u001B[1;32m      3\u001B[0m \u001B[38;5;28;01mfor\u001B[39;00m i \u001B[38;5;129;01min\u001B[39;00m \u001B[38;5;28mrange\u001B[39m(\u001B[38;5;241m0\u001B[39m,\u001B[38;5;241m4\u001B[39m):\n\u001B[1;32m      4\u001B[0m     solver \u001B[38;5;241m=\u001B[39m s\u001B[38;5;241m.\u001B[39mSolver(i\u001B[38;5;241m+\u001B[39m\u001B[38;5;241m1\u001B[39m)\n\u001B[0;32m----> 5\u001B[0m     \u001B[43msolver\u001B[49m\u001B[38;5;241;43m.\u001B[39;49m\u001B[43msolve\u001B[49m\u001B[43m(\u001B[49m\u001B[43m)\u001B[49m\n",
      "File \u001B[0;32m~/PycharmProjects/Mathable-Image-Solver/mathable_solver.py:67\u001B[0m, in \u001B[0;36mSolver.solve\u001B[0;34m(self, src_dir, output_dest_dir)\u001B[0m\n\u001B[1;32m     64\u001B[0m \u001B[38;5;28mself\u001B[39m\u001B[38;5;241m.\u001B[39mreset(output_dest_dir)\n\u001B[1;32m     66\u001B[0m \u001B[38;5;66;03m# extract the game tables and its relevant data\u001B[39;00m\n\u001B[0;32m---> 67\u001B[0m game_tables \u001B[38;5;241m=\u001B[39m \u001B[43mutils\u001B[49m\u001B[38;5;241;43m.\u001B[39;49m\u001B[43mextract_game\u001B[49m\u001B[43m(\u001B[49m\u001B[43mutils\u001B[49m\u001B[38;5;241;43m.\u001B[39;49m\u001B[43mget_image_paths\u001B[49m\u001B[43m(\u001B[49m\u001B[43msrc_dir\u001B[49m\u001B[43m,\u001B[49m\u001B[43m \u001B[49m\u001B[38;5;28;43mself\u001B[39;49m\u001B[38;5;241;43m.\u001B[39;49m\u001B[43mdata_set_id\u001B[49m\u001B[43m)\u001B[49m\u001B[43m)\u001B[49m\n\u001B[1;32m     68\u001B[0m relevant_game_tables \u001B[38;5;241m=\u001B[39m utils\u001B[38;5;241m.\u001B[39mextract_relevant_game(game_tables)\n\u001B[1;32m     70\u001B[0m \u001B[38;5;28;01massert\u001B[39;00m \u001B[38;5;28mlen\u001B[39m(game_tables) \u001B[38;5;241m>\u001B[39m \u001B[38;5;241m0\u001B[39m, \u001B[38;5;124m\"\u001B[39m\u001B[38;5;124mGame tables not found\u001B[39m\u001B[38;5;124m\"\u001B[39m\n",
      "File \u001B[0;32m~/PycharmProjects/Mathable-Image-Solver/utils.py:181\u001B[0m, in \u001B[0;36mextract_game\u001B[0;34m(image_paths, size)\u001B[0m\n\u001B[1;32m    179\u001B[0m \u001B[38;5;28;01mfor\u001B[39;00m i \u001B[38;5;129;01min\u001B[39;00m tqdm(\u001B[38;5;28mrange\u001B[39m(size)):\n\u001B[1;32m    180\u001B[0m     img \u001B[38;5;241m=\u001B[39m cv\u001B[38;5;241m.\u001B[39mimread(image_paths[i])\n\u001B[0;32m--> 181\u001B[0m     result \u001B[38;5;241m=\u001B[39m \u001B[43mget_game_countour\u001B[49m\u001B[43m(\u001B[49m\u001B[43mimg\u001B[49m\u001B[43m)\u001B[49m\n\u001B[1;32m    182\u001B[0m     images\u001B[38;5;241m.\u001B[39mappend(result)\n\u001B[1;32m    183\u001B[0m \u001B[38;5;28;01mreturn\u001B[39;00m np\u001B[38;5;241m.\u001B[39marray(images)\n",
      "File \u001B[0;32m~/PycharmProjects/Mathable-Image-Solver/utils.py:118\u001B[0m, in \u001B[0;36mget_game_countour\u001B[0;34m(image, output)\u001B[0m\n\u001B[1;32m    109\u001B[0m \u001B[38;5;28;01mdef\u001B[39;00m \u001B[38;5;21mget_game_countour\u001B[39m(image,output \u001B[38;5;241m=\u001B[39m \u001B[38;5;28;01mFalse\u001B[39;00m):\n\u001B[1;32m    111\u001B[0m \u001B[38;5;250m    \u001B[39m\u001B[38;5;124;03m\"\"\"\u001B[39;00m\n\u001B[1;32m    112\u001B[0m \n\u001B[1;32m    113\u001B[0m \u001B[38;5;124;03m    :param image: Mathable image\u001B[39;00m\n\u001B[1;32m    114\u001B[0m \u001B[38;5;124;03m    :param output: if true, show intermediate images\u001B[39;00m\n\u001B[1;32m    115\u001B[0m \u001B[38;5;124;03m    :return: Cropped mathable game image\u001B[39;00m\n\u001B[1;32m    116\u001B[0m \u001B[38;5;124;03m    \"\"\"\u001B[39;00m\n\u001B[0;32m--> 118\u001B[0m     masked_image \u001B[38;5;241m=\u001B[39m \u001B[43mget_outer_masked_image\u001B[49m\u001B[43m(\u001B[49m\u001B[43mimage\u001B[49m\u001B[43m)\u001B[49m\n\u001B[1;32m    119\u001B[0m     masked_image_grey \u001B[38;5;241m=\u001B[39m cv\u001B[38;5;241m.\u001B[39mcvtColor(masked_image, cv\u001B[38;5;241m.\u001B[39mCOLOR_BGR2GRAY)\n\u001B[1;32m    121\u001B[0m     show_image_cv(\u001B[38;5;124m\"\u001B[39m\u001B[38;5;124mmasked_image_grey\u001B[39m\u001B[38;5;124m\"\u001B[39m,masked_image_grey,output \u001B[38;5;241m=\u001B[39m output)\n",
      "File \u001B[0;32m~/PycharmProjects/Mathable-Image-Solver/utils.py:99\u001B[0m, in \u001B[0;36mget_outer_masked_image\u001B[0;34m(img, output)\u001B[0m\n\u001B[1;32m     95\u001B[0m upper_hsv_bound \u001B[38;5;241m=\u001B[39m np\u001B[38;5;241m.\u001B[39marray([\u001B[38;5;241m255\u001B[39m,\u001B[38;5;241m255\u001B[39m,\u001B[38;5;241m255\u001B[39m])\n\u001B[1;32m     97\u001B[0m hsv_image \u001B[38;5;241m=\u001B[39m cv\u001B[38;5;241m.\u001B[39mcvtColor(img, cv\u001B[38;5;241m.\u001B[39mCOLOR_BGR2HSV)\n\u001B[0;32m---> 99\u001B[0m mask \u001B[38;5;241m=\u001B[39m \u001B[43mcv\u001B[49m\u001B[38;5;241;43m.\u001B[39;49m\u001B[43minRange\u001B[49m\u001B[43m(\u001B[49m\u001B[43mhsv_image\u001B[49m\u001B[43m,\u001B[49m\u001B[43m \u001B[49m\u001B[43mlower_hsv_bound\u001B[49m\u001B[43m,\u001B[49m\u001B[43m \u001B[49m\u001B[43mupper_hsv_bound\u001B[49m\u001B[43m)\u001B[49m\n\u001B[1;32m    100\u001B[0m show_image_cv(\u001B[38;5;124m\"\u001B[39m\u001B[38;5;124mmask\u001B[39m\u001B[38;5;124m\"\u001B[39m,mask,output \u001B[38;5;241m=\u001B[39m output)\n\u001B[1;32m    102\u001B[0m new_image \u001B[38;5;241m=\u001B[39m cv\u001B[38;5;241m.\u001B[39mbitwise_and(img, img, mask\u001B[38;5;241m=\u001B[39mmask)\n",
      "\u001B[0;31mKeyboardInterrupt\u001B[0m: "
     ]
    }
   ],
   "execution_count": 4
  }
 ],
 "metadata": {
  "kernelspec": {
   "display_name": "Python 3",
   "language": "python",
   "name": "python3"
  },
  "language_info": {
   "codemirror_mode": {
    "name": "ipython",
    "version": 2
   },
   "file_extension": ".py",
   "mimetype": "text/x-python",
   "name": "python",
   "nbconvert_exporter": "python",
   "pygments_lexer": "ipython2",
   "version": "2.7.6"
  }
 },
 "nbformat": 4,
 "nbformat_minor": 5
}
