{
 "cells": [
  {
   "metadata": {
    "ExecuteTime": {
     "end_time": "2024-11-29T17:24:07.388254Z",
     "start_time": "2024-11-29T17:23:24.497953Z"
    }
   },
   "cell_type": "code",
   "source": [
    "\n",
    "from library import mathable_solver as s\n",
    "\n",
    "source_images_dir = \"./antrenare\"\n",
    "output_destination_dir = \"./343_Gabroveanu_Razvan\"\n",
    "\n",
    "# Create a solver for each data set and classify the images\n",
    "# A data set consists of a set of images that are named (data_set_index)_(image_index)\n",
    "for i in range(0,4):\n",
    "    solver = s.Solver(i+1,src_images_dir=source_images_dir,output_dest_dir=output_destination_dir)\n",
    "    solver.solve()"
   ],
   "id": "7f19211c31e0b945",
   "outputs": [
    {
     "name": "stderr",
     "output_type": "stream",
     "text": [
      "100%|██████████| 50/50 [00:09<00:00,  5.05it/s]\n",
      "100%|██████████| 50/50 [00:00<00:00, 108.35it/s]\n",
      "100%|██████████| 50/50 [00:00<00:00, 193.44it/s]\n",
      "100%|██████████| 50/50 [00:10<00:00,  4.99it/s]\n",
      "100%|██████████| 50/50 [00:00<00:00, 93.45it/s] \n",
      "100%|██████████| 50/50 [00:00<00:00, 222.45it/s]\n",
      "100%|██████████| 50/50 [00:09<00:00,  5.24it/s]\n",
      "100%|██████████| 50/50 [00:00<00:00, 108.56it/s]\n",
      "100%|██████████| 50/50 [00:00<00:00, 200.60it/s]\n",
      "100%|██████████| 50/50 [00:09<00:00,  5.18it/s]\n",
      "100%|██████████| 50/50 [00:00<00:00, 114.94it/s]\n",
      "100%|██████████| 50/50 [00:00<00:00, 226.51it/s]\n"
     ]
    }
   ],
   "execution_count": 1
  }
 ],
 "metadata": {
  "kernelspec": {
   "display_name": "Python 3",
   "language": "python",
   "name": "python3"
  },
  "language_info": {
   "codemirror_mode": {
    "name": "ipython",
    "version": 2
   },
   "file_extension": ".py",
   "mimetype": "text/x-python",
   "name": "python",
   "nbconvert_exporter": "python",
   "pygments_lexer": "ipython2",
   "version": "2.7.6"
  }
 },
 "nbformat": 4,
 "nbformat_minor": 5
}
