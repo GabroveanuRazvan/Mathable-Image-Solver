{
 "cells": [
  {
   "metadata": {},
   "cell_type": "markdown",
   "source": "## Imports",
   "id": "fc05180e12bcabc1"
  },
  {
   "cell_type": "code",
   "id": "initial_id",
   "metadata": {
    "collapsed": true,
    "ExecuteTime": {
     "end_time": "2024-11-16T15:14:24.160032Z",
     "start_time": "2024-11-16T15:14:23.789250Z"
    }
   },
   "source": [
    "import time\n",
    "\n",
    "import numpy as np\n",
    "import cv2 as cv\n",
    "import os\n",
    "import glob\n",
    "import matplotlib.pyplot as plt\n",
    "from numpy.random import uniform\n",
    "import pdb"
   ],
   "outputs": [],
   "execution_count": 2
  },
  {
   "metadata": {},
   "cell_type": "markdown",
   "source": "## Show functions",
   "id": "348ac1e3c2b5afba"
  },
  {
   "metadata": {
    "ExecuteTime": {
     "end_time": "2024-11-16T15:14:25.516090Z",
     "start_time": "2024-11-16T15:14:25.512664Z"
    }
   },
   "cell_type": "code",
   "source": [
    "def show_image_cv(title,image,fx=0.2,fy=0.2):\n",
    "    image = cv.resize(image,(0,0),fx=fx,fy=fy)\n",
    "    cv.imshow(title, image)\n",
    "    cv.waitKey(0)\n",
    "    cv.destroyAllWindows()\n",
    "\n",
    "def show_image_matplot(title, image):\n",
    "    image_resized = cv.resize(image, (0, 0), fx=0.3, fy=0.3)\n",
    "\n",
    "    image = cv.cvtColor(image_resized, cv.COLOR_BGR2RGB)\n",
    "\n",
    "    plt.imshow(image)\n",
    "    plt.title(title)\n",
    "    plt.axis('off')  # Ascunde axele pentru a afișa doar imaginea\n",
    "    plt.show()"
   ],
   "id": "c5db5fa377941776",
   "outputs": [],
   "execution_count": 3
  },
  {
   "metadata": {},
   "cell_type": "markdown",
   "source": "## Directory and files functions",
   "id": "dfe342cc9c626820"
  },
  {
   "metadata": {
    "ExecuteTime": {
     "end_time": "2024-11-16T15:37:15.371646Z",
     "start_time": "2024-11-16T15:37:15.368519Z"
    }
   },
   "cell_type": "code",
   "source": [
    "def get_images_paths(dir,index):\n",
    "    image_paths = os.listdir(dir)\n",
    "    image_paths = [\"./\" + dir + \"/\" + file for file in image_paths if file[0:2] == str(index) + \"_\" and file[-4:] == \".jpg\"]\n",
    "    return sorted(image_paths)\n"
   ],
   "id": "f053a61260709236",
   "outputs": [],
   "execution_count": 28
  },
  {
   "metadata": {
    "ExecuteTime": {
     "end_time": "2024-11-16T15:24:07.084032Z",
     "start_time": "2024-11-16T15:24:06.151555Z"
    }
   },
   "cell_type": "code",
   "source": [
    "img = cv.imread(\"antrenare/1_01.jpg\")\n",
    "show_image_cv(\"test\",img)"
   ],
   "id": "aab772a9acdcdaaa",
   "outputs": [
    {
     "name": "stderr",
     "output_type": "stream",
     "text": [
      "Warning: Ignoring XDG_SESSION_TYPE=wayland on Gnome. Use QT_QPA_PLATFORM=wayland to run on Wayland anyway.\n"
     ]
    }
   ],
   "execution_count": 20
  },
  {
   "metadata": {},
   "cell_type": "markdown",
   "source": "## HSV masking",
   "id": "a7dee6a17d02dbb6"
  },
  {
   "metadata": {
    "ExecuteTime": {
     "end_time": "2024-11-16T15:24:11.434489Z",
     "start_time": "2024-11-16T15:24:08.204588Z"
    }
   },
   "cell_type": "code",
   "source": [
    "# hsv mask\n",
    "\n",
    "def get_outer_masked_image(img):\n",
    "    lower_hsv_bound = np.array([20,0,0])\n",
    "    upper_hsv_bound = np.array([255,255,255])\n",
    "    hsv_image = cv.cvtColor(img, cv.COLOR_BGR2HSV)\n",
    "\n",
    "    mask = cv.inRange(hsv_image, lower_hsv_bound, upper_hsv_bound)\n",
    "    show_image_cv(\"mask\",mask)\n",
    "\n",
    "    new_image = cv.bitwise_and(img, img, mask=mask)\n",
    "    show_image_cv(\"ceva\",new_image)\n",
    "\n",
    "    return new_image\n",
    "\n",
    "new_image = get_outer_masked_image(img)\n"
   ],
   "id": "426c65a0784699b7",
   "outputs": [],
   "execution_count": 21
  },
  {
   "metadata": {},
   "cell_type": "markdown",
   "source": "## Get contours function",
   "id": "704c264740ed0eac"
  },
  {
   "metadata": {
    "ExecuteTime": {
     "end_time": "2024-11-16T15:24:12.696147Z",
     "start_time": "2024-11-16T15:24:12.686896Z"
    }
   },
   "cell_type": "code",
   "source": [
    "def get_countours(masked_image_grey):\n",
    "    edges = cv.Canny(masked_image_grey, 50, 200)\n",
    "    contours, _ = cv.findContours(edges,  cv.RETR_EXTERNAL, cv.CHAIN_APPROX_SIMPLE)\n",
    "\n",
    "    show_image_cv(\"edges\",edges)\n",
    "\n",
    "    max_area = 0\n",
    "    for i in range(len(contours)):\n",
    "            if(len(contours[i]) >3):\n",
    "                possible_top_left = None\n",
    "                possible_bottom_right = None\n",
    "                for point in contours[i].squeeze():\n",
    "                    if possible_top_left is None or point[0] + point[1] < possible_top_left[0] + possible_top_left[1]:\n",
    "                        possible_top_left = point\n",
    "\n",
    "                    if possible_bottom_right is None or point[0] + point[1] > possible_bottom_right[0] + possible_bottom_right[1] :\n",
    "                        possible_bottom_right = point\n",
    "\n",
    "                diff = np.diff(contours[i].squeeze(), axis = 1)\n",
    "                possible_top_right = contours[i].squeeze()[np.argmin(diff)]\n",
    "                possible_bottom_left = contours[i].squeeze()[np.argmax(diff)]\n",
    "                if cv.contourArea(np.array([[possible_top_left],[possible_top_right],[possible_bottom_right],[possible_bottom_left]])) > max_area:\n",
    "                    max_area = cv.contourArea(np.array([[possible_top_left],[possible_top_right],[possible_bottom_right],[possible_bottom_left]]))\n",
    "                    top_left = possible_top_left\n",
    "                    bottom_right = possible_bottom_right\n",
    "                    top_right = possible_top_right\n",
    "                    bottom_left = possible_bottom_left\n",
    "\n",
    "    width = 810\n",
    "    height = 810\n",
    "\n",
    "    image_copy = cv.cvtColor(masked_image_grey.copy(),cv.COLOR_GRAY2BGR)\n",
    "    cv.circle(image_copy,tuple(top_left),20,(0,0,255),-1)\n",
    "    cv.circle(image_copy,tuple(top_right),20,(0,0,255),-1)\n",
    "    cv.circle(image_copy,tuple(bottom_left),20,(0,0,255),-1)\n",
    "    cv.circle(image_copy,tuple(bottom_right),20,(0,0,255),-1)\n",
    "    show_image_cv(\"detected corners\",image_copy)\n",
    "\n",
    "    img_grey = cv.cvtColor(img.copy(),cv.COLOR_BGR2GRAY)\n",
    "\n",
    "    puzzle = np.array([top_left,top_right,bottom_left,bottom_right],dtype=np.float32)\n",
    "    destination = np.array([[0,0],[width,0],[0,height],[width,height]],dtype=np.float32)\n",
    "    M = cv.getPerspectiveTransform(puzzle,destination)\n",
    "    result = cv.warpPerspective(img_grey,M,(width,height))\n",
    "    result = cv.cvtColor(result,cv.COLOR_GRAY2BGR)\n",
    "\n",
    "    return result"
   ],
   "id": "11bac8635a3ec320",
   "outputs": [],
   "execution_count": 22
  },
  {
   "metadata": {
    "ExecuteTime": {
     "end_time": "2024-11-16T15:24:28.282444Z",
     "start_time": "2024-11-16T15:24:20.856996Z"
    }
   },
   "cell_type": "code",
   "source": [
    "# canny for edge detection\n",
    "\n",
    "new_image_gray = cv.cvtColor(new_image, cv.COLOR_BGR2GRAY)\n",
    "result = get_countours(new_image_gray)\n"
   ],
   "id": "5d77e4ac577df746",
   "outputs": [],
   "execution_count": 24
  },
  {
   "metadata": {
    "ExecuteTime": {
     "end_time": "2024-11-16T15:24:37.680859Z",
     "start_time": "2024-11-16T15:24:30.931495Z"
    }
   },
   "cell_type": "code",
   "source": "show_image_cv(\"result\",result,fx=1,fy=1)",
   "id": "b9feb6b5cd67470f",
   "outputs": [],
   "execution_count": 25
  },
  {
   "metadata": {
    "ExecuteTime": {
     "end_time": "2024-11-16T15:39:05.062748Z",
     "start_time": "2024-11-16T15:37:20.087868Z"
    }
   },
   "cell_type": "code",
   "source": [
    "def extract_game(image_paths,size = 1000):\n",
    "    size = size if size <= len(image_paths) else len(image_paths)\n",
    "\n",
    "    for i in range(size):\n",
    "        img = cv.imread(image_paths[i])\n",
    "        new_image = get_outer_masked_image(img)\n",
    "        new_image_grey = cv.cvtColor(new_image, cv.COLOR_BGR2GRAY)\n",
    "        result = get_countours(new_image_grey)\n",
    "        show_image_cv(\"result\",result,fx=1,fy=1)\n",
    "\n",
    "extract_game(get_images_paths(\"antrenare\",1))\n"
   ],
   "id": "706ddf36e66ab4c0",
   "outputs": [
    {
     "ename": "KeyboardInterrupt",
     "evalue": "",
     "output_type": "error",
     "traceback": [
      "\u001B[0;31m---------------------------------------------------------------------------\u001B[0m",
      "\u001B[0;31mKeyboardInterrupt\u001B[0m                         Traceback (most recent call last)",
      "Cell \u001B[0;32mIn[29], line 11\u001B[0m\n\u001B[1;32m      8\u001B[0m         result \u001B[38;5;241m=\u001B[39m get_countours(new_image_grey)\n\u001B[1;32m      9\u001B[0m         show_image_cv(\u001B[38;5;124m\"\u001B[39m\u001B[38;5;124mresult\u001B[39m\u001B[38;5;124m\"\u001B[39m,result,fx\u001B[38;5;241m=\u001B[39m\u001B[38;5;241m1\u001B[39m,fy\u001B[38;5;241m=\u001B[39m\u001B[38;5;241m1\u001B[39m)\n\u001B[0;32m---> 11\u001B[0m \u001B[43mextract_game\u001B[49m\u001B[43m(\u001B[49m\u001B[43mget_images_paths\u001B[49m\u001B[43m(\u001B[49m\u001B[38;5;124;43m\"\u001B[39;49m\u001B[38;5;124;43mantrenare\u001B[39;49m\u001B[38;5;124;43m\"\u001B[39;49m\u001B[43m,\u001B[49m\u001B[38;5;241;43m1\u001B[39;49m\u001B[43m)\u001B[49m\u001B[43m)\u001B[49m\n",
      "Cell \u001B[0;32mIn[29], line 6\u001B[0m, in \u001B[0;36mextract_game\u001B[0;34m(image_paths, size)\u001B[0m\n\u001B[1;32m      4\u001B[0m \u001B[38;5;28;01mfor\u001B[39;00m i \u001B[38;5;129;01min\u001B[39;00m \u001B[38;5;28mrange\u001B[39m(size):\n\u001B[1;32m      5\u001B[0m     img \u001B[38;5;241m=\u001B[39m cv\u001B[38;5;241m.\u001B[39mimread(image_paths[i])\n\u001B[0;32m----> 6\u001B[0m     new_image \u001B[38;5;241m=\u001B[39m \u001B[43mget_outer_masked_image\u001B[49m\u001B[43m(\u001B[49m\u001B[43mimg\u001B[49m\u001B[43m)\u001B[49m\n\u001B[1;32m      7\u001B[0m     new_image_grey \u001B[38;5;241m=\u001B[39m cv\u001B[38;5;241m.\u001B[39mcvtColor(new_image, cv\u001B[38;5;241m.\u001B[39mCOLOR_BGR2GRAY)\n\u001B[1;32m      8\u001B[0m     result \u001B[38;5;241m=\u001B[39m get_countours(new_image_grey)\n",
      "Cell \u001B[0;32mIn[21], line 9\u001B[0m, in \u001B[0;36mget_outer_masked_image\u001B[0;34m(img)\u001B[0m\n\u001B[1;32m      6\u001B[0m hsv_image \u001B[38;5;241m=\u001B[39m cv\u001B[38;5;241m.\u001B[39mcvtColor(img, cv\u001B[38;5;241m.\u001B[39mCOLOR_BGR2HSV)\n\u001B[1;32m      8\u001B[0m mask \u001B[38;5;241m=\u001B[39m cv\u001B[38;5;241m.\u001B[39minRange(hsv_image, lower_hsv_bound, upper_hsv_bound)\n\u001B[0;32m----> 9\u001B[0m \u001B[43mshow_image_cv\u001B[49m\u001B[43m(\u001B[49m\u001B[38;5;124;43m\"\u001B[39;49m\u001B[38;5;124;43mmask\u001B[39;49m\u001B[38;5;124;43m\"\u001B[39;49m\u001B[43m,\u001B[49m\u001B[43mmask\u001B[49m\u001B[43m)\u001B[49m\n\u001B[1;32m     11\u001B[0m new_image \u001B[38;5;241m=\u001B[39m cv\u001B[38;5;241m.\u001B[39mbitwise_and(img, img, mask\u001B[38;5;241m=\u001B[39mmask)\n\u001B[1;32m     12\u001B[0m show_image_cv(\u001B[38;5;124m\"\u001B[39m\u001B[38;5;124mceva\u001B[39m\u001B[38;5;124m\"\u001B[39m,new_image)\n",
      "Cell \u001B[0;32mIn[3], line 4\u001B[0m, in \u001B[0;36mshow_image_cv\u001B[0;34m(title, image, fx, fy)\u001B[0m\n\u001B[1;32m      2\u001B[0m image \u001B[38;5;241m=\u001B[39m cv\u001B[38;5;241m.\u001B[39mresize(image,(\u001B[38;5;241m0\u001B[39m,\u001B[38;5;241m0\u001B[39m),fx\u001B[38;5;241m=\u001B[39mfx,fy\u001B[38;5;241m=\u001B[39mfy)\n\u001B[1;32m      3\u001B[0m cv\u001B[38;5;241m.\u001B[39mimshow(title, image)\n\u001B[0;32m----> 4\u001B[0m \u001B[43mcv\u001B[49m\u001B[38;5;241;43m.\u001B[39;49m\u001B[43mwaitKey\u001B[49m\u001B[43m(\u001B[49m\u001B[38;5;241;43m0\u001B[39;49m\u001B[43m)\u001B[49m\n\u001B[1;32m      5\u001B[0m cv\u001B[38;5;241m.\u001B[39mdestroyAllWindows()\n",
      "\u001B[0;31mKeyboardInterrupt\u001B[0m: "
     ]
    }
   ],
   "execution_count": 29
  }
 ],
 "metadata": {
  "kernelspec": {
   "display_name": "Python 3",
   "language": "python",
   "name": "python3"
  },
  "language_info": {
   "codemirror_mode": {
    "name": "ipython",
    "version": 2
   },
   "file_extension": ".py",
   "mimetype": "text/x-python",
   "name": "python",
   "nbconvert_exporter": "python",
   "pygments_lexer": "ipython2",
   "version": "2.7.6"
  }
 },
 "nbformat": 4,
 "nbformat_minor": 5
}
