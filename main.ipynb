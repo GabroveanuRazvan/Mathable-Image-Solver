{
 "cells": [
  {
   "metadata": {},
   "cell_type": "markdown",
   "source": "## Imports",
   "id": "fc05180e12bcabc1"
  },
  {
   "cell_type": "code",
   "id": "initial_id",
   "metadata": {
    "collapsed": true,
    "ExecuteTime": {
     "end_time": "2024-11-27T21:05:23.720213Z",
     "start_time": "2024-11-27T21:05:23.130402Z"
    }
   },
   "source": [
    "import time\n",
    "\n",
    "import numpy as np\n",
    "import cv2 as cv\n",
    "import os\n",
    "import glob\n",
    "import matplotlib.pyplot as plt\n",
    "from cv2 import cvtColor\n",
    "from numpy.random import uniform\n",
    "import pdb\n",
    "from tqdm import tqdm\n",
    "\n",
    "import utils\n",
    "from utils import show_image_matplot,show_image_cv"
   ],
   "outputs": [],
   "execution_count": 1
  },
  {
   "metadata": {
    "ExecuteTime": {
     "end_time": "2024-11-21T15:12:44.651926Z",
     "start_time": "2024-11-21T15:12:44.650479Z"
    }
   },
   "cell_type": "code",
   "source": [
    "# utils.store_template_numbers1(10)\n",
    "# utils.store_template_numbers2(8)"
   ],
   "id": "3fe077815b7425e9",
   "outputs": [],
   "execution_count": 6
  },
  {
   "metadata": {
    "ExecuteTime": {
     "end_time": "2024-11-21T15:12:44.694866Z",
     "start_time": "2024-11-21T15:12:44.693051Z"
    }
   },
   "cell_type": "code",
   "source": [
    "# utils.store_binary_templates(100,\"./templates/sample1\",\"./templates_binary/sample1\")\n",
    "# utils.store_binary_templates(100)"
   ],
   "id": "7a19d8cf4b09f384",
   "outputs": [],
   "execution_count": 7
  },
  {
   "metadata": {
    "ExecuteTime": {
     "end_time": "2024-11-21T15:12:44.740707Z",
     "start_time": "2024-11-21T15:12:44.738712Z"
    }
   },
   "cell_type": "code",
   "source": "# new_templates = crop_and_store_templates()",
   "id": "8e5f89cdfc3447ac",
   "outputs": [],
   "execution_count": 8
  },
  {
   "metadata": {
    "ExecuteTime": {
     "end_time": "2024-11-21T15:12:44.787643Z",
     "start_time": "2024-11-21T15:12:44.785428Z"
    }
   },
   "cell_type": "code",
   "source": "#utils.rewrite_all()",
   "id": "80240a495e9a035c",
   "outputs": [],
   "execution_count": 9
  },
  {
   "metadata": {
    "ExecuteTime": {
     "end_time": "2024-11-22T10:48:41.232627Z",
     "start_time": "2024-11-22T10:48:41.229874Z"
    }
   },
   "cell_type": "code",
   "source": [
    "\n",
    "# for i in range(4):\n",
    "#     utils.move_train_data(i+1)\n"
   ],
   "id": "f287a474f5afe5a7",
   "outputs": [],
   "execution_count": 3
  },
  {
   "metadata": {
    "ExecuteTime": {
     "end_time": "2024-11-27T21:11:45.954702Z",
     "start_time": "2024-11-27T21:10:47.001931Z"
    }
   },
   "cell_type": "code",
   "source": [
    "import mathable_solver as s\n",
    "\n",
    "for i in range(0,4):\n",
    "    solver = s.Solver(i+1,output_dest_dir=\"test\")\n",
    "    solver.solve()"
   ],
   "id": "7f19211c31e0b945",
   "outputs": [
    {
     "name": "stderr",
     "output_type": "stream",
     "text": [
      "100%|██████████| 50/50 [00:13<00:00,  3.60it/s]\n",
      "100%|██████████| 50/50 [00:00<00:00, 137.39it/s]\n",
      "100%|██████████| 50/50 [00:00<00:00, 170.35it/s]\n",
      "100%|██████████| 50/50 [00:13<00:00,  3.60it/s]\n",
      "100%|██████████| 50/50 [00:00<00:00, 98.84it/s]\n",
      "100%|██████████| 50/50 [00:00<00:00, 183.65it/s]\n",
      "100%|██████████| 50/50 [00:13<00:00,  3.61it/s]\n",
      "100%|██████████| 50/50 [00:00<00:00, 113.28it/s]\n",
      "100%|██████████| 50/50 [00:00<00:00, 175.65it/s]\n",
      "100%|██████████| 50/50 [00:13<00:00,  3.63it/s]\n",
      "100%|██████████| 50/50 [00:00<00:00, 92.79it/s]\n",
      "100%|██████████| 50/50 [00:00<00:00, 179.69it/s]\n"
     ]
    }
   ],
   "execution_count": 4
  },
  {
   "metadata": {
    "ExecuteTime": {
     "end_time": "2024-11-27T21:07:21.937636Z",
     "start_time": "2024-11-27T21:07:21.935229Z"
    }
   },
   "cell_type": "code",
   "source": "os.makedirs(\"./343_Gabroveanu_Razvan\", exist_ok=True)",
   "id": "65813dd4c4409677",
   "outputs": [],
   "execution_count": 3
  }
 ],
 "metadata": {
  "kernelspec": {
   "display_name": "Python 3",
   "language": "python",
   "name": "python3"
  },
  "language_info": {
   "codemirror_mode": {
    "name": "ipython",
    "version": 2
   },
   "file_extension": ".py",
   "mimetype": "text/x-python",
   "name": "python",
   "nbconvert_exporter": "python",
   "pygments_lexer": "ipython2",
   "version": "2.7.6"
  }
 },
 "nbformat": 4,
 "nbformat_minor": 5
}
