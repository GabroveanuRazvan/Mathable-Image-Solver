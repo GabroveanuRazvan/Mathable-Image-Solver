{
 "cells": [
  {
   "metadata": {
    "ExecuteTime": {
     "end_time": "2024-11-28T11:13:15.069200Z",
     "start_time": "2024-11-28T11:12:33.962678Z"
    }
   },
   "cell_type": "code",
   "source": [
    "\n",
    "from library import mathable_solver as s\n",
    "\n",
    "source_images_dir = \"./antrenare\"\n",
    "output_destination_dir = \"./343_Gabroveanu_Razvan\"\n",
    "\n",
    "# Create a solver for each data set and classify the images\n",
    "# A data set consists of a set of images that are named (data_set_index)_(image_index)\n",
    "for i in range(0,4):\n",
    "    solver = s.Solver(i+1,src_images_dir=source_images_dir,output_dest_dir=output_destination_dir)\n",
    "    solver.solve()"
   ],
   "id": "7f19211c31e0b945",
   "outputs": [
    {
     "name": "stderr",
     "output_type": "stream",
     "text": [
      "100%|██████████| 50/50 [00:09<00:00,  5.30it/s]\n",
      "100%|██████████| 50/50 [00:00<00:00, 120.65it/s]\n",
      "100%|██████████| 50/50 [00:00<00:00, 199.78it/s]\n",
      "100%|██████████| 50/50 [00:09<00:00,  5.24it/s]\n",
      "100%|██████████| 50/50 [00:00<00:00, 131.76it/s]\n",
      "100%|██████████| 50/50 [00:00<00:00, 220.53it/s]\n",
      "100%|██████████| 50/50 [00:09<00:00,  5.31it/s]\n",
      "100%|██████████| 50/50 [00:00<00:00, 114.95it/s]\n",
      "100%|██████████| 50/50 [00:00<00:00, 201.64it/s]\n",
      "100%|██████████| 50/50 [00:09<00:00,  5.26it/s]\n",
      "100%|██████████| 50/50 [00:00<00:00, 111.81it/s]\n",
      "100%|██████████| 50/50 [00:00<00:00, 186.45it/s]\n"
     ]
    }
   ],
   "execution_count": 5
  }
 ],
 "metadata": {
  "kernelspec": {
   "display_name": "Python 3",
   "language": "python",
   "name": "python3"
  },
  "language_info": {
   "codemirror_mode": {
    "name": "ipython",
    "version": 2
   },
   "file_extension": ".py",
   "mimetype": "text/x-python",
   "name": "python",
   "nbconvert_exporter": "python",
   "pygments_lexer": "ipython2",
   "version": "2.7.6"
  }
 },
 "nbformat": 4,
 "nbformat_minor": 5
}
