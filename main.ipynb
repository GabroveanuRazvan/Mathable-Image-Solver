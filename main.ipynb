{
 "cells": [
  {
   "metadata": {},
   "cell_type": "markdown",
   "source": "## Imports",
   "id": "fc05180e12bcabc1"
  },
  {
   "cell_type": "code",
   "id": "initial_id",
   "metadata": {
    "collapsed": true,
    "ExecuteTime": {
     "end_time": "2024-11-16T13:29:18.101622Z",
     "start_time": "2024-11-16T13:29:17.871978Z"
    }
   },
   "source": [
    "import time\n",
    "\n",
    "import numpy as np\n",
    "import cv2 as cv\n",
    "import os\n",
    "import glob\n",
    "import matplotlib.pyplot as plt\n",
    "from numpy.random import uniform\n",
    "import pdb"
   ],
   "outputs": [],
   "execution_count": 2
  },
  {
   "metadata": {},
   "cell_type": "markdown",
   "source": "## Show functions",
   "id": "348ac1e3c2b5afba"
  },
  {
   "metadata": {
    "ExecuteTime": {
     "end_time": "2024-11-16T13:48:00.341421Z",
     "start_time": "2024-11-16T13:48:00.338628Z"
    }
   },
   "cell_type": "code",
   "source": [
    "def show_image_cv(title,image,fx=0.2,fy=0.2):\n",
    "    image = cv.resize(image,(0,0),fx=fx,fy=fy)\n",
    "    cv.imshow(title, image)\n",
    "    cv.waitKey(0)\n",
    "    cv.destroyAllWindows()\n",
    "\n",
    "def show_image_matplot(title, image):\n",
    "    image_resized = cv.resize(image, (0, 0), fx=0.3, fy=0.3)\n",
    "\n",
    "    image = cv.cvtColor(image_resized, cv.COLOR_BGR2RGB)\n",
    "\n",
    "    plt.imshow(image)\n",
    "    plt.title(title)\n",
    "    plt.axis('off')  # Ascunde axele pentru a afișa doar imaginea\n",
    "    plt.show()"
   ],
   "id": "c5db5fa377941776",
   "outputs": [],
   "execution_count": 15
  },
  {
   "metadata": {
    "ExecuteTime": {
     "end_time": "2024-11-16T13:48:04.401657Z",
     "start_time": "2024-11-16T13:48:02.008266Z"
    }
   },
   "cell_type": "code",
   "source": [
    "img = cv.imread(\"antrenare/1_01.jpg\")\n",
    "show_image_cv(\"test\",img)"
   ],
   "id": "aab772a9acdcdaaa",
   "outputs": [],
   "execution_count": 16
  },
  {
   "metadata": {},
   "cell_type": "code",
   "source": [
    "# hsv mask\n",
    "lower_hsv_bound = np.array([20,0,0])\n",
    "upper_hsv_bound = np.array([255,255,255])\n",
    "hsv_image = cv.cvtColor(img, cv.COLOR_BGR2HSV)\n",
    "\n",
    "mask = cv.inRange(hsv_image, lower_hsv_bound, upper_hsv_bound)\n",
    "show_image_cv(\"mask\",mask)\n",
    "\n",
    "new_image = cv.bitwise_and(img, img, mask=mask)\n",
    "show_image_cv(\"ceva\",new_image)"
   ],
   "id": "426c65a0784699b7",
   "outputs": [],
   "execution_count": null
  },
  {
   "metadata": {},
   "cell_type": "markdown",
   "source": "# Get contours function",
   "id": "704c264740ed0eac"
  },
  {
   "metadata": {
    "ExecuteTime": {
     "end_time": "2024-11-16T14:13:07.882907Z",
     "start_time": "2024-11-16T14:13:07.877955Z"
    }
   },
   "cell_type": "code",
   "source": [
    "def get_countours(original_image,masked_image_grey):\n",
    "    edges = cv.Canny(masked_image_grey, 50, 200)\n",
    "    contours, _ = cv.findContours(edges,  cv.RETR_EXTERNAL, cv.CHAIN_APPROX_SIMPLE)\n",
    "\n",
    "    show_image_cv(\"edges\",edges)\n",
    "\n",
    "    max_area = 0\n",
    "    for i in range(len(contours)):\n",
    "            if(len(contours[i]) >3):\n",
    "                possible_top_left = None\n",
    "                possible_bottom_right = None\n",
    "                for point in contours[i].squeeze():\n",
    "                    if possible_top_left is None or point[0] + point[1] < possible_top_left[0] + possible_top_left[1]:\n",
    "                        possible_top_left = point\n",
    "\n",
    "                    if possible_bottom_right is None or point[0] + point[1] > possible_bottom_right[0] + possible_bottom_right[1] :\n",
    "                        possible_bottom_right = point\n",
    "\n",
    "                diff = np.diff(contours[i].squeeze(), axis = 1)\n",
    "                possible_top_right = contours[i].squeeze()[np.argmin(diff)]\n",
    "                possible_bottom_left = contours[i].squeeze()[np.argmax(diff)]\n",
    "                if cv.contourArea(np.array([[possible_top_left],[possible_top_right],[possible_bottom_right],[possible_bottom_left]])) > max_area:\n",
    "                    max_area = cv.contourArea(np.array([[possible_top_left],[possible_top_right],[possible_bottom_right],[possible_bottom_left]]))\n",
    "                    top_left = possible_top_left\n",
    "                    bottom_right = possible_bottom_right\n",
    "                    top_right = possible_top_right\n",
    "                    bottom_left = possible_bottom_left\n",
    "\n",
    "    width = 810\n",
    "    height = 810\n",
    "\n",
    "    image_copy = cv.cvtColor(masked_image_grey.copy(),cv.COLOR_GRAY2BGR)\n",
    "    cv.circle(image_copy,tuple(top_left),20,(0,0,255),-1)\n",
    "    cv.circle(image_copy,tuple(top_right),20,(0,0,255),-1)\n",
    "    cv.circle(image_copy,tuple(bottom_left),20,(0,0,255),-1)\n",
    "    cv.circle(image_copy,tuple(bottom_right),20,(0,0,255),-1)\n",
    "    show_image_cv(\"detected corners\",image_copy)\n",
    "\n",
    "    img_grey = cv.cvtColor(img.copy(),cv.COLOR_BGR2GRAY)\n",
    "\n",
    "    puzzle = np.array([top_left,top_right,bottom_left,bottom_right],dtype=np.float32)\n",
    "    destination = np.array([[0,0],[width,0],[0,height],[width,height]],dtype=np.float32)\n",
    "    M = cv.getPerspectiveTransform(puzzle,destination)\n",
    "    result = cv.warpPerspective(img_grey,M,(width,height))\n",
    "    result = cv.cvtColor(result,cv.COLOR_GRAY2BGR)\n",
    "\n",
    "    return result"
   ],
   "id": "11bac8635a3ec320",
   "outputs": [],
   "execution_count": 41
  },
  {
   "metadata": {
    "ExecuteTime": {
     "end_time": "2024-11-16T14:14:03.809197Z",
     "start_time": "2024-11-16T14:13:53.327150Z"
    }
   },
   "cell_type": "code",
   "source": [
    "# canny for edge detection\n",
    "\n",
    "new_image_gray = cv.cvtColor(new_image, cv.COLOR_BGR2GRAY)\n",
    "result = get_countours(img,new_image_gray)\n"
   ],
   "id": "5d77e4ac577df746",
   "outputs": [],
   "execution_count": 42
  },
  {
   "metadata": {
    "ExecuteTime": {
     "end_time": "2024-11-16T14:14:49.537668Z",
     "start_time": "2024-11-16T14:14:36.192012Z"
    }
   },
   "cell_type": "code",
   "source": "show_image_cv(\"result\",result,fx=1,fy=1)",
   "id": "b9feb6b5cd67470f",
   "outputs": [],
   "execution_count": 44
  }
 ],
 "metadata": {
  "kernelspec": {
   "display_name": "Python 3",
   "language": "python",
   "name": "python3"
  },
  "language_info": {
   "codemirror_mode": {
    "name": "ipython",
    "version": 2
   },
   "file_extension": ".py",
   "mimetype": "text/x-python",
   "name": "python",
   "nbconvert_exporter": "python",
   "pygments_lexer": "ipython2",
   "version": "2.7.6"
  }
 },
 "nbformat": 4,
 "nbformat_minor": 5
}
