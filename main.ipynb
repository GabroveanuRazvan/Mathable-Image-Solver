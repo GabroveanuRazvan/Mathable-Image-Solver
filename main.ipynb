{
 "cells": [
  {
   "metadata": {},
   "cell_type": "markdown",
   "source": "## Imports",
   "id": "fc05180e12bcabc1"
  },
  {
   "cell_type": "code",
   "id": "initial_id",
   "metadata": {
    "collapsed": true,
    "ExecuteTime": {
     "end_time": "2024-11-21T15:12:29.367724Z",
     "start_time": "2024-11-21T15:12:28.790126Z"
    }
   },
   "source": [
    "import time\n",
    "\n",
    "import numpy as np\n",
    "import cv2 as cv\n",
    "import os\n",
    "import glob\n",
    "import matplotlib.pyplot as plt\n",
    "from cv2 import cvtColor\n",
    "from numpy.random import uniform\n",
    "import pdb\n",
    "from tqdm import tqdm\n",
    "\n",
    "import utils\n",
    "from utils import show_image_matplot,show_image_cv"
   ],
   "outputs": [],
   "execution_count": 2
  },
  {
   "metadata": {
    "ExecuteTime": {
     "end_time": "2024-11-21T15:12:43.848462Z",
     "start_time": "2024-11-21T15:12:29.373441Z"
    }
   },
   "cell_type": "code",
   "source": "game_tables = utils.extract_game(utils.get_image_paths(\"antrenare\",1))",
   "id": "46642db5e9549dc8",
   "outputs": [
    {
     "name": "stderr",
     "output_type": "stream",
     "text": [
      "100%|██████████| 50/50 [00:14<00:00,  3.46it/s]\n"
     ]
    }
   ],
   "execution_count": 3
  },
  {
   "metadata": {
    "ExecuteTime": {
     "end_time": "2024-11-21T15:12:44.485833Z",
     "start_time": "2024-11-21T15:12:43.856704Z"
    }
   },
   "cell_type": "code",
   "source": "relevant_game_tables = utils.extract_relevant_game(game_tables)",
   "id": "4ab7a68b6e45ce36",
   "outputs": [
    {
     "name": "stderr",
     "output_type": "stream",
     "text": [
      "100%|██████████| 50/50 [00:00<00:00, 96.10it/s]\n"
     ]
    }
   ],
   "execution_count": 4
  },
  {
   "metadata": {
    "ExecuteTime": {
     "end_time": "2024-11-21T15:12:44.636538Z",
     "start_time": "2024-11-21T15:12:44.493011Z"
    }
   },
   "cell_type": "code",
   "source": "delimited_tables = utils.draw_lines(relevant_game_tables)",
   "id": "c5db5fa377941776",
   "outputs": [
    {
     "name": "stderr",
     "output_type": "stream",
     "text": [
      "100%|██████████| 50/50 [00:00<00:00, 921.42it/s]\n"
     ]
    }
   ],
   "execution_count": 5
  },
  {
   "metadata": {
    "ExecuteTime": {
     "end_time": "2024-11-21T15:12:44.651926Z",
     "start_time": "2024-11-21T15:12:44.650479Z"
    }
   },
   "cell_type": "code",
   "source": [
    "# utils.store_template_numbers1(10)\n",
    "# utils.store_template_numbers2(8)"
   ],
   "id": "3fe077815b7425e9",
   "outputs": [],
   "execution_count": 6
  },
  {
   "metadata": {
    "ExecuteTime": {
     "end_time": "2024-11-21T15:12:44.694866Z",
     "start_time": "2024-11-21T15:12:44.693051Z"
    }
   },
   "cell_type": "code",
   "source": [
    "# utils.store_binary_templates(100,\"./templates/sample1\",\"./templates_binary/sample1\")\n",
    "# utils.store_binary_templates(100)"
   ],
   "id": "7a19d8cf4b09f384",
   "outputs": [],
   "execution_count": 7
  },
  {
   "metadata": {
    "ExecuteTime": {
     "end_time": "2024-11-21T15:12:44.740707Z",
     "start_time": "2024-11-21T15:12:44.738712Z"
    }
   },
   "cell_type": "code",
   "source": "# new_templates = crop_and_store_templates()",
   "id": "8e5f89cdfc3447ac",
   "outputs": [],
   "execution_count": 8
  },
  {
   "metadata": {
    "ExecuteTime": {
     "end_time": "2024-11-21T15:12:44.787643Z",
     "start_time": "2024-11-21T15:12:44.785428Z"
    }
   },
   "cell_type": "code",
   "source": "#utils.rewrite_all()",
   "id": "80240a495e9a035c",
   "outputs": [],
   "execution_count": 9
  },
  {
   "metadata": {
    "ExecuteTime": {
     "end_time": "2024-11-21T15:16:06.355483Z",
     "start_time": "2024-11-21T15:16:06.350063Z"
    }
   },
   "cell_type": "code",
   "source": [
    "from utils import get_mathable_pieces_numbers, get_lines_coords\n",
    "\n",
    "# def classify_number(patch,templates_path = \"./templates_cropped\"):\n",
    "#     max_corr = -np.inf\n",
    "#     chosen_number = -1\n",
    "#     numbers = get_mathable_pieces_numbers()\n",
    "#\n",
    "#\n",
    "#     for i in range(10,len(numbers)):\n",
    "#\n",
    "#         number = numbers[i]\n",
    "#         template = cv.imread(templates_path+ \"/\" + str(number) + \".jpg\")\n",
    "#         template = cv.cvtColor(template, cv.COLOR_BGR2GRAY)\n",
    "#\n",
    "#         corr = cv.matchTemplate(patch,template, cv.TM_CCOEFF_NORMED)\n",
    "#         corr=np.max(corr)\n",
    "#\n",
    "#         if corr > max_corr:\n",
    "#             max_corr = corr\n",
    "#             chosen_number = number\n",
    "#\n",
    "#     if max_corr >= 0.8:\n",
    "#         return chosen_number\n",
    "#\n",
    "#     max_corr = -np.inf\n",
    "#     chosen_number = -1\n",
    "#\n",
    "#     for i in range(0,10):\n",
    "#\n",
    "#         number = numbers[i]\n",
    "#         template = cv.imread(templates_path+ \"/\" + str(number) + \".jpg\")\n",
    "#         template = cv.cvtColor(template, cv.COLOR_BGR2GRAY)\n",
    "#\n",
    "#         corr = cv.matchTemplate(patch,template, cv.TM_CCOEFF_NORMED)\n",
    "#         corr=np.max(corr)\n",
    "#\n",
    "#         if corr > max_corr:\n",
    "#             max_corr = corr\n",
    "#             chosen_number = number\n",
    "#\n",
    "#\n",
    "#     return chosen_number\n",
    "\n",
    "def classify_number(patch,templates_path = \"./templates_cropped\"):\n",
    "\n",
    "    maxi = -np.inf\n",
    "    chosen_number = -1\n",
    "    numbers = get_mathable_pieces_numbers()\n",
    "\n",
    "    num_whites_patch = np.sum(patch == 255)\n",
    "\n",
    "    for number in numbers:\n",
    "        template = cv.imread(templates_path+ \"/\" + str(number) + \".jpg\")\n",
    "        template = cv.cvtColor(template, cv.COLOR_BGR2GRAY)\n",
    "\n",
    "        num_whites_template = np.sum(template == 255)\n",
    "\n",
    "        if num_whites_template * 1.95 < num_whites_patch:\n",
    "            continue\n",
    "\n",
    "        corr = cv.matchTemplate(patch,template, cv.TM_CCOEFF_NORMED)\n",
    "        corr=np.max(corr)\n",
    "\n",
    "        if corr > maxi:\n",
    "            maxi = corr\n",
    "            chosen_number = number\n",
    "\n",
    "\n",
    "    return chosen_number\n",
    "\n",
    "def match_numbers(binary_image, offset):\n",
    "    lines_vertical,lines_horizontal = get_lines_coords()\n",
    "\n",
    "    coords={}\n",
    "\n",
    "    for i in range(len(lines_horizontal)-1):\n",
    "        for j in range(len(lines_vertical)-1):\n",
    "\n",
    "            y_min = lines_vertical[j][0][0] + offset\n",
    "            y_max = lines_vertical[j + 1][1][0] - offset\n",
    "            x_min = lines_horizontal[i][0][1] + offset\n",
    "            x_max = lines_horizontal[i + 1][1][1] - offset\n",
    "\n",
    "            patch = binary_image[x_min:x_max,y_min:y_max].copy()\n",
    "\n",
    "            if (i==6 or i==7) and (j==6 or j==7):\n",
    "                continue\n",
    "\n",
    "            num_white_pixels = np.sum(binary_image[x_min+30:x_max-30,y_min+30:y_max-30].copy() == 255)\n",
    "\n",
    "            if num_white_pixels > 0:\n",
    "                predicted_number = classify_number(patch)\n",
    "                coords[(i,j)] = predicted_number\n",
    "\n",
    "    return coords\n",
    "\n",
    "def get_patches(binary_image,offset):\n",
    "    lines_vertical,lines_horizontal = get_lines_coords()\n",
    "\n",
    "    patches = []\n",
    "\n",
    "    for i in range(len(lines_horizontal)-1):\n",
    "        for j in range(len(lines_vertical)-1):\n",
    "\n",
    "            y_min = lines_vertical[j][0][0] + offset\n",
    "            y_max = lines_vertical[j + 1][1][0] - offset\n",
    "            x_min = lines_horizontal[i][0][1] + offset\n",
    "            x_max = lines_horizontal[i + 1][1][1] - offset\n",
    "\n",
    "            patch = binary_image[x_min:x_max,y_min:y_max].copy()\n",
    "\n",
    "            patches.append(patch)\n",
    "\n",
    "    return patches"
   ],
   "id": "eff34367e023cf3b",
   "outputs": [],
   "execution_count": 17
  },
  {
   "metadata": {
    "ExecuteTime": {
     "end_time": "2024-11-21T15:12:44.889338Z",
     "start_time": "2024-11-21T15:12:44.885858Z"
    }
   },
   "cell_type": "code",
   "source": [
    "def move_train_data(train_number,dest_path = \"./train\"):\n",
    "    img_prefix = str(train_number)+ \"_\"\n",
    "\n",
    "    for i in range(9):\n",
    "        img_name = img_prefix + \"0\" +str(i+1) + \".jpg\"\n",
    "        img_path = \"./antrenare/\" + img_name\n",
    "        img = cv.imread(img_path)\n",
    "        cv.imwrite(dest_path +\"/\" + img_name, img)\n",
    "\n",
    "    for i in range(9,50):\n",
    "        img_path = \"./antrenare/\" + img_prefix + str(i+1) + \".jpg\"\n",
    "        img_name = img_prefix +str(i+1) + \".jpg\"\n",
    "        img = cv.imread(img_path)\n",
    "        cv.imwrite(dest_path +\"/\" + img_name, img)\n",
    "\n",
    "# for i in range(4):\n",
    "#     move_train_data(i+1)\n",
    "\n"
   ],
   "id": "f287a474f5afe5a7",
   "outputs": [],
   "execution_count": 11
  },
  {
   "metadata": {
    "ExecuteTime": {
     "end_time": "2024-11-21T15:32:02.937910Z",
     "start_time": "2024-11-21T15:29:55.887409Z"
    }
   },
   "cell_type": "code",
   "source": [
    "\n",
    "def solve(train_number,src_path = \"./antrenare\",output_dest_path = \"./343_Gabroveanu_Razvan\"):\n",
    "\n",
    "    game_tables = utils.extract_game(utils.get_image_paths(src_path,train_number))\n",
    "    relevant_game_tables = utils.extract_relevant_game(game_tables)\n",
    "\n",
    "    visited = np.full((14,14),-1)\n",
    "\n",
    "    visited[6,6] = 1\n",
    "    visited[6,7] = 2\n",
    "    visited[7,6] = 3\n",
    "    visited[7,7] = 4\n",
    "\n",
    "    output_file_prefix = \"/\" + str(train_number) + \"_\"\n",
    "\n",
    "    for i in tqdm(range(len(relevant_game_tables))):\n",
    "\n",
    "        table = relevant_game_tables[i]\n",
    "        table = cv.cvtColor(table, cv.COLOR_BGR2GRAY)\n",
    "        _,table_binary = cv.threshold(table,65,255,cv.THRESH_BINARY_INV)\n",
    "\n",
    "        result_dict = match_numbers(table_binary,8)\n",
    "\n",
    "        for indexes,predicted_number in result_dict.items():\n",
    "            row,col = indexes\n",
    "\n",
    "            if visited[row,col] == -1:\n",
    "                continue\n",
    "\n",
    "            output = str(row+1) + chr(65 + col)+ \" \" + str(predicted_number)\n",
    "            output_file_path = output_dest_path + output_file_prefix\n",
    "\n",
    "            if i in range(0,9):\n",
    "                output_file_path = output_file_path + \"0\"\n",
    "\n",
    "            output_file_path = output_file_path + str(i+1) + \".txt\"\n",
    "\n",
    "            with open(output_file_path,\"w\") as file:\n",
    "                file.write(output)\n",
    "\n",
    "            visited[row,col] = predicted_number\n",
    "\n",
    "    with open(output_dest_path + \"/\" + str(train_number) + \"_scores.txt\",\"w\") as file:\n",
    "        pass\n",
    "\n",
    "    with open(output_dest_path + \"/\" + str(train_number) + \"_turns.txt\",\"w\") as file:\n",
    "        pass\n",
    "\n",
    "for i in range(4):\n",
    "    solve(i+1)\n",
    "\n"
   ],
   "id": "4c6068416697eccb",
   "outputs": [
    {
     "name": "stderr",
     "output_type": "stream",
     "text": [
      "100%|██████████| 50/50 [00:13<00:00,  3.60it/s]\n",
      "100%|██████████| 50/50 [00:00<00:00, 62.17it/s]\n",
      "100%|██████████| 50/50 [00:17<00:00,  2.92it/s]\n",
      "100%|██████████| 50/50 [00:13<00:00,  3.70it/s]\n",
      "100%|██████████| 50/50 [00:00<00:00, 54.42it/s]\n",
      "100%|██████████| 50/50 [00:17<00:00,  2.89it/s]\n",
      "100%|██████████| 50/50 [00:13<00:00,  3.72it/s]\n",
      "100%|██████████| 50/50 [00:00<00:00, 107.44it/s]\n",
      "100%|██████████| 50/50 [00:18<00:00,  2.73it/s]\n",
      "100%|██████████| 50/50 [00:13<00:00,  3.79it/s]\n",
      "100%|██████████| 50/50 [00:00<00:00, 136.10it/s]\n",
      "100%|██████████| 50/50 [00:17<00:00,  2.90it/s]\n"
     ]
    }
   ],
   "execution_count": 24
  },
  {
   "metadata": {
    "ExecuteTime": {
     "end_time": "2024-11-21T15:15:07.252707Z",
     "start_time": "2024-11-21T15:14:53.250043Z"
    }
   },
   "cell_type": "code",
   "source": [
    "\n",
    "game_tables2 = utils.extract_game(utils.get_image_paths(\"antrenare\",2))\n",
    "relevant_game_tables2 = utils.extract_relevant_game(game_tables2)"
   ],
   "id": "2a79d8e312b98555",
   "outputs": [
    {
     "name": "stderr",
     "output_type": "stream",
     "text": [
      "100%|██████████| 50/50 [00:13<00:00,  3.73it/s]\n",
      "100%|██████████| 50/50 [00:00<00:00, 117.10it/s]\n"
     ]
    }
   ],
   "execution_count": 13
  },
  {
   "metadata": {
    "ExecuteTime": {
     "end_time": "2024-11-21T15:15:08.941563Z",
     "start_time": "2024-11-21T15:15:07.258494Z"
    }
   },
   "cell_type": "code",
   "source": [
    "\n",
    "sample = relevant_game_tables2[0]\n",
    "sample = cv.cvtColor(sample,cv.COLOR_BGR2GRAY)\n",
    "_,sample = cv.threshold(sample,65,255,cv.THRESH_BINARY_INV)\n",
    "\n",
    "show_image_cv(\"\",sample,fx = 0.4,fy = 0.4)\n",
    "\n",
    "coords = match_numbers(sample, offset = 8)\n",
    "patches = get_patches(sample, offset = 8)"
   ],
   "id": "5b3b7d70dc21fc9c",
   "outputs": [
    {
     "name": "stderr",
     "output_type": "stream",
     "text": [
      "Warning: Ignoring XDG_SESSION_TYPE=wayland on Gnome. Use QT_QPA_PLATFORM=wayland to run on Wayland anyway.\n"
     ]
    }
   ],
   "execution_count": 14
  },
  {
   "metadata": {
    "ExecuteTime": {
     "end_time": "2024-11-21T15:15:08.955226Z",
     "start_time": "2024-11-21T15:15:08.952805Z"
    }
   },
   "cell_type": "code",
   "source": "print(coords)",
   "id": "c521dd03dd04895c",
   "outputs": [
    {
     "name": "stdout",
     "output_type": "stream",
     "text": [
      "{(6, 8): 8}\n"
     ]
    }
   ],
   "execution_count": 15
  },
  {
   "metadata": {
    "ExecuteTime": {
     "end_time": "2024-11-21T15:15:09.022122Z",
     "start_time": "2024-11-21T15:15:09.001049Z"
    }
   },
   "cell_type": "code",
   "source": [
    "for key,value in coords.items():\n",
    "    index = key[0] * 14 + key[1]\n",
    "    title = str(key[0]) + \",\" + str(key[1]) + \" \" + str(value)\n",
    "    # show_image_cv(title,patches[index],fx = 1,fy = 1)\n",
    "\n",
    "    three = cv.imread(\"templates_cropped/3.jpg\")\n",
    "    eight = cv.imread(\"templates_cropped/8.jpg\")\n",
    "\n",
    "\n",
    "    three = cv.cvtColor(three,cv.COLOR_BGR2GRAY)\n",
    "    eight= cv.cvtColor(eight,cv.COLOR_BGR2GRAY)\n",
    "\n",
    "    # _, three = cv.threshold(three, 128, 255, cv.THRESH_BINARY)\n",
    "    # _, eight = cv.threshold(eight, 128, 255, cv.THRESH_BINARY)\n",
    "\n",
    "    w3 = np.sum(three == 255)\n",
    "    wp = np.sum(patches[index] == 255)\n",
    "\n",
    "    corr1 = np.max(cv.matchTemplate(patches[index],three,cv.TM_CCOEFF_NORMED))\n",
    "    corr2 = np.max(cv.matchTemplate(patches[index],eight,cv.TM_CCOEFF_NORMED))\n",
    "    cv.imwrite(\"temp.jpg\",patches[index])\n",
    "    print(corr1,corr2)\n",
    "    print(three.shape)\n",
    "    print(eight.shape)\n",
    "    print(patches[index].shape)\n",
    "    print(w3,wp)\n",
    "    print(classify_number(patches[index]))"
   ],
   "id": "56f6c59e23ec6b7",
   "outputs": [
    {
     "name": "stdout",
     "output_type": "stream",
     "text": [
      "0.8862497 0.7159185\n",
      "(72, 45)\n",
      "(71, 45)\n",
      "(134, 134)\n",
      "805 1660\n",
      "8\n"
     ]
    }
   ],
   "execution_count": 16
  },
  {
   "metadata": {
    "ExecuteTime": {
     "end_time": "2024-11-21T18:18:55.752175Z",
     "start_time": "2024-11-21T18:18:47.952154Z"
    }
   },
   "cell_type": "code",
   "source": [
    "\n",
    "class Solver():\n",
    "\n",
    "    def __init__(self,data_set_id):\n",
    "\n",
    "        self.data_set_id = data_set_id\n",
    "\n",
    "        self.table_configuration = np.full((14,14),-1)\n",
    "        self.table_configuration[6,6] = 1\n",
    "        self.table_configuration[6,7] = 2\n",
    "        self.table_configuration[7,6] = 3\n",
    "        self.table_configuration[7,7] = 4\n",
    "\n",
    "        self.ADD = 1\n",
    "        self.SUB = 2\n",
    "        self.MUL = 3\n",
    "        self.DIV = 4\n",
    "        self.TIMES_2 = 5\n",
    "        self.TIMES_3 = 6\n",
    "\n",
    "        self.table_constraints = np.array([\n",
    "            [self.TIMES_3,0,0,0,0,0,self.TIMES_3,self.TIMES_3,0,0,0,0,0,self.TIMES_3],\n",
    "            [0,self.TIMES_2,0,0,self.DIV,0,0,0,0,self.DIV,0,0,self.TIMES_2,0],\n",
    "            [0,0,self.TIMES_2,0,0,self.SUB,0,0,self.SUB,0,0,self.TIMES_2,0,0],\n",
    "            [0,0,0,self.TIMES_2,0,0,self.ADD,self.MUL,0,0,self.TIMES_2,0,0,0],\n",
    "            [0,self.DIV,0,0,self.TIMES_2,0,self.MUL,self.ADD,0,self.TIMES_2,0,0,self.DIV,0],\n",
    "            [0,0,self.SUB,0,0,0,0,0,0,0,0,self.SUB,0,0],\n",
    "            [self.TIMES_3,0,0,self.MUL,self.ADD,0,0,0,0,self.MUL,self.ADD,0,0,self.TIMES_3],\n",
    "\n",
    "            [self.TIMES_3,0,0,self.ADD,self.MUL,0,0,0,0,self.ADD,self.MUL,0,0,self.TIMES_3],\n",
    "            [0,0,self.SUB,0,0,0,0,0,0,0,0,self.SUB,0,0],\n",
    "            [0,self.DIV,0,0,self.TIMES_2,0,self.ADD,self.MUL,0,self.TIMES_2,0,0,self.DIV,0],\n",
    "            [0,0,0,self.TIMES_2,0,0,self.MUL,self.ADD,0,0,self.TIMES_2,0,0,0],\n",
    "            [0,0,self.TIMES_2,0,0,self.SUB,0,0,self.SUB,0,0,self.TIMES_2,0,0],\n",
    "            [0,self.TIMES_2,0,0,self.DIV,0,0,0,0,self.DIV,0,0,self.TIMES_2,0],\n",
    "            [self.TIMES_3,0,0,0,0,0,self.TIMES_3,self.TIMES_3,0,0,0,0,0,self.TIMES_3],\n",
    "\n",
    "        ])\n",
    "\n",
    "\n",
    "    def reset(self):\n",
    "        self.table_configuration = np.full((14,14),-1)\n",
    "        self.table_configuration[6,6] = 1\n",
    "        self.table_configuration[6,7] = 2\n",
    "        self.table_configuration[7,6] = 3\n",
    "        self.table_configuration[7,7] = 4\n",
    "\n",
    "\n",
    "    def solve(self,src_path = \"./antrenare\",output_dest_path = \"./343_Gabroveanu_Razvan\"):\n",
    "\n",
    "        self.reset()\n",
    "\n",
    "        game_tables = utils.extract_game(utils.get_image_paths(src_path,self.data_set_id))\n",
    "        relevant_game_tables = utils.extract_relevant_game(game_tables)\n",
    "\n",
    "        output_file_prefix = \"/\" + str(self.data_set_id) + \"_\"\n",
    "\n",
    "        for i in tqdm(range(len(relevant_game_tables))):\n",
    "\n",
    "            table = relevant_game_tables[i]\n",
    "            table = cv.cvtColor(table, cv.COLOR_BGR2GRAY)\n",
    "            _,table_binary = cv.threshold(table,65,255,cv.THRESH_BINARY_INV)\n",
    "\n",
    "            result_dict = self.match_numbers(table_binary,8)\n",
    "\n",
    "            for indexes,predicted_number in result_dict.items():\n",
    "                row,col = indexes\n",
    "\n",
    "                if self.table_configuration[row,col] != -1:\n",
    "                    continue\n",
    "\n",
    "                output = str(row+1) + chr(65 + col)+ \" \" + str(predicted_number)\n",
    "                output_file_path = output_dest_path + output_file_prefix\n",
    "\n",
    "                if i in range(0,9):\n",
    "                    output_file_path = output_file_path + \"0\"\n",
    "\n",
    "                output_file_path = output_file_path + str(i+1) + \".txt\"\n",
    "\n",
    "                with open(output_file_path,\"w\") as file:\n",
    "                    file.write(output)\n",
    "\n",
    "                self.table_configuration[row,col] = predicted_number\n",
    "\n",
    "        with open(output_dest_path + \"/\" + str(self.data_set_id) + \"_scores.txt\",\"w\") as file:\n",
    "            pass\n",
    "\n",
    "        with open(output_dest_path + \"/\" + str(self.data_set_id) + \"_turns.txt\",\"w\") as file:\n",
    "            pass\n",
    "\n",
    "\n",
    "    def match_numbers(self,binary_image, offset):\n",
    "        lines_vertical,lines_horizontal = get_lines_coords()\n",
    "\n",
    "        coords={}\n",
    "\n",
    "        for i in range(len(lines_horizontal)-1):\n",
    "            for j in range(len(lines_vertical)-1):\n",
    "\n",
    "                y_min = lines_vertical[j][0][0] + offset\n",
    "                y_max = lines_vertical[j + 1][1][0] - offset\n",
    "                x_min = lines_horizontal[i][0][1] + offset\n",
    "                x_max = lines_horizontal[i + 1][1][1] - offset\n",
    "\n",
    "                patch = binary_image[x_min:x_max,y_min:y_max].copy()\n",
    "\n",
    "                if (i==6 or i==7) and (j==6 or j==7):\n",
    "                    continue\n",
    "\n",
    "                num_white_pixels = np.sum(binary_image[x_min+30:x_max-30,y_min+30:y_max-30].copy() == 255)\n",
    "\n",
    "                if num_white_pixels > 0 and self.table_configuration[i,j] != -1:\n",
    "\n",
    "                    possible_numbers = self.get_possible_values(i,j)\n",
    "\n",
    "                    predicted_number = self.classify_number(patch,possible_numbers)\n",
    "                    coords[(i,j)] = predicted_number\n",
    "\n",
    "        return coords\n",
    "\n",
    "    def classify_number(self,patch,possible_numbers,templates_path = \"./templates_cropped\"):\n",
    "\n",
    "        maxi = -np.inf\n",
    "        chosen_number = -1\n",
    "        print(possible_numbers)\n",
    "        num_whites_patch = np.sum(patch == 255)\n",
    "\n",
    "        for number in possible_numbers:\n",
    "\n",
    "            path = templates_path+ \"/\" + str(number) + \".jpg\"\n",
    "\n",
    "            if not os.path.exists(path):\n",
    "                continue\n",
    "\n",
    "            template = cv.imread(path)\n",
    "            template = cv.cvtColor(template, cv.COLOR_BGR2GRAY)\n",
    "\n",
    "            num_whites_template = np.sum(template == 255)\n",
    "\n",
    "            if num_whites_template * 1.95 < num_whites_patch:\n",
    "                continue\n",
    "\n",
    "            corr = cv.matchTemplate(patch,template, cv.TM_CCOEFF_NORMED)\n",
    "            corr=np.max(corr)\n",
    "\n",
    "            if corr > maxi:\n",
    "                maxi = corr\n",
    "                chosen_number = number\n",
    "\n",
    "\n",
    "        return chosen_number\n",
    "\n",
    "    def get_neighbour_cells_indexes(self, i, j):\n",
    "        neighbours = []\n",
    "\n",
    "        # UP\n",
    "        if i > 1 and self.table_configuration[i-1,j] != -1 and self.table_configuration[i-2,j] != -1:\n",
    "            neighbours.append([(i-1,j),(i-2,j)])\n",
    "        #DOWN\n",
    "        if i < 14 - 2 and self.table_configuration[i+1,j] != -1 and self.table_configuration[i+2,j] != -1:\n",
    "            neighbours.append([(i+1,j),(i+2,j)])\n",
    "        # LEFT\n",
    "        if j > 1 and self.table_configuration[i,j-1] != -1 and self.table_configuration[i,j-2] != -1:\n",
    "            neighbours.append([(i,j-1),(i,j-2)])\n",
    "        # RIGHT\n",
    "        if j < 14 - 2 and self.table_configuration[i,j+1] != -1 and self.table_configuration[i,j+2] != -1:\n",
    "            neighbours.append([(i,j+1),(i,j+2)])\n",
    "\n",
    "        return neighbours\n",
    "\n",
    "\n",
    "    def get_possible_values(self,i,j):\n",
    "\n",
    "        neighbours_indexes = self.get_neighbour_cells_indexes(i,j)\n",
    "\n",
    "        possible_piece_values = []\n",
    "\n",
    "        current_cell_constraint = self.table_constraints[i,j]\n",
    "\n",
    "        for pair in neighbours_indexes:\n",
    "            i1,j1 = pair[0]\n",
    "            i2,j2 = pair[1]\n",
    "\n",
    "            neigh1 = self.table_configuration[i1,j1]\n",
    "            neigh2 = self.table_configuration[i2,j2]\n",
    "\n",
    "            # Check constraints\n",
    "            if current_cell_constraint == self.ADD:\n",
    "                possible_piece_values.append(neigh2 + neigh1)\n",
    "                continue\n",
    "\n",
    "            if current_cell_constraint == self.MUL:\n",
    "                possible_piece_values.append(neigh2 * neigh1)\n",
    "                continue\n",
    "\n",
    "            if current_cell_constraint == self.DIV:\n",
    "\n",
    "                if neigh2 != 0 and neigh1 % neigh2 == 0 :\n",
    "                    possible_piece_values.append(neigh1//neigh2)\n",
    "\n",
    "                elif neigh1 != 0 and neigh2 % neigh1 == 0 :\n",
    "                    possible_piece_values.append(neigh2//neigh1)\n",
    "\n",
    "                continue\n",
    "\n",
    "            if current_cell_constraint == self.SUB:\n",
    "                possible_piece_values.append(abs(neigh2 - neigh1))\n",
    "                continue\n",
    "\n",
    "            # No constraints case\n",
    "            possible_piece_values.append(neigh2 + neigh1)\n",
    "            possible_piece_values.append(neigh2 * neigh1)\n",
    "            possible_piece_values.append(abs(neigh2 - neigh1))\n",
    "\n",
    "            if neigh2 != 0 and neigh1 % neigh2 == 0 :\n",
    "                possible_piece_values.append(neigh1//neigh2)\n",
    "\n",
    "            elif neigh1 != 0 and neigh2 % neigh1 == 0 :\n",
    "                possible_piece_values.append(neigh2//neigh1)\n",
    "\n",
    "        return list(set(possible_piece_values))\n",
    "\n",
    "\n",
    "    def calculate_score(self,i,j):\n",
    "\n",
    "        assert self.table_configuration[i,j] != -1, \"A cell must have a value in order to calculate a score.\"\n",
    "\n",
    "        neighbours_indexes = self.get_neighbour_cells_indexes(i,j)\n",
    "        value = self.table_configuration[i,j]\n",
    "        current_constraint = self.table_constraints[i,j]\n",
    "\n",
    "        score = 0\n",
    "\n",
    "        # Just addition score\n",
    "        if current_constraint == self.ADD:\n",
    "\n",
    "            for pair in neighbours_indexes:\n",
    "                i1,j1 = pair[0]\n",
    "                i2,j2 = pair[1]\n",
    "\n",
    "                neigh1 = self.table_configuration[i1,j1]\n",
    "                neigh2 = self.table_configuration[i2,j2]\n",
    "\n",
    "                score += value if neigh1 + neigh2 == value else 0\n",
    "            return score\n",
    "\n",
    "        # Just multiply score\n",
    "        if current_constraint == self.MUL:\n",
    "\n",
    "             for pair in neighbours_indexes:\n",
    "                i1,j1 = pair[0]\n",
    "                i2,j2 = pair[1]\n",
    "\n",
    "                neigh1 = self.table_configuration[i1,j1]\n",
    "                neigh2 = self.table_configuration[i2,j2]\n",
    "\n",
    "                score += value if neigh1 * neigh2 == value else 0\n",
    "             return score\n",
    "\n",
    "        # Just subtraction score\n",
    "        if current_constraint == self.SUB:\n",
    "\n",
    "            for pair in neighbours_indexes:\n",
    "                i1,j1 = pair[0]\n",
    "                i2,j2 = pair[1]\n",
    "\n",
    "                neigh1 = self.table_configuration[i1,j1]\n",
    "                neigh2 = self.table_configuration[i2,j2]\n",
    "\n",
    "                score += value if abs(neigh1 - neigh2) == value else 0\n",
    "            return score\n",
    "\n",
    "        # Just division score\n",
    "        if current_constraint == self.DIV:\n",
    "\n",
    "            for pair in neighbours_indexes:\n",
    "                i1,j1 = pair[0]\n",
    "                i2,j2 = pair[1]\n",
    "\n",
    "                neigh1 = self.table_configuration[i1,j1]\n",
    "                neigh2 = self.table_configuration[i2,j2]\n",
    "\n",
    "                if neigh2 != 0 and neigh1 % neigh2 == 0:\n",
    "                    score += value if neigh1//neigh2 == value else 0\n",
    "\n",
    "                elif neigh1 != 0 and neigh2 % neigh1 == 0:\n",
    "                    score += value if neigh2//neigh1 == value else 0\n",
    "            return score\n",
    "\n",
    "\n",
    "        # No operator constraint, test them all\n",
    "\n",
    "        for pair in neighbours_indexes:\n",
    "                i1,j1 = pair[0]\n",
    "                i2,j2 = pair[1]\n",
    "\n",
    "                neigh1 = self.table_configuration[i1,j1]\n",
    "                neigh2 = self.table_configuration[i2,j2]\n",
    "\n",
    "                if neigh1 + neigh2 == value or neigh1 * neigh2 == value or abs(neigh1 - neigh2) == value:\n",
    "                    score += value\n",
    "                    continue\n",
    "\n",
    "                if (neigh2 != 0 and neigh1 % neigh2 == 0 and neigh1//neigh2 == value) or (neigh1 != 0 and neigh2 % neigh1 == 0 and neigh2//neigh1==value):\n",
    "\n",
    "                    score += value\n",
    "                    continue\n",
    "\n",
    "        # return the score and check for bonus constraints\n",
    "        return score * 3 if current_constraint == self.TIMES_3 else score * 2 if current_constraint == self.TIMES_2 else score\n",
    "\n",
    "\n",
    "\n",
    "solver = Solver(2)\n",
    "\n",
    "i,j = 6,8\n",
    "solver.table_configuration[i,j] = 3\n",
    "print(solver.table_configuration)\n",
    "print(solver.get_possible_values(i,j+1))\n"
   ],
   "id": "21677576f6a961f7",
   "outputs": [
    {
     "name": "stdout",
     "output_type": "stream",
     "text": [
      "[[-1 -1 -1 -1 -1 -1 -1 -1 -1 -1 -1 -1 -1 -1]\n",
      " [-1 -1 -1 -1 -1 -1 -1 -1 -1 -1 -1 -1 -1 -1]\n",
      " [-1 -1 -1 -1 -1 -1 -1 -1 -1 -1 -1 -1 -1 -1]\n",
      " [-1 -1 -1 -1 -1 -1 -1 -1 -1 -1 -1 -1 -1 -1]\n",
      " [-1 -1 -1 -1 -1 -1 -1 -1 -1 -1 -1 -1 -1 -1]\n",
      " [-1 -1 -1 -1 -1 -1 -1 -1 -1 -1 -1 -1 -1 -1]\n",
      " [-1 -1 -1 -1 -1 -1  1  2  3 -1 -1 -1 -1 -1]\n",
      " [-1 -1 -1 -1 -1 -1  3  4 -1 -1 -1 -1 -1 -1]\n",
      " [-1 -1 -1 -1 -1 -1 -1 -1 -1 -1 -1 -1 -1 -1]\n",
      " [-1 -1 -1 -1 -1 -1 -1 -1 -1 -1 -1 -1 -1 -1]\n",
      " [-1 -1 -1 -1 -1 -1 -1 -1 -1 -1 -1 -1 -1 -1]\n",
      " [-1 -1 -1 -1 -1 -1 -1 -1 -1 -1 -1 -1 -1 -1]\n",
      " [-1 -1 -1 -1 -1 -1 -1 -1 -1 -1 -1 -1 -1 -1]\n",
      " [-1 -1 -1 -1 -1 -1 -1 -1 -1 -1 -1 -1 -1 -1]]\n",
      "[6]\n"
     ]
    },
    {
     "name": "stderr",
     "output_type": "stream",
     "text": [
      " 54%|█████▍    | 27/50 [00:07<00:06,  3.51it/s]\n"
     ]
    },
    {
     "ename": "KeyboardInterrupt",
     "evalue": "",
     "output_type": "error",
     "traceback": [
      "\u001B[0;31m---------------------------------------------------------------------------\u001B[0m",
      "\u001B[0;31mKeyboardInterrupt\u001B[0m                         Traceback (most recent call last)",
      "Cell \u001B[0;32mIn[171], line 320\u001B[0m\n\u001B[1;32m    317\u001B[0m \u001B[38;5;28mprint\u001B[39m(solver\u001B[38;5;241m.\u001B[39mtable_configuration)\n\u001B[1;32m    318\u001B[0m \u001B[38;5;28mprint\u001B[39m(solver\u001B[38;5;241m.\u001B[39mget_possible_values(i,j\u001B[38;5;241m+\u001B[39m\u001B[38;5;241m1\u001B[39m))\n\u001B[0;32m--> 320\u001B[0m \u001B[43msolver\u001B[49m\u001B[38;5;241;43m.\u001B[39;49m\u001B[43msolve\u001B[49m\u001B[43m(\u001B[49m\u001B[43m)\u001B[49m\n",
      "Cell \u001B[0;32mIn[171], line 52\u001B[0m, in \u001B[0;36mSolver.solve\u001B[0;34m(self, src_path, output_dest_path)\u001B[0m\n\u001B[1;32m     48\u001B[0m \u001B[38;5;28;01mdef\u001B[39;00m \u001B[38;5;21msolve\u001B[39m(\u001B[38;5;28mself\u001B[39m,src_path \u001B[38;5;241m=\u001B[39m \u001B[38;5;124m\"\u001B[39m\u001B[38;5;124m./antrenare\u001B[39m\u001B[38;5;124m\"\u001B[39m,output_dest_path \u001B[38;5;241m=\u001B[39m \u001B[38;5;124m\"\u001B[39m\u001B[38;5;124m./343_Gabroveanu_Razvan\u001B[39m\u001B[38;5;124m\"\u001B[39m):\n\u001B[1;32m     50\u001B[0m     \u001B[38;5;28mself\u001B[39m\u001B[38;5;241m.\u001B[39mreset()\n\u001B[0;32m---> 52\u001B[0m     game_tables \u001B[38;5;241m=\u001B[39m \u001B[43mutils\u001B[49m\u001B[38;5;241;43m.\u001B[39;49m\u001B[43mextract_game\u001B[49m\u001B[43m(\u001B[49m\u001B[43mutils\u001B[49m\u001B[38;5;241;43m.\u001B[39;49m\u001B[43mget_image_paths\u001B[49m\u001B[43m(\u001B[49m\u001B[43msrc_path\u001B[49m\u001B[43m,\u001B[49m\u001B[38;5;28;43mself\u001B[39;49m\u001B[38;5;241;43m.\u001B[39;49m\u001B[43mdata_set_id\u001B[49m\u001B[43m)\u001B[49m\u001B[43m)\u001B[49m\n\u001B[1;32m     53\u001B[0m     relevant_game_tables \u001B[38;5;241m=\u001B[39m utils\u001B[38;5;241m.\u001B[39mextract_relevant_game(game_tables)\n\u001B[1;32m     55\u001B[0m     output_file_prefix \u001B[38;5;241m=\u001B[39m \u001B[38;5;124m\"\u001B[39m\u001B[38;5;124m/\u001B[39m\u001B[38;5;124m\"\u001B[39m \u001B[38;5;241m+\u001B[39m \u001B[38;5;28mstr\u001B[39m(\u001B[38;5;28mself\u001B[39m\u001B[38;5;241m.\u001B[39mdata_set_id) \u001B[38;5;241m+\u001B[39m \u001B[38;5;124m\"\u001B[39m\u001B[38;5;124m_\u001B[39m\u001B[38;5;124m\"\u001B[39m\n",
      "File \u001B[0;32m~/PycharmProjects/Mathable-Image-Solver/utils.py:181\u001B[0m, in \u001B[0;36mextract_game\u001B[0;34m(image_paths, size)\u001B[0m\n\u001B[1;32m    179\u001B[0m \u001B[38;5;28;01mfor\u001B[39;00m i \u001B[38;5;129;01min\u001B[39;00m tqdm(\u001B[38;5;28mrange\u001B[39m(size)):\n\u001B[1;32m    180\u001B[0m     img \u001B[38;5;241m=\u001B[39m cv\u001B[38;5;241m.\u001B[39mimread(image_paths[i])\n\u001B[0;32m--> 181\u001B[0m     result \u001B[38;5;241m=\u001B[39m \u001B[43mget_game_countour\u001B[49m\u001B[43m(\u001B[49m\u001B[43mimg\u001B[49m\u001B[43m)\u001B[49m\n\u001B[1;32m    182\u001B[0m     images\u001B[38;5;241m.\u001B[39mappend(result)\n\u001B[1;32m    183\u001B[0m \u001B[38;5;28;01mreturn\u001B[39;00m np\u001B[38;5;241m.\u001B[39marray(images)\n",
      "File \u001B[0;32m~/PycharmProjects/Mathable-Image-Solver/utils.py:118\u001B[0m, in \u001B[0;36mget_game_countour\u001B[0;34m(image, output)\u001B[0m\n\u001B[1;32m    109\u001B[0m \u001B[38;5;28;01mdef\u001B[39;00m \u001B[38;5;21mget_game_countour\u001B[39m(image,output \u001B[38;5;241m=\u001B[39m \u001B[38;5;28;01mFalse\u001B[39;00m):\n\u001B[1;32m    111\u001B[0m \u001B[38;5;250m    \u001B[39m\u001B[38;5;124;03m\"\"\"\u001B[39;00m\n\u001B[1;32m    112\u001B[0m \n\u001B[1;32m    113\u001B[0m \u001B[38;5;124;03m    :param image: Mathable image\u001B[39;00m\n\u001B[1;32m    114\u001B[0m \u001B[38;5;124;03m    :param output: if true, show intermediate images\u001B[39;00m\n\u001B[1;32m    115\u001B[0m \u001B[38;5;124;03m    :return: Cropped mathable game image\u001B[39;00m\n\u001B[1;32m    116\u001B[0m \u001B[38;5;124;03m    \"\"\"\u001B[39;00m\n\u001B[0;32m--> 118\u001B[0m     masked_image \u001B[38;5;241m=\u001B[39m \u001B[43mget_outer_masked_image\u001B[49m\u001B[43m(\u001B[49m\u001B[43mimage\u001B[49m\u001B[43m)\u001B[49m\n\u001B[1;32m    119\u001B[0m     masked_image_grey \u001B[38;5;241m=\u001B[39m cv\u001B[38;5;241m.\u001B[39mcvtColor(masked_image, cv\u001B[38;5;241m.\u001B[39mCOLOR_BGR2GRAY)\n\u001B[1;32m    121\u001B[0m     show_image_cv(\u001B[38;5;124m\"\u001B[39m\u001B[38;5;124mmasked_image_grey\u001B[39m\u001B[38;5;124m\"\u001B[39m,masked_image_grey,output \u001B[38;5;241m=\u001B[39m output)\n",
      "File \u001B[0;32m~/PycharmProjects/Mathable-Image-Solver/utils.py:102\u001B[0m, in \u001B[0;36mget_outer_masked_image\u001B[0;34m(img, output)\u001B[0m\n\u001B[1;32m     99\u001B[0m mask \u001B[38;5;241m=\u001B[39m cv\u001B[38;5;241m.\u001B[39minRange(hsv_image, lower_hsv_bound, upper_hsv_bound)\n\u001B[1;32m    100\u001B[0m show_image_cv(\u001B[38;5;124m\"\u001B[39m\u001B[38;5;124mmask\u001B[39m\u001B[38;5;124m\"\u001B[39m,mask,output \u001B[38;5;241m=\u001B[39m output)\n\u001B[0;32m--> 102\u001B[0m new_image \u001B[38;5;241m=\u001B[39m \u001B[43mcv\u001B[49m\u001B[38;5;241;43m.\u001B[39;49m\u001B[43mbitwise_and\u001B[49m\u001B[43m(\u001B[49m\u001B[43mimg\u001B[49m\u001B[43m,\u001B[49m\u001B[43m \u001B[49m\u001B[43mimg\u001B[49m\u001B[43m,\u001B[49m\u001B[43m \u001B[49m\u001B[43mmask\u001B[49m\u001B[38;5;241;43m=\u001B[39;49m\u001B[43mmask\u001B[49m\u001B[43m)\u001B[49m\n\u001B[1;32m    103\u001B[0m show_image_cv(\u001B[38;5;124m\"\u001B[39m\u001B[38;5;124mceva\u001B[39m\u001B[38;5;124m\"\u001B[39m,new_image,output \u001B[38;5;241m=\u001B[39m output)\n\u001B[1;32m    105\u001B[0m \u001B[38;5;28;01mreturn\u001B[39;00m new_image\n",
      "\u001B[0;31mKeyboardInterrupt\u001B[0m: "
     ]
    }
   ],
   "execution_count": 171
  },
  {
   "metadata": {
    "ExecuteTime": {
     "end_time": "2024-11-21T18:20:02.086564Z",
     "start_time": "2024-11-21T18:19:05.862967Z"
    }
   },
   "cell_type": "code",
   "source": [
    "for i in range(4):\n",
    "    solver = Solver(i+1)\n",
    "    solver.solve()"
   ],
   "id": "58861675a12d2dc3",
   "outputs": [
    {
     "name": "stderr",
     "output_type": "stream",
     "text": [
      "100%|██████████| 50/50 [00:13<00:00,  3.75it/s]\n",
      "100%|██████████| 50/50 [00:00<00:00, 116.35it/s]\n",
      "100%|██████████| 50/50 [00:00<00:00, 270.18it/s]\n",
      "100%|██████████| 50/50 [00:13<00:00,  3.75it/s]\n",
      "100%|██████████| 50/50 [00:00<00:00, 117.20it/s]\n",
      "100%|██████████| 50/50 [00:00<00:00, 259.35it/s]\n",
      "100%|██████████| 50/50 [00:13<00:00,  3.75it/s]\n",
      "100%|██████████| 50/50 [00:00<00:00, 125.34it/s]\n",
      "100%|██████████| 50/50 [00:00<00:00, 260.77it/s]\n",
      "100%|██████████| 50/50 [00:13<00:00,  3.76it/s]\n",
      "100%|██████████| 50/50 [00:00<00:00, 121.78it/s]\n",
      "100%|██████████| 50/50 [00:00<00:00, 251.12it/s]\n"
     ]
    }
   ],
   "execution_count": 172
  },
  {
   "metadata": {
    "ExecuteTime": {
     "end_time": "2024-11-21T18:28:39.892991Z",
     "start_time": "2024-11-21T18:27:50.973497Z"
    }
   },
   "cell_type": "code",
   "source": [
    "img = utils.extract_game([\"./antrenare/2_17.jpg\"])\n",
    "img = utils.extract_relevant_game(img)[0]\n",
    "img = cv.cvtColor(img, cv.COLOR_BGR2GRAY)\n",
    "_,table_binary = cv.threshold(img,65,255,cv.THRESH_BINARY_INV)\n",
    "\n",
    "show_image_cv(\"\",table_binary,fx=0.3,fy=0.3)\n"
   ],
   "id": "2d1de1f53370f1b8",
   "outputs": [
    {
     "name": "stderr",
     "output_type": "stream",
     "text": [
      "100%|██████████| 1/1 [00:00<00:00,  3.52it/s]\n",
      "100%|██████████| 1/1 [00:00<00:00, 87.17it/s]\n"
     ]
    }
   ],
   "execution_count": 181
  }
 ],
 "metadata": {
  "kernelspec": {
   "display_name": "Python 3",
   "language": "python",
   "name": "python3"
  },
  "language_info": {
   "codemirror_mode": {
    "name": "ipython",
    "version": 2
   },
   "file_extension": ".py",
   "mimetype": "text/x-python",
   "name": "python",
   "nbconvert_exporter": "python",
   "pygments_lexer": "ipython2",
   "version": "2.7.6"
  }
 },
 "nbformat": 4,
 "nbformat_minor": 5
}
